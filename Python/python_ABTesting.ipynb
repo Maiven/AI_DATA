{
  "nbformat": 4,
  "nbformat_minor": 0,
  "metadata": {
    "colab": {
      "name": "python_ABTesting.ipynb",
      "provenance": [],
      "collapsed_sections": [],
      "authorship_tag": "ABX9TyOq8ARw9wVebFlYUI6nVAUA",
      "include_colab_link": true
    },
    "kernelspec": {
      "name": "python3",
      "display_name": "Python 3"
    }
  },
  "cells": [
    {
      "cell_type": "markdown",
      "metadata": {
        "id": "view-in-github",
        "colab_type": "text"
      },
      "source": [
        "<a href=\"https://colab.research.google.com/github/Maiven/AI_Python/blob/main/Python/python_ABTesting.ipynb\" target=\"_parent\"><img src=\"https://colab.research.google.com/assets/colab-badge.svg\" alt=\"Open In Colab\"/></a>"
      ]
    },
    {
      "cell_type": "code",
      "metadata": {
        "id": "WrvopB4zrcLF"
      },
      "source": [
        "https://data101.oopy.io/ab-test-python-or-without-code"
      ],
      "execution_count": null,
      "outputs": []
    },
    {
      "cell_type": "code",
      "metadata": {
        "id": "JJP5GjEereyZ"
      },
      "source": [
        "예제 1. 디자인 시안 A,B에 따른 유저의 체류 시간 테스트하기\n"
      ],
      "execution_count": null,
      "outputs": []
    },
    {
      "cell_type": "code",
      "metadata": {
        "colab": {
          "base_uri": "https://localhost:8080/"
        },
        "id": "THH-mLZ3q6-8",
        "outputId": "e7ce82da-c425-40e1-a147-4aeaeba11faf"
      },
      "source": [
        "from scipy import stats\n",
        "\n",
        "# 데이터 담기\n",
        "design_A = [16.4, 12.6, 17.5, 18.8, 12.1, 13.2, 14.5, 12.4, 17.5, 25.4, 9.3, 10.4]\n",
        "design_B = [12.1, 11.8, 14.7, 13.1, 13.8, 10.1, 9.1, 13.5, 11.2, 13.7]\n",
        "\n",
        "# 검정 코드 실시\n",
        "stats.ttest_ind(design_A,\n",
        "                design_B,\n",
        "                equal_var=False)\n",
        "\n",
        "\n",
        "# 결과 보기\n",
        "#Ttest_indResult(statistic=1.933374622222914, pvalue=0.07227304704557012)\n"
      ],
      "execution_count": 3,
      "outputs": [
        {
          "output_type": "execute_result",
          "data": {
            "text/plain": [
              "Ttest_indResult(statistic=1.933374622222914, pvalue=0.07227304704557012)"
            ]
          },
          "metadata": {
            "tags": []
          },
          "execution_count": 3
        }
      ]
    },
    {
      "cell_type": "code",
      "metadata": {
        "id": "ECgTNEMtrZRZ"
      },
      "source": [
        "👊 한 줄 요약 버전 : pvalue 가 0.05보다 높으면 디자인 시안 A가 더 낫다고 말할 수 없다\n",
        "👀 통계적으로 해석하는 버전 (읽어보길 권장합니다. 어렵지 않아요!)\n",
        "1.\n",
        "많은 유저의 체류 시간 제각각을 비교하는 건 불가능한 일이므로 평균값을 가지고 비교합니다.\n",
        "2.\n",
        "A의 평균 체류시간이 더 길긴 하지만, 이 차이가 우연에서 비롯된 건 아닐까 하는 의문을 가져봅니다.\n",
        "3.\n",
        "\"평균 차이는 사실 없었다 (D = 0D=0)\"를 가설로 설정하고, 그것을 검정합니다. 검정 방법론은 \"독립 t 검정 (t - test)\"이라고 불립니다.\n",
        "그래서 클래스 이름도 ttest_ind() 인 것입니다. (t test, independent)\n",
        "4.\n",
        "pvalue는 \"평균 차이는 사실 없었다\" 라는 결론이 나올 확률입니다. 전통적인 통계학에서는 0.05를 기준으로, 그보다 pvalue가 낮으면 그 결론을 기각 할만 하다고 봅니다.\n",
        "이를 \"이 평균 차이는 통계적으로 유의하다\"고 표현할 수 있습니다.\n",
        "5.\n",
        "그런데 이번 AB 테스트의 pvalue는 약 0.07로 0.05보다 높죠?\n",
        "→ 그럼 디자인 시안 A와 B 간의 체류시간 차이는 우연적인 결과로 나온 것이며, 통계적으로 유의미하다고 볼 수 없습니다.\n",
        "6.\n",
        "AB 테스트의 표면적 결과는 A의 체류시간이 평균 2.7초 정도 높게 나왔지만, 실은 이 결과를 토대로 \"A 디자인이 더 좋으며, 비즈니스에 바로 반영할만 하다\"고 볼 수는 없는 것입니다.\n"
      ],
      "execution_count": null,
      "outputs": []
    },
    {
      "cell_type": "code",
      "metadata": {
        "id": "lu33PMvXrNLt"
      },
      "source": [
        "예제 2. 디자인 시안 A,B에 따른 유저의 전환율(클릭) 차이 테스트하기\n"
      ],
      "execution_count": null,
      "outputs": []
    },
    {
      "cell_type": "code",
      "metadata": {
        "colab": {
          "base_uri": "https://localhost:8080/"
        },
        "id": "Dk5CBI38rinB",
        "outputId": "47e919d3-1a82-47b0-8350-baf0a3938bc1"
      },
      "source": [
        "import pandas as pd\n",
        "from scipy.stats import chi2_contingency\n",
        "\n",
        "\n",
        "def click_abtest(a_click, total_a, b_click, total_b):\n",
        "\n",
        "    click = [a_click, b_click] # A와 B의 클릭한 유저 수\n",
        "    no_click = [total_a - a_click, total_b - b_click]  # A와 B의 클릭 안 한 유저 수\n",
        "    cont_table = pd.DataFrame([click, no_click], columns=['A', 'B'], index=['click', 'no_click'])\n",
        "    chi2, p_val, d_f, expected = chi2_contingency([click, no_click])\n",
        "\n",
        "    print(\"카이제곱 통계량 :\", format(chi2, '.5f'))\n",
        "    print(\"pvalue :\", format(p_val, '.5f'))\n",
        "\n",
        "# A의 클릭수(13)와 A의 데이터 전체 개수(244), B의 클릭수(23)와 A의 데이터 전체 개수(287)를 정의한 클래스에 넣어줍니다.\n",
        "click_abtest(13, 244, 23, 287)\n"
      ],
      "execution_count": 4,
      "outputs": [
        {
          "output_type": "stream",
          "text": [
            "카이제곱 통계량 : 1.11053\n",
            "pvalue : 0.29197\n"
          ],
          "name": "stdout"
        }
      ]
    },
    {
      "cell_type": "code",
      "metadata": {
        "id": "ALBbfHUSri49"
      },
      "source": [
        "👊 한 줄 요약 버전 : pvalue 가 0.05보다 높으면 디자인 시안 B가 더 낫다고 말할 수 없다\n",
        "👀 통계적으로 해석하는 버전 (읽어보길 권장합니다. 어렵지 않아요!)\n",
        "1.\n",
        "클릭을 했느냐, 안 했느냐 여부는 체류시간 (3초, 5.2초 등)과 다르게, 특정 값으로 평균 내기 어려운 데이터입니다.\n",
        "(이를 nominal하다 혹은 명목범주의 데이터 라고 부릅니다)\n",
        "2.\n",
        "따라서 예제 1과 다른 방법으로 접근해야 하며, 이때 사용되는 방법을 카이제곱검정이라고 합니다.\n",
        "(chi^2chi \n",
        "2\n",
        " , chi sqaured test)\n",
        "3.\n",
        "기대빈도와 컨틴전시 테이블 개념은 해당 AB 테스트 상황에 필요한 정보는 아니므로 생략합니다.\n",
        "해당 정보는 위 코드에 따라서 expected 라는 변수에 담겨 나오게 됩니다.\n",
        "4.\n",
        "전환율에 대한 AB테스트 방법론에는 빈도주의와 베이지안 접근법이 있으나 직관적인 이해와 사용을 위해서 빈도주의에 기반한 카이제곱 검정만을 소개했습니다.\n"
      ],
      "execution_count": null,
      "outputs": []
    }
  ]
}