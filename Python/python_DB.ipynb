{
  "nbformat": 4,
  "nbformat_minor": 0,
  "metadata": {
    "colab": {
      "name": "python_DB.ipynb",
      "provenance": [],
      "collapsed_sections": [],
      "authorship_tag": "ABX9TyMesGZcVMVGQTE5Lo6LICES",
      "include_colab_link": true
    },
    "kernelspec": {
      "name": "python3",
      "display_name": "Python 3"
    }
  },
  "cells": [
    {
      "cell_type": "markdown",
      "metadata": {
        "id": "view-in-github",
        "colab_type": "text"
      },
      "source": [
        "<a href=\"https://colab.research.google.com/github/Maiven/medium_and_blog/blob/main/Python/python_DB.ipynb\" target=\"_parent\"><img src=\"https://colab.research.google.com/assets/colab-badge.svg\" alt=\"Open In Colab\"/></a>"
      ]
    },
    {
      "cell_type": "code",
      "metadata": {
        "id": "hQssj5D_oxuB"
      },
      "source": [
        "import sqlite3\n",
        "\n",
        "class Database(object):\n",
        "    def __init__(self):\n",
        "        self.connection = sqlite3.connect(\"Database.db\")\n",
        "        self.cursor = self.connection.cursor()\n",
        "        self.table_name = \"Table_Example\"\n",
        "        self.cursor.execute(f\"CREATE TABLE IF NOT EXISTS {self.table_name} \\\n",
        "                            (column_1 INT, column_2 TEXT, column_3 REAL)\")\n",
        "        \n",
        "    def insert_data(self):\n",
        "        column_1 = int(input(\"Enter Int: \"))\n",
        "        column_2 = input(\"Enter String: \")\n",
        "        column_3 = float(input(\"Enter Float: \"))\n",
        "        self.cursor.execute(f\"INSERT INTO {self.table_name} \\\n",
        "            (column_1, column_2, column_3) VALUES(?,?,?)\",(column_1, column_2, column_3))\n",
        "        \n",
        "        self.connection.commit()\n",
        "        print(\"Data Saved\")\n",
        "    \n",
        "    def read_data(self):\n",
        "        self.cursor.execute(f\"SELECT * FROM {self.table_name}\")\n",
        "        for row in self.cursor.fetchall():\n",
        "            print(row)\n",
        "\n",
        "if __name__ == \"__main__\":\n",
        "    database = Database()\n",
        "    database.insert_data()\n",
        "    database.read_data()\n",
        "    database.cursor.close()\n",
        "    database.connection.close()\n"
      ],
      "execution_count": null,
      "outputs": []
    }
  ]
}