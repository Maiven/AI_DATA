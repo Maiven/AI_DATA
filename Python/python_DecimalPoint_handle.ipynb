{
  "nbformat": 4,
  "nbformat_minor": 0,
  "metadata": {
    "colab": {
      "name": "python_DecimalPoint_handle.ipynb",
      "provenance": [],
      "collapsed_sections": [],
      "authorship_tag": "ABX9TyNe6ZVXhVCfBWUvmYy6UBOg",
      "include_colab_link": true
    },
    "kernelspec": {
      "name": "python3",
      "display_name": "Python 3"
    }
  },
  "cells": [
    {
      "cell_type": "markdown",
      "metadata": {
        "id": "view-in-github",
        "colab_type": "text"
      },
      "source": [
        "<a href=\"https://colab.research.google.com/github/Maiven/AI_Python/blob/main/Python/python_DecimalPoint_handle.ipynb\" target=\"_parent\"><img src=\"https://colab.research.google.com/assets/colab-badge.svg\" alt=\"Open In Colab\"/></a>"
      ]
    },
    {
      "cell_type": "markdown",
      "metadata": {
        "id": "sY6jDHiJGVMd"
      },
      "source": [
        "# 파이썬 자리수 조절(소수점,올림,반올림)"
      ]
    },
    {
      "cell_type": "markdown",
      "metadata": {
        "id": "p4BPzxYQGYmW"
      },
      "source": [
        "## 반올림\n",
        "- 소수점을 n번째 까지만 표현하고 반올림을 하고싶을때, round 함수를 사용하면된다.\n",
        "\n"
      ]
    },
    {
      "cell_type": "code",
      "metadata": {
        "colab": {
          "base_uri": "https://localhost:8080/"
        },
        "id": "kVt9wJS9GG-R",
        "outputId": "28d37345-44d3-4600-adeb-76949a338219"
      },
      "source": [
        "n = 7/15\n",
        "print(n)\n",
        "\n",
        "\n",
        "print(round(n,2))\n",
        "\n",
        "\n",
        "print(round(n,4))\n",
        "\n",
        "\n",
        "print(round(n))\n",
        "\n",
        "\n",
        "print(type(round(n)))\n"
      ],
      "execution_count": 4,
      "outputs": [
        {
          "output_type": "stream",
          "text": [
            "0.4666666666666667\n",
            "0.47\n",
            "0.4667\n",
            "0\n",
            "<class 'int'>\n"
          ],
          "name": "stdout"
        }
      ]
    },
    {
      "cell_type": "markdown",
      "metadata": {
        "id": "Qaa672njGce_"
      },
      "source": [
        "- 원하는 자리수만 표현이 가능하다. 두번째매개변수를 비우면 소수점 첫번째자리를 반올림하여 나타낸다.\n",
        "\n"
      ]
    },
    {
      "cell_type": "code",
      "metadata": {
        "id": "LBNuE9LPGd8S"
      },
      "source": [
        ">>> round(1.77777777777777"
      ],
      "execution_count": null,
      "outputs": []
    },
    {
      "cell_type": "markdown",
      "metadata": {
        "id": "GvN7uijyGfTg"
      },
      "source": [
        "- 소수점이아닌 정수도 반올림을 할 수 있다.\n",
        "\n"
      ]
    },
    {
      "cell_type": "code",
      "metadata": {
        "colab": {
          "base_uri": "https://localhost:8080/"
        },
        "id": "dseLkTDzGgox",
        "outputId": "5cba0b7e-082d-4fc5-c848-5ae4dec0b1d7"
      },
      "source": [
        "print(round(12345,-1))\n",
        "\n",
        "\n",
        "print(round(12345,-2))"
      ],
      "execution_count": 3,
      "outputs": [
        {
          "output_type": "stream",
          "text": [
            "12340\n",
            "12300\n"
          ],
          "name": "stdout"
        }
      ]
    },
    {
      "cell_type": "markdown",
      "metadata": {
        "id": "riCU8VKdGyIi"
      },
      "source": [
        "## 올림, 내림, 버림\n",
        "\n",
        "- 올림,내림,버림을 하기위해서 math 클래스안의 ceil, floor, trunc 함수를 사용해야한다.\n",
        "\n"
      ]
    },
    {
      "cell_type": "markdown",
      "metadata": {
        "id": "Qtj6HehwG1AY"
      },
      "source": [
        "math.ceil(i) : 올림\n",
        "\n",
        "math.floor(i) : 내림\n",
        "\n",
        "math.trunc(i) : 버림"
      ]
    },
    {
      "cell_type": "code",
      "metadata": {
        "id": "AdNLMUvNGhCD"
      },
      "source": [
        "import math\n",
        "\n",
        ">>> math.ceil(12.2)\n",
        "13\n",
        ">>> math.ceil(12.6)\n",
        "13\n",
        ">>> math.floor(12.2)\n",
        "12\n",
        ">>> math.floor(12.6)\n",
        "12\n",
        ">>> math.trunc(12.2)\n",
        "12\n",
        ">>> math.trunc(12.6)\n",
        "12"
      ],
      "execution_count": null,
      "outputs": []
    },
    {
      "cell_type": "code",
      "metadata": {
        "id": "Rs1Zhr0KHapX"
      },
      "source": [
        ""
      ],
      "execution_count": null,
      "outputs": []
    }
  ]
}