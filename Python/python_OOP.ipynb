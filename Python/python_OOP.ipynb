{
  "nbformat": 4,
  "nbformat_minor": 0,
  "metadata": {
    "colab": {
      "name": "python_OOP.ipynb",
      "provenance": [],
      "collapsed_sections": [],
      "authorship_tag": "ABX9TyMPwl295w9bw60MyYlS6OGz",
      "include_colab_link": true
    },
    "kernelspec": {
      "name": "python3",
      "display_name": "Python 3"
    }
  },
  "cells": [
    {
      "cell_type": "markdown",
      "metadata": {
        "id": "view-in-github",
        "colab_type": "text"
      },
      "source": [
        "<a href=\"https://colab.research.google.com/github/Maiven/medium_and_blog/blob/main/Python/python_OOP.ipynb\" target=\"_parent\"><img src=\"https://colab.research.google.com/assets/colab-badge.svg\" alt=\"Open In Colab\"/></a>"
      ]
    },
    {
      "cell_type": "code",
      "metadata": {
        "colab": {
          "base_uri": "https://localhost:8080/"
        },
        "id": "5oaGnenRjsZd",
        "outputId": "70bc4189-a3a1-44a4-e615-2797968dcb83"
      },
      "source": [
        "import random\n",
        "import collections\n",
        "\n",
        "Card = collections.namedtuple(\"Card\", [\"rank\", \"suit\"])\n",
        "\n",
        "class Deck_Of_Cards(object):\n",
        "  ranks = [str(n) for n in range(2,11)] + list(\"JQKA\")\n",
        "  suits = \"Spades Diamonds Clubs Hearts\".split()\n",
        "\n",
        "\n",
        "  def __init__(self):\n",
        "    self._cards = [Card(rank, suit) for suit in self.suits\n",
        "                   for rank in self.ranks]\n",
        "\n",
        "  def __len__(self):\n",
        "    return len(self._cards)\n",
        "\n",
        "  def __getitem__(self, position):\n",
        "    return self._cards[position]\n",
        "\n",
        "if __name__ == \"__main__\":\n",
        "  deck = Deck_Of_Cards()\n",
        "  print(f\"Length of deck: {len(deck)}\")\n",
        "  print(\"Print 5 random cards:\\n\" + \"-\" * 15)\n",
        "  for i in range(5):\n",
        "    print(f\"Card #{i}: {random.choice(deck)}\")"
      ],
      "execution_count": 7,
      "outputs": [
        {
          "output_type": "stream",
          "text": [
            "Length of deck: 52\n",
            "Print 5 random cards:\n",
            "---------------\n",
            "Card #0: Card(rank='3', suit='Clubs')\n",
            "Card #1: Card(rank='J', suit='Spades')\n",
            "Card #2: Card(rank='Q', suit='Clubs')\n",
            "Card #3: Card(rank='Q', suit='Hearts')\n",
            "Card #4: Card(rank='K', suit='Hearts')\n"
          ],
          "name": "stdout"
        }
      ]
    }
  ]
}