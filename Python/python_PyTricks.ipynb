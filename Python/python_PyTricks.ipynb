{
  "nbformat": 4,
  "nbformat_minor": 0,
  "metadata": {
    "colab": {
      "name": "python_PyTricks.ipynb",
      "provenance": [],
      "collapsed_sections": [],
      "authorship_tag": "ABX9TyNKCC8aEDerHbnDcsHKJAFY",
      "include_colab_link": true
    },
    "kernelspec": {
      "name": "python3",
      "display_name": "Python 3"
    }
  },
  "cells": [
    {
      "cell_type": "markdown",
      "metadata": {
        "id": "view-in-github",
        "colab_type": "text"
      },
      "source": [
        "<a href=\"https://colab.research.google.com/github/Maiven/AI_Python/blob/main/Python/python_PyTricks.ipynb\" target=\"_parent\"><img src=\"https://colab.research.google.com/assets/colab-badge.svg\" alt=\"Open In Colab\"/></a>"
      ]
    },
    {
      "cell_type": "markdown",
      "metadata": {
        "id": "W4qpjRsrW7Er"
      },
      "source": [
        "# Merging two dicts in Python 3.5+ with a single expression"
      ]
    },
    {
      "cell_type": "code",
      "metadata": {
        "colab": {
          "base_uri": "https://localhost:8080/"
        },
        "id": "85LFbmlEWzuJ",
        "outputId": "0adce1fb-7d9a-444d-f5bf-2150847bc827"
      },
      "source": [
        "# How to merge two dictionaries\n",
        "# in Python 3.5+\n",
        "\n",
        "x = {'a': 1, 'b': 2}\n",
        "y = {'b': 3, 'c': 4}\n",
        "\n",
        "z = {**x, **y}\n",
        "\n",
        "print(z)\n",
        "#{'c': 4, 'a': 1, 'b': 3}\n",
        "\n",
        "# In Python 2.x you could\n",
        "# use this:\n",
        "z = dict(x, **y)\n",
        "print(z)\n",
        "#{'a': 1, 'c': 4, 'b': 3}\n",
        "\n",
        "# In these examples, Python merges dictionary keys\n",
        "# in the order listed in the expression, overwriting \n",
        "# duplicates from left to right.\n",
        "#\n"
      ],
      "execution_count": null,
      "outputs": [
        {
          "output_type": "stream",
          "text": [
            "{'a': 1, 'b': 3, 'c': 4}\n",
            "{'a': 1, 'b': 3, 'c': 4}\n"
          ],
          "name": "stdout"
        }
      ]
    },
    {
      "cell_type": "code",
      "metadata": {
        "colab": {
          "base_uri": "https://localhost:8080/"
        },
        "id": "9OFc0PsTW9S-",
        "outputId": "accc5113-cc7f-442c-8a03-b39c2ca2dcd8"
      },
      "source": [
        "python = [0,1,2,3]\n",
        "python.append(4)\n",
        "python"
      ],
      "execution_count": null,
      "outputs": [
        {
          "output_type": "execute_result",
          "data": {
            "text/plain": [
              "[0, 1, 2, 3, 4]"
            ]
          },
          "metadata": {
            "tags": []
          },
          "execution_count": 13
        }
      ]
    },
    {
      "cell_type": "code",
      "metadata": {
        "colab": {
          "base_uri": "https://localhost:8080/"
        },
        "id": "IgTbgtIKD246",
        "outputId": "51574226-b4de-4d5e-bf38-e28cf2ad4b68"
      },
      "source": [
        "python1 = list()\n",
        "python1.append(0)\n",
        "python1.append(1)\n",
        "python1.append(2)\n",
        "python1"
      ],
      "execution_count": null,
      "outputs": [
        {
          "output_type": "execute_result",
          "data": {
            "text/plain": [
              "[0, 1, 2]"
            ]
          },
          "metadata": {
            "tags": []
          },
          "execution_count": 12
        }
      ]
    },
    {
      "cell_type": "code",
      "metadata": {
        "id": "1Crc_IziD4nD",
        "colab": {
          "base_uri": "https://localhost:8080/"
        },
        "outputId": "7b82c733-8f43-4649-e1f5-e931f3f00eca"
      },
      "source": [
        "# Different ways to test multiple\n",
        "# flags at once in Python\n",
        "x, y, z = 0, 1, 0\n",
        "\n",
        "if x == 1 or y == 1 or z == 1:\n",
        "    print('passed')\n",
        "\n",
        "if 1 in (x, y, z):\n",
        "    print('passed')\n",
        "\n",
        "# These only test for truthiness:\n",
        "if x or y or z:\n",
        "    print('passed')\n",
        "\n",
        "if any((x, y, z)):\n",
        "    print('passed')"
      ],
      "execution_count": 1,
      "outputs": [
        {
          "output_type": "stream",
          "text": [
            "passed\n",
            "passed\n",
            "passed\n",
            "passed\n"
          ],
          "name": "stdout"
        }
      ]
    },
    {
      "cell_type": "code",
      "metadata": {
        "id": "SrL8ZaN8mkOu"
      },
      "source": [
        ""
      ],
      "execution_count": null,
      "outputs": []
    }
  ]
}