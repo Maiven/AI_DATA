{
  "nbformat": 4,
  "nbformat_minor": 0,
  "metadata": {
    "colab": {
      "name": "python_PyTricks.ipynb",
      "provenance": [],
      "collapsed_sections": [],
      "toc_visible": true,
      "authorship_tag": "ABX9TyPelXRZSvdH8qCfdxWLeK/i",
      "include_colab_link": true
    },
    "kernelspec": {
      "name": "python3",
      "display_name": "Python 3"
    }
  },
  "cells": [
    {
      "cell_type": "markdown",
      "metadata": {
        "id": "view-in-github",
        "colab_type": "text"
      },
      "source": [
        "<a href=\"https://colab.research.google.com/github/Maiven/AI_Python/blob/main/Python/python_PyTricks.ipynb\" target=\"_parent\"><img src=\"https://colab.research.google.com/assets/colab-badge.svg\" alt=\"Open In Colab\"/></a>"
      ]
    },
    {
      "cell_type": "markdown",
      "metadata": {
        "id": "sSAWiuKYQlUD"
      },
      "source": [
        "https://realpython.com/team/dbader/\n",
        "\n",
        "- 튜토리얼 목차 참조\n"
      ]
    },
    {
      "cell_type": "markdown",
      "metadata": {
        "id": "W4qpjRsrW7Er"
      },
      "source": [
        "# Merging two dicts in Python 3.5+ with a single expression"
      ]
    },
    {
      "cell_type": "code",
      "metadata": {
        "colab": {
          "base_uri": "https://localhost:8080/"
        },
        "id": "85LFbmlEWzuJ",
        "outputId": "0adce1fb-7d9a-444d-f5bf-2150847bc827"
      },
      "source": [
        "# How to merge two dictionaries\n",
        "# in Python 3.5+\n",
        "\n",
        "x = {'a': 1, 'b': 2}\n",
        "y = {'b': 3, 'c': 4}\n",
        "\n",
        "z = {**x, **y}\n",
        "\n",
        "print(z)\n",
        "#{'c': 4, 'a': 1, 'b': 3}\n",
        "\n",
        "# In Python 2.x you could\n",
        "# use this:\n",
        "z = dict(x, **y)\n",
        "print(z)\n",
        "#{'a': 1, 'c': 4, 'b': 3}\n",
        "\n",
        "# In these examples, Python merges dictionary keys\n",
        "# in the order listed in the expression, overwriting \n",
        "# duplicates from left to right.\n",
        "#\n"
      ],
      "execution_count": null,
      "outputs": [
        {
          "output_type": "stream",
          "text": [
            "{'a': 1, 'b': 3, 'c': 4}\n",
            "{'a': 1, 'b': 3, 'c': 4}\n"
          ],
          "name": "stdout"
        }
      ]
    },
    {
      "cell_type": "code",
      "metadata": {
        "colab": {
          "base_uri": "https://localhost:8080/"
        },
        "id": "9OFc0PsTW9S-",
        "outputId": "accc5113-cc7f-442c-8a03-b39c2ca2dcd8"
      },
      "source": [
        "python = [0,1,2,3]\n",
        "python.append(4)\n",
        "python"
      ],
      "execution_count": null,
      "outputs": [
        {
          "output_type": "execute_result",
          "data": {
            "text/plain": [
              "[0, 1, 2, 3, 4]"
            ]
          },
          "metadata": {
            "tags": []
          },
          "execution_count": 13
        }
      ]
    },
    {
      "cell_type": "code",
      "metadata": {
        "colab": {
          "base_uri": "https://localhost:8080/"
        },
        "id": "IgTbgtIKD246",
        "outputId": "51574226-b4de-4d5e-bf38-e28cf2ad4b68"
      },
      "source": [
        "python1 = list()\n",
        "python1.append(0)\n",
        "python1.append(1)\n",
        "python1.append(2)\n",
        "python1"
      ],
      "execution_count": null,
      "outputs": [
        {
          "output_type": "execute_result",
          "data": {
            "text/plain": [
              "[0, 1, 2]"
            ]
          },
          "metadata": {
            "tags": []
          },
          "execution_count": 12
        }
      ]
    },
    {
      "cell_type": "code",
      "metadata": {
        "id": "1Crc_IziD4nD",
        "colab": {
          "base_uri": "https://localhost:8080/"
        },
        "outputId": "7b82c733-8f43-4649-e1f5-e931f3f00eca"
      },
      "source": [
        "# Different ways to test multiple\n",
        "# flags at once in Python\n",
        "x, y, z = 0, 1, 0\n",
        "\n",
        "if x == 1 or y == 1 or z == 1:\n",
        "    print('passed')\n",
        "\n",
        "if 1 in (x, y, z):\n",
        "    print('passed')\n",
        "\n",
        "# These only test for truthiness:\n",
        "if x or y or z:\n",
        "    print('passed')\n",
        "\n",
        "if any((x, y, z)):\n",
        "    print('passed')"
      ],
      "execution_count": null,
      "outputs": [
        {
          "output_type": "stream",
          "text": [
            "passed\n",
            "passed\n",
            "passed\n",
            "passed\n"
          ],
          "name": "stdout"
        }
      ]
    },
    {
      "cell_type": "code",
      "metadata": {
        "id": "SrL8ZaN8mkOu"
      },
      "source": [
        ""
      ],
      "execution_count": null,
      "outputs": []
    },
    {
      "cell_type": "code",
      "metadata": {
        "id": "5or1oSjNe7vo"
      },
      "source": [
        "# How to sort a Python dict by value\n",
        "# (== get a representation sorted by value)\n",
        "\n",
        ">>> xs = {'a': 4, 'b': 3, 'c': 2, 'd': 1}\n",
        "\n",
        ">>> sorted(xs.items(), key=lambda x: x[1])\n",
        "[('d', 1), ('c', 2), ('b', 3), ('a', 4)]\n",
        "\n",
        "# Or:\n",
        "\n",
        ">>> import operator\n",
        ">>> sorted(xs.items(), key=operator.itemgetter(1))\n",
        "[('d', 1), ('c', 2), ('b', 3), ('a', 4)]"
      ],
      "execution_count": null,
      "outputs": []
    },
    {
      "cell_type": "markdown",
      "metadata": {
        "id": "hj6kIU67yUAp"
      },
      "source": [
        "# Python's namedtuples can be a great alternative to defining a class manually"
      ]
    },
    {
      "cell_type": "code",
      "metadata": {
        "colab": {
          "base_uri": "https://localhost:8080/"
        },
        "id": "QUZLybNFyWP8",
        "outputId": "d1441984-a1de-4911-c094-c36fe854d5fc"
      },
      "source": [
        "# Why Python is Great: Namedtuples\n",
        "# Using namedtuple is way shorter than\n",
        "# defining a class manually:\n",
        "from collections import namedtuple\n",
        "Car = namedtuple('Car', 'color mileage')\n",
        "\n",
        "# Our new \"Car\" class works as expected:\n",
        "my_car = Car('red', 3812.4)\n",
        "print(my_car.color)\n",
        "\n",
        "print(my_car.mileage)\n",
        "\n",
        "\n",
        "# We get a nice string repr for free:\n",
        "print(my_car)\n",
        "#Car(color='red' , mileage=3812.4)\n",
        "\n",
        "# Like tuples, namedtuples are immutable:\n",
        "#my_car.color = 'blue'\n",
        "#AttributeError: \"can't set attribute\"\n"
      ],
      "execution_count": 9,
      "outputs": [
        {
          "output_type": "stream",
          "text": [
            "red\n",
            "3812.4\n",
            "Car(color='red', mileage=3812.4)\n"
          ],
          "name": "stdout"
        }
      ]
    },
    {
      "cell_type": "markdown",
      "metadata": {
        "id": "UNN_uIA-yn2a"
      },
      "source": [
        "# The get() method on Python dicts and its \"default\" arg"
      ]
    },
    {
      "cell_type": "code",
      "metadata": {
        "colab": {
          "base_uri": "https://localhost:8080/"
        },
        "id": "sHYuSZ9Sypqa",
        "outputId": "b5ca826c-7548-48fd-871c-c2f65cb50ccb"
      },
      "source": [
        "# The get() method on dicts\n",
        "# and its \"default\" argument\n",
        "\n",
        "name_for_userid = {\n",
        "    382: \"Alice\",\n",
        "    590: \"Bob\",\n",
        "    951: \"Dilbert\",\n",
        "}\n",
        "\n",
        "def greeting(userid):\n",
        "    return \"Hi %s!\" % name_for_userid.get(userid, \"there\")\n",
        "\n",
        "print(greeting(382))\n",
        "\n",
        "\n",
        "print(greeting(333333))\n",
        "#\"Hi there!\"\n"
      ],
      "execution_count": 11,
      "outputs": [
        {
          "output_type": "stream",
          "text": [
            "Hi Alice!\n",
            "Hi there!\n"
          ],
          "name": "stdout"
        }
      ]
    },
    {
      "cell_type": "markdown",
      "metadata": {
        "id": "YDeXpyUwy1nz"
      },
      "source": [
        "# How to sort a Python dict by value"
      ]
    },
    {
      "cell_type": "code",
      "metadata": {
        "colab": {
          "base_uri": "https://localhost:8080/"
        },
        "id": "PldTQuF4y3ak",
        "outputId": "0ee80ed5-6367-4a5f-b52a-e805cd694b4c"
      },
      "source": [
        "# How to sort a Python dict by value\n",
        "# (== get a representation sorted by value)\n",
        "\n",
        "xs = {'a': 4, 'b': 3, 'c': 2, 'd': 1}\n",
        "\n",
        "print(sorted(xs.items(), key=lambda x: x[1]))\n",
        "#[('d', 1), ('c', 2), ('b', 3), ('a', 4)]\n",
        "\n",
        "# Or:\n",
        "\n",
        "import operator\n",
        "print(sorted(xs.items(), key=operator.itemgetter(1)))\n"
      ],
      "execution_count": 13,
      "outputs": [
        {
          "output_type": "stream",
          "text": [
            "[('d', 1), ('c', 2), ('b', 3), ('a', 4)]\n",
            "[('d', 1), ('c', 2), ('b', 3), ('a', 4)]\n"
          ],
          "name": "stdout"
        }
      ]
    }
  ]
}