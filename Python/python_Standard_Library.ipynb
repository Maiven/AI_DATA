{
  "nbformat": 4,
  "nbformat_minor": 0,
  "metadata": {
    "colab": {
      "name": "python_Standard_Library.ipynb",
      "provenance": [],
      "collapsed_sections": [],
      "authorship_tag": "ABX9TyMf3ck0hP4vTQOCMWF3CZDG",
      "include_colab_link": true
    },
    "kernelspec": {
      "name": "python3",
      "display_name": "Python 3"
    }
  },
  "cells": [
    {
      "cell_type": "markdown",
      "metadata": {
        "id": "view-in-github",
        "colab_type": "text"
      },
      "source": [
        "<a href=\"https://colab.research.google.com/github/Maiven/AI_Python/blob/main/Python/python_Standard_Library.ipynb\" target=\"_parent\"><img src=\"https://colab.research.google.com/assets/colab-badge.svg\" alt=\"Open In Colab\"/></a>"
      ]
    },
    {
      "cell_type": "markdown",
      "metadata": {
        "id": "sPARgeYnQqmz"
      },
      "source": [
        "https://docs.python.org/ko/3/library/functions.html#func-range\n",
        "\n",
        "- 내장함수가 어디서 쓰이고 한계, 문제점을 알 수 있다."
      ]
    },
    {
      "cell_type": "markdown",
      "metadata": {
        "id": "iPU0Uo1sxDLn"
      },
      "source": [
        "# 파이썬 표준 라이브러리"
      ]
    },
    {
      "cell_type": "code",
      "metadata": {
        "colab": {
          "base_uri": "https://localhost:8080/"
        },
        "id": "97o0o5pmyAdw",
        "outputId": "10c0e81d-2c63-4370-f333-e44e34c0ea98"
      },
      "source": [
        "def all(iterable):\n",
        "    for element in iterable:\n",
        "        print(element)\n",
        "        if not element:\n",
        "            return False\n",
        "    return True\n",
        "\n",
        "print(all('test'))"
      ],
      "execution_count": 16,
      "outputs": [
        {
          "output_type": "stream",
          "text": [
            "t\n",
            "e\n",
            "s\n",
            "t\n",
            "True\n"
          ],
          "name": "stdout"
        }
      ]
    },
    {
      "cell_type": "code",
      "metadata": {
        "id": "OJGxsRFyzGXK"
      },
      "source": [
        ""
      ],
      "execution_count": null,
      "outputs": []
    }
  ]
}