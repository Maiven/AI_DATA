{
  "nbformat": 4,
  "nbformat_minor": 0,
  "metadata": {
    "colab": {
      "name": "python_collections.ipynb",
      "provenance": [],
      "collapsed_sections": [],
      "authorship_tag": "ABX9TyMp5KVM/NrWta6M6BiPOBHd",
      "include_colab_link": true
    },
    "kernelspec": {
      "name": "python3",
      "display_name": "Python 3"
    }
  },
  "cells": [
    {
      "cell_type": "markdown",
      "metadata": {
        "id": "view-in-github",
        "colab_type": "text"
      },
      "source": [
        "<a href=\"https://colab.research.google.com/github/Maiven/AI_Python/blob/main/Python/python_collections.ipynb\" target=\"_parent\"><img src=\"https://colab.research.google.com/assets/colab-badge.svg\" alt=\"Open In Colab\"/></a>"
      ]
    },
    {
      "cell_type": "markdown",
      "metadata": {
        "id": "8k5ugk8to_Qv"
      },
      "source": [
        "# Python Collections You Should Always Be Using\n"
      ]
    },
    {
      "cell_type": "markdown",
      "metadata": {
        "id": "8oe5ufx5pHr8"
      },
      "source": [
        "## namedtuple\n",
        "\n",
        "- namedtuple is an easy way to represent a small simple class with no methods, it gives code readability, makes debugging easier, and saves classes on every tiny little object.\n",
        "\n",
        "- namedtuple IMO is one of the most underused objects in the collections module.\n"
      ]
    },
    {
      "cell_type": "code",
      "metadata": {
        "id": "CjgmpMXwhBgV"
      },
      "source": [
        "from collections import namedtuple\n",
        "import math"
      ],
      "execution_count": 1,
      "outputs": []
    },
    {
      "cell_type": "code",
      "metadata": {
        "id": "GIJUUe13pUQ4"
      },
      "source": [
        "Dot = namedtuple('Dot', 'x y')\n"
      ],
      "execution_count": 2,
      "outputs": []
    },
    {
      "cell_type": "code",
      "metadata": {
        "id": "My5d3_uGpUfs"
      },
      "source": [
        "p1, p2 = Dot(0,0), Dot(0, 5)\n"
      ],
      "execution_count": 3,
      "outputs": []
    },
    {
      "cell_type": "code",
      "metadata": {
        "colab": {
          "base_uri": "https://localhost:8080/"
        },
        "id": "9efwGCbepVT4",
        "outputId": "122fdf83-fe85-4fb4-f1e8-4a00963b14d1"
      },
      "source": [
        "p1 , p2\n"
      ],
      "execution_count": 4,
      "outputs": [
        {
          "output_type": "execute_result",
          "data": {
            "text/plain": [
              "(Dot(x=0, y=0), Dot(x=0, y=5))"
            ]
          },
          "metadata": {
            "tags": []
          },
          "execution_count": 4
        }
      ]
    },
    {
      "cell_type": "code",
      "metadata": {
        "id": "RHt4UAuDpWEx"
      },
      "source": [
        "def distance(p1, p2):\n",
        "    x_distance = math.pow((p1.x - p2.x), 2)\n",
        "    y_distance = math.pow((p1.y - p2.y), 2)\n",
        "    return math.sqrt((x_distance + y_distance))\n"
      ],
      "execution_count": 5,
      "outputs": []
    },
    {
      "cell_type": "code",
      "metadata": {
        "colab": {
          "base_uri": "https://localhost:8080/"
        },
        "id": "Ur9wm8IQpXT4",
        "outputId": "38e5d3c6-cb29-460b-b460-c647787d4e6d"
      },
      "source": [
        "distance(p1, p2)\n"
      ],
      "execution_count": 6,
      "outputs": [
        {
          "output_type": "execute_result",
          "data": {
            "text/plain": [
              "5.0"
            ]
          },
          "metadata": {
            "tags": []
          },
          "execution_count": 6
        }
      ]
    },
    {
      "cell_type": "markdown",
      "metadata": {
        "id": "8uanQn-BpdC6"
      },
      "source": [
        "## deque\n",
        "\n",
        "- another underused and powerful data type, the deque is like a “list with benefits”.\n",
        "\n",
        "- I'm sure you're all working with lists all the time, but one of the lists most powerful features, are the order, and the pop & append.\n",
        "\n",
        "- pop and append in a list is O(1), but only the standard pop & append.\n",
        "\n",
        "- lists are great for LIFO (last in first out) but really bad for FIFO (first in first out), poping location n from a list or inserting to a specific location is O(n)!\n",
        "\n",
        "- This is where deque comes in handy, you can pop and insert from both sides in O(1), and can even rotate in an easy way — keeping the order but changing the starting point.\n",
        "\n",
        "- "
      ]
    },
    {
      "cell_type": "code",
      "metadata": {
        "id": "1SKcM26zpYQr"
      },
      "source": [
        "from collections import deque\n"
      ],
      "execution_count": 7,
      "outputs": []
    },
    {
      "cell_type": "code",
      "metadata": {
        "colab": {
          "base_uri": "https://localhost:8080/"
        },
        "id": "mACKJiF9pvYr",
        "outputId": "39a4696a-3a7b-43a9-c11e-4931a8172875"
      },
      "source": [
        "# creating a deque\n",
        "improved_list = deque([1,2,3,4])\n",
        "improved_list"
      ],
      "execution_count": 8,
      "outputs": [
        {
          "output_type": "execute_result",
          "data": {
            "text/plain": [
              "deque([1, 2, 3, 4])"
            ]
          },
          "metadata": {
            "tags": []
          },
          "execution_count": 8
        }
      ]
    },
    {
      "cell_type": "code",
      "metadata": {
        "colab": {
          "base_uri": "https://localhost:8080/"
        },
        "id": "QnhlLZ56q_3c",
        "outputId": "df8e7190-fa5a-42d5-b900-4c698ae6756b"
      },
      "source": [
        "# inserting at O(1)\n",
        "improved_list.appendleft(0)\n",
        "improved_list"
      ],
      "execution_count": 9,
      "outputs": [
        {
          "output_type": "execute_result",
          "data": {
            "text/plain": [
              "deque([0, 1, 2, 3, 4])"
            ]
          },
          "metadata": {
            "tags": []
          },
          "execution_count": 9
        }
      ]
    },
    {
      "cell_type": "code",
      "metadata": {
        "colab": {
          "base_uri": "https://localhost:8080/"
        },
        "id": "HT32IpTnrBFB",
        "outputId": "dc3ee27e-3696-4ecf-9bce-3cc21de8b1ec"
      },
      "source": [
        "# poping at O(1)\n",
        "improved_list.popleft()\n"
      ],
      "execution_count": 10,
      "outputs": [
        {
          "output_type": "execute_result",
          "data": {
            "text/plain": [
              "0"
            ]
          },
          "metadata": {
            "tags": []
          },
          "execution_count": 10
        }
      ]
    },
    {
      "cell_type": "code",
      "metadata": {
        "colab": {
          "base_uri": "https://localhost:8080/"
        },
        "id": "PTY1MuQarCn1",
        "outputId": "c90ddc13-1b0d-49c5-9e9f-f94a12bb08a4"
      },
      "source": [
        "improved_list\n"
      ],
      "execution_count": 11,
      "outputs": [
        {
          "output_type": "execute_result",
          "data": {
            "text/plain": [
              "deque([1, 2, 3, 4])"
            ]
          },
          "metadata": {
            "tags": []
          },
          "execution_count": 11
        }
      ]
    },
    {
      "cell_type": "code",
      "metadata": {
        "colab": {
          "base_uri": "https://localhost:8080/"
        },
        "id": "Rx_BxFz1rDeT",
        "outputId": "62bee65e-28ae-4db5-fd2a-6b6cb9b0d5c1"
      },
      "source": [
        "# changing starting point , keeping the order\n",
        "improved_list.rotate(1)\n",
        "improved_list\n"
      ],
      "execution_count": 12,
      "outputs": [
        {
          "output_type": "execute_result",
          "data": {
            "text/plain": [
              "deque([4, 1, 2, 3])"
            ]
          },
          "metadata": {
            "tags": []
          },
          "execution_count": 12
        }
      ]
    },
    {
      "cell_type": "markdown",
      "metadata": {
        "id": "x0PFpipTrGA6"
      },
      "source": [
        "## Counter\n",
        "\n",
        "- The counter is a simple and effective object, that counts!\n",
        "\n",
        "- It takes an input of strings, lists, anything you want, and count repetitions inside, all in just one line of code, and gives you easy access in a dictionary-style object.\n"
      ]
    },
    {
      "cell_type": "code",
      "metadata": {
        "id": "9posxjNtrEyT"
      },
      "source": [
        "from collections import Counter\n"
      ],
      "execution_count": 13,
      "outputs": []
    },
    {
      "cell_type": "code",
      "metadata": {
        "id": "Ap2gA_eUrPrS"
      },
      "source": [
        "c1 = Counter([2,3,1,2,3,5,3,6,7,9,5,3,4,5,6,4,3,4,6])\n",
        "c2 = Counter(\"gjfjadlfggfkgd;fkgd,fgfsfdjsfj\")\n"
      ],
      "execution_count": 14,
      "outputs": []
    },
    {
      "cell_type": "code",
      "metadata": {
        "colab": {
          "base_uri": "https://localhost:8080/"
        },
        "id": "EZmwY5X-rQxk",
        "outputId": "e5ff6479-71d6-4dd9-e7e9-07838313aa26"
      },
      "source": [
        "c1"
      ],
      "execution_count": 15,
      "outputs": [
        {
          "output_type": "execute_result",
          "data": {
            "text/plain": [
              "Counter({1: 1, 2: 2, 3: 5, 4: 3, 5: 3, 6: 3, 7: 1, 9: 1})"
            ]
          },
          "metadata": {
            "tags": []
          },
          "execution_count": 15
        }
      ]
    },
    {
      "cell_type": "code",
      "metadata": {
        "colab": {
          "base_uri": "https://localhost:8080/"
        },
        "id": "ookDKodcrR0z",
        "outputId": "c1082ab3-95c1-498e-c35a-5fb7f9bdc2f8"
      },
      "source": [
        "# shows the 3 most commom results\n",
        "\n",
        "c2.most_common(3)"
      ],
      "execution_count": 16,
      "outputs": [
        {
          "output_type": "execute_result",
          "data": {
            "text/plain": [
              "[('f', 8), ('g', 6), ('j', 4)]"
            ]
          },
          "metadata": {
            "tags": []
          },
          "execution_count": 16
        }
      ]
    },
    {
      "cell_type": "code",
      "metadata": {
        "colab": {
          "base_uri": "https://localhost:8080/"
        },
        "id": "RGBpYCCdrXYs",
        "outputId": "59ffac1c-9d6d-4888-8b36-7a06b005b9af"
      },
      "source": [
        "# no error even though object does not exist in original list\n",
        "c2['m']\n"
      ],
      "execution_count": 17,
      "outputs": [
        {
          "output_type": "execute_result",
          "data": {
            "text/plain": [
              "0"
            ]
          },
          "metadata": {
            "tags": []
          },
          "execution_count": 17
        }
      ]
    },
    {
      "cell_type": "code",
      "metadata": {
        "id": "J8qTBk9XrZ3x"
      },
      "source": [
        "text = \"\"\"how many times each word is written in this sentence? I can easily\n",
        "count, but what is this was a document? will I still count?\"\"\"\n",
        "org_text = text\n",
        "\n",
        "# this could be done much better with re module\n",
        "text.replace('?', '')\n",
        "text.replace(',', '')\n",
        "\n",
        "words_counter = Counter(text.split(' '))\n"
      ],
      "execution_count": 18,
      "outputs": []
    },
    {
      "cell_type": "code",
      "metadata": {
        "colab": {
          "base_uri": "https://localhost:8080/"
        },
        "id": "Rpjv_H67rboD",
        "outputId": "32a0ab86-783c-49c6-b3ca-aa2cc40e7a47"
      },
      "source": [
        "words_counter.most_common(3)\n"
      ],
      "execution_count": 19,
      "outputs": [
        {
          "output_type": "execute_result",
          "data": {
            "text/plain": [
              "[('is', 2), ('this', 2), ('I', 2)]"
            ]
          },
          "metadata": {
            "tags": []
          },
          "execution_count": 19
        }
      ]
    },
    {
      "cell_type": "code",
      "metadata": {
        "id": "jAacov2Lrc13"
      },
      "source": [
        ""
      ],
      "execution_count": null,
      "outputs": []
    }
  ]
}