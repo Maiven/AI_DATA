{
  "nbformat": 4,
  "nbformat_minor": 0,
  "metadata": {
    "colab": {
      "name": "python_comprehension.ipynb",
      "provenance": [],
      "collapsed_sections": [],
      "toc_visible": true,
      "authorship_tag": "ABX9TyPVayQk3Q+hKxcQwHUqf6G2",
      "include_colab_link": true
    },
    "kernelspec": {
      "name": "python3",
      "display_name": "Python 3"
    }
  },
  "cells": [
    {
      "cell_type": "markdown",
      "metadata": {
        "id": "view-in-github",
        "colab_type": "text"
      },
      "source": [
        "<a href=\"https://colab.research.google.com/github/Maiven/medium_and_blog/blob/main/Python/python_comprehension.ipynb\" target=\"_parent\"><img src=\"https://colab.research.google.com/assets/colab-badge.svg\" alt=\"Open In Colab\"/></a>"
      ]
    },
    {
      "cell_type": "markdown",
      "metadata": {
        "id": "xpqnVECU0fbc"
      },
      "source": [
        "# List_Comprehenssion"
      ]
    },
    {
      "cell_type": "code",
      "metadata": {
        "colab": {
          "base_uri": "https://localhost:8080/"
        },
        "id": "_myhf3Ao6QCh",
        "outputId": "2c7adfc4-d05f-40f2-d8e4-e07a5f8a6544"
      },
      "source": [
        "class List_Comprehenssion(object):\n",
        "    def __repr__(self):\n",
        "        string = str(f\"Bad Way:  {self.bad_way()}\\n\"\n",
        "                     f\"Easy Way: {self.easy_way()}\\n\")\n",
        "        return string\n",
        "\n",
        "\n",
        "    def bad_way(self):\n",
        "        evens = []\n",
        "        for i in range(10):\n",
        "            if i % 2 == 0:\n",
        "                evens.append(i)\n",
        "        return evens\n",
        "\n",
        "\n",
        "    def easy_way(self):\n",
        "        evens = [i for i in range(10) if i % 2 == 0]\n",
        "        return evens\n",
        "    \n",
        "\n",
        "if __name__ == \"__main__\":\n",
        "    print(List_Comprehenssion())\n"
      ],
      "execution_count": null,
      "outputs": [
        {
          "output_type": "stream",
          "text": [
            "Bad Way:  [0, 2, 4, 6, 8]\n",
            "Easy Way: [0, 2, 4, 6, 8]\n",
            "\n"
          ],
          "name": "stdout"
        }
      ]
    },
    {
      "cell_type": "code",
      "metadata": {
        "colab": {
          "base_uri": "https://localhost:8080/"
        },
        "id": "vuwVCow0Zo3s",
        "outputId": "24ae18ad-0c9c-4d2e-b78d-fc30c2c0f0e4"
      },
      "source": [
        "words = ['goodbye', 'cruel', 'world']\n",
        "words"
      ],
      "execution_count": null,
      "outputs": [
        {
          "output_type": "execute_result",
          "data": {
            "text/plain": [
              "['goodbye', 'cruel', 'world']"
            ]
          },
          "metadata": {
            "tags": []
          },
          "execution_count": 10
        }
      ]
    },
    {
      "cell_type": "code",
      "metadata": {
        "colab": {
          "base_uri": "https://localhost:8080/"
        },
        "id": "tn_tTxbPZrYs",
        "outputId": "ca565fe5-4406-4498-88f3-2e90a600426d"
      },
      "source": [
        "lengths = [len(x) for x in words]\n",
        "lengths"
      ],
      "execution_count": null,
      "outputs": [
        {
          "output_type": "execute_result",
          "data": {
            "text/plain": [
              "[7, 5, 5]"
            ]
          },
          "metadata": {
            "tags": []
          },
          "execution_count": 9
        }
      ]
    },
    {
      "cell_type": "code",
      "metadata": {
        "colab": {
          "base_uri": "https://localhost:8080/"
        },
        "id": "lCzjtaNpZtN7",
        "outputId": "341af957-1766-444c-e601-957d21249f8f"
      },
      "source": [
        "lengths = []\n",
        "for word in words:\n",
        "    lengths.append(len(word))\n",
        "lengths"
      ],
      "execution_count": null,
      "outputs": [
        {
          "output_type": "execute_result",
          "data": {
            "text/plain": [
              "[7, 5, 5]"
            ]
          },
          "metadata": {
            "tags": []
          },
          "execution_count": 8
        }
      ]
    },
    {
      "cell_type": "code",
      "metadata": {
        "id": "CKDPw31a6TLP",
        "colab": {
          "base_uri": "https://localhost:8080/"
        },
        "outputId": "c3f46d69-5877-43ab-a950-5fd8297ffc1c"
      },
      "source": [
        "#Dictionary comprehension\n",
        "\n",
        "data = {word: len(word) for word in words}\n",
        "data"
      ],
      "execution_count": null,
      "outputs": [
        {
          "output_type": "execute_result",
          "data": {
            "text/plain": [
              "{'cruel': 5, 'goodbye': 7, 'world': 5}"
            ]
          },
          "metadata": {
            "tags": []
          },
          "execution_count": 7
        }
      ]
    },
    {
      "cell_type": "code",
      "metadata": {
        "colab": {
          "base_uri": "https://localhost:8080/"
        },
        "id": "iu_hbGnUZi-x",
        "outputId": "66901ae3-c4fa-4807-e70e-a4f171cfb0bb"
      },
      "source": [
        "# Bonus: another useful trick for creating dictionaries is to zip two lists together.\n",
        "words = [\"hello\", \"old\", \"friend\"]\n",
        "lengths = [len(word) for word in words]\n",
        "data = dict(zip(words, lengths))\n",
        "data"
      ],
      "execution_count": null,
      "outputs": [
        {
          "output_type": "execute_result",
          "data": {
            "text/plain": [
              "{'friend': 6, 'hello': 5, 'old': 3}"
            ]
          },
          "metadata": {
            "tags": []
          },
          "execution_count": 11
        }
      ]
    },
    {
      "cell_type": "code",
      "metadata": {
        "colab": {
          "base_uri": "https://localhost:8080/"
        },
        "id": "MDwHcA10Z5vW",
        "outputId": "2a18db69-ec52-4e67-ae65-309e96761151"
      },
      "source": [
        "# Filtering\n",
        "words = ['deified', 'radar', 'guns']\n",
        "palindromes = [word for word in words if word == word[::-1]]\n",
        "palindromes"
      ],
      "execution_count": null,
      "outputs": [
        {
          "output_type": "execute_result",
          "data": {
            "text/plain": [
              "['deified', 'radar']"
            ]
          },
          "metadata": {
            "tags": []
          },
          "execution_count": 14
        }
      ]
    },
    {
      "cell_type": "code",
      "metadata": {
        "colab": {
          "base_uri": "https://localhost:8080/"
        },
        "id": "Jqf7DofpaHwE",
        "outputId": "d3b01f39-c96b-4624-a659-764732666c92"
      },
      "source": [
        "words = [\"not\", \"on\", \"my\", \"watch\"]\n",
        "data = {w: w[::-1] for w in words if len(w) < 5}\n",
        "data"
      ],
      "execution_count": null,
      "outputs": [
        {
          "output_type": "execute_result",
          "data": {
            "text/plain": [
              "{'my': 'ym', 'not': 'ton', 'on': 'no'}"
            ]
          },
          "metadata": {
            "tags": []
          },
          "execution_count": 15
        }
      ]
    },
    {
      "cell_type": "code",
      "metadata": {
        "colab": {
          "base_uri": "https://localhost:8080/"
        },
        "id": "DR1sr3__aWBb",
        "outputId": "768b7c2a-ded3-423c-dfb7-bd7744a7677a"
      },
      "source": [
        "# Level 1: Just Replace For-loops\n",
        "full_name = \"Yang Zhou\"\n",
        "characters = [char for char in full_name]\n",
        "print(full_name)\n",
        "print(characters)"
      ],
      "execution_count": null,
      "outputs": [
        {
          "output_type": "stream",
          "text": [
            "Yang Zhou\n",
            "['Y', 'a', 'n', 'g', ' ', 'Z', 'h', 'o', 'u']\n"
          ],
          "name": "stdout"
        }
      ]
    },
    {
      "cell_type": "code",
      "metadata": {
        "colab": {
          "base_uri": "https://localhost:8080/"
        },
        "id": "6vWbL6xQaZLl",
        "outputId": "1e8b55d2-9113-480d-9d6a-f1f886cce6b2"
      },
      "source": [
        "full_name = \"Yang Zhou\"\n",
        "characters = []\n",
        "for char in full_name:\n",
        "    characters.append(char)\n",
        "print(full_name)\n",
        "print(characters)"
      ],
      "execution_count": null,
      "outputs": [
        {
          "output_type": "stream",
          "text": [
            "Yang Zhou\n",
            "['Y', 'a', 'n', 'g', ' ', 'Z', 'h', 'o', 'u']\n"
          ],
          "name": "stdout"
        }
      ]
    },
    {
      "cell_type": "code",
      "metadata": {
        "colab": {
          "base_uri": "https://localhost:8080/"
        },
        "id": "g81NT1amaa5o",
        "outputId": "ae432ca2-4f03-4e28-8309-c4bc465fa60e"
      },
      "source": [
        "Matrix = [[2, 1, 5],\n",
        "          [5, 99, 0],\n",
        "          [33, 2, 4]]\n",
        "row_max = [max(row) for row in Matrix]\n",
        "print(row_max)"
      ],
      "execution_count": null,
      "outputs": [
        {
          "output_type": "stream",
          "text": [
            "[5, 99, 33]\n"
          ],
          "name": "stdout"
        }
      ]
    },
    {
      "cell_type": "code",
      "metadata": {
        "colab": {
          "base_uri": "https://localhost:8080/"
        },
        "id": "0uyjkTqlacUQ",
        "outputId": "8fec4ffe-f303-42fd-da01-e0b4cafd7a3f"
      },
      "source": [
        "# Level 2: Use the If Condition Smartly\n",
        "\n",
        "Genius = [\"Yang\", \"Tom\", \"Jerry\", \"Jack\", \"tom\", \"yang\"]\n",
        "L1 = [name for name in Genius if name.startswith('Y')]\n",
        "L2 = [name for name in Genius if name.startswith('Y') or len(name) < 4]\n",
        "L3 = [name for name in Genius if len(name) < 4 and name.islower()]\n",
        "print(L1, L2, L3)"
      ],
      "execution_count": null,
      "outputs": [
        {
          "output_type": "stream",
          "text": [
            "['Yang'] ['Yang', 'Tom', 'tom'] ['tom']\n"
          ],
          "name": "stdout"
        }
      ]
    },
    {
      "cell_type": "code",
      "metadata": {
        "colab": {
          "base_uri": "https://localhost:8080/"
        },
        "id": "g_3Tz3iWaemJ",
        "outputId": "f75ce884-b3f4-4207-a78a-350225ecab7c"
      },
      "source": [
        "# Level 3: Use a More Complex Expression\n",
        "\n",
        "Genius = [\"Jerry\", \"Jack\", \"tom\", \"yang\"]\n",
        "L1 = [name.capitalize() for name in Genius]\n",
        "print(L1)"
      ],
      "execution_count": null,
      "outputs": [
        {
          "output_type": "stream",
          "text": [
            "['Jerry', 'Jack', 'Tom', 'Yang']\n"
          ],
          "name": "stdout"
        }
      ]
    },
    {
      "cell_type": "code",
      "metadata": {
        "colab": {
          "base_uri": "https://localhost:8080/"
        },
        "id": "BEl6GHsqahBS",
        "outputId": "d33fd47d-c869-413b-c481-bd9fe6878f0c"
      },
      "source": [
        "\n",
        "Genius = [\"Jerry\", \"Jack\", \"tom\", \"yang\"]\n",
        "L1 = [name if name.startswith('y') else 'Not Genius' for name in Genius]\n",
        "print(L1)"
      ],
      "execution_count": null,
      "outputs": [
        {
          "output_type": "stream",
          "text": [
            "['Not Genius', 'Not Genius', 'Not Genius', 'yang']\n"
          ],
          "name": "stdout"
        }
      ]
    },
    {
      "cell_type": "code",
      "metadata": {
        "colab": {
          "base_uri": "https://localhost:8080/"
        },
        "id": "rbOfOgZGaiyd",
        "outputId": "4cce158f-c422-4611-8a1f-4f5b56c78da0"
      },
      "source": [
        "a = 1\n",
        "b = 2 if a>0 # SyntaxError: invalid syntax\n",
        "\n",
        "b = 2 if a > 0 else -1  \n",
        "# b==2,ternary conditional operator works \n",
        "b"
      ],
      "execution_count": null,
      "outputs": [
        {
          "output_type": "execute_result",
          "data": {
            "text/plain": [
              "2"
            ]
          },
          "metadata": {
            "tags": []
          },
          "execution_count": 25
        }
      ]
    },
    {
      "cell_type": "code",
      "metadata": {
        "colab": {
          "base_uri": "https://localhost:8080/"
        },
        "id": "Q39aPkeOauC8",
        "outputId": "ac1d921a-a415-476c-fb2e-f3de22011058"
      },
      "source": [
        "# Level 4: Use Nested For-Loops to Handle Nested Iterables\n",
        "\n",
        "\n",
        "Genius = [\"Jerry\", \"Jack\", \"tom\", \"yang\"]\n",
        "L1 = [char for name in Genius for char in name]\n",
        "print(L1)"
      ],
      "execution_count": null,
      "outputs": [
        {
          "output_type": "stream",
          "text": [
            "['J', 'e', 'r', 'r', 'y', 'J', 'a', 'c', 'k', 't', 'o', 'm', 'y', 'a', 'n', 'g']\n"
          ],
          "name": "stdout"
        }
      ]
    },
    {
      "cell_type": "code",
      "metadata": {
        "colab": {
          "base_uri": "https://localhost:8080/"
        },
        "id": "xMugI-nSa5da",
        "outputId": "94c365c1-7bea-44fe-d451-9f070ff410f6"
      },
      "source": [
        "Genius = [\"Jerry\", \"Jack\", \"tom\", \"yang\"]\n",
        "L1 = []\n",
        "for name in Genius:\n",
        "    for char in name:\n",
        "        L1.append(char)\n",
        "print(L1)"
      ],
      "execution_count": null,
      "outputs": [
        {
          "output_type": "stream",
          "text": [
            "['J', 'e', 'r', 'r', 'y', 'J', 'a', 'c', 'k', 't', 'o', 'm', 'y', 'a', 'n', 'g']\n"
          ],
          "name": "stdout"
        }
      ]
    },
    {
      "cell_type": "code",
      "metadata": {
        "colab": {
          "base_uri": "https://localhost:8080/"
        },
        "id": "elTHIgK_a5_4",
        "outputId": "2fe27a20-8915-47e0-f231-30a58f288b0b"
      },
      "source": [
        "Genius = [\"Jerry\", \"Jack\", \"tom\", \"yang\"]\n",
        "L1 = [char for name in Genius if len(name) < 4 for char in name]\n",
        "print(L1)"
      ],
      "execution_count": null,
      "outputs": [
        {
          "output_type": "stream",
          "text": [
            "['t', 'o', 'm']\n"
          ],
          "name": "stdout"
        }
      ]
    },
    {
      "cell_type": "code",
      "metadata": {
        "colab": {
          "base_uri": "https://localhost:8080/"
        },
        "id": "lEzkkLVJa7gt",
        "outputId": "3220b72c-3af3-49b9-e271-5dca5a373482"
      },
      "source": [
        "# Level 5: Avoid Higher Order Functions for Readability\n",
        "\n",
        "Genius = [\"Jerry\", \"Jack\", \"tom\", \"yang\"]\n",
        "L1 = filter(lambda a: len(a) < 4, Genius)\n",
        "print(list(L1))\n",
        "# ['tom']\n",
        "L2 = [a for a in Genius if len(a) < 4]\n",
        "print(L2)\n",
        "# ['tom']"
      ],
      "execution_count": null,
      "outputs": [
        {
          "output_type": "stream",
          "text": [
            "['tom']\n",
            "['tom']\n"
          ],
          "name": "stdout"
        }
      ]
    },
    {
      "cell_type": "code",
      "metadata": {
        "colab": {
          "base_uri": "https://localhost:8080/"
        },
        "id": "JVD6Vza5bA-m",
        "outputId": "cf4624fc-8e7f-4d62-9df8-74959046ce08"
      },
      "source": [
        "# Level 6: Use Generator Expressions to Reduce Memory Costs\n",
        "\n",
        "large_list = [x for x in range(1_000_000)]\n",
        "large_list_g = (x for x in range(1_000_000))\n",
        "print(large_list.__sizeof__())\n",
        "print(large_list_g.__sizeof__())"
      ],
      "execution_count": null,
      "outputs": [
        {
          "output_type": "stream",
          "text": [
            "8697440\n",
            "64\n"
          ],
          "name": "stdout"
        }
      ]
    },
    {
      "cell_type": "markdown",
      "metadata": {
        "id": "SK0fUOcLbL2K"
      },
      "source": [
        "# Level 7: Understand the Philosophy Behind the List Comprehension\n",
        "\n",
        "The intuitive reason to use the list comprehension is to make our code more neat and elegant. Furthermore, it’s a good practice of the functional programming paradigm. One of the functional programming philosophy is avoiding control flows. List comprehension can shift programmers’ focus from the control flow to the data collection itself. In other words, it’s a mentally shift from thinking of how a for-loop works to what the list is. It can help you think about the logic of the entire program more easily.\n"
      ]
    },
    {
      "cell_type": "code",
      "metadata": {
        "colab": {
          "base_uri": "https://localhost:8080/"
        },
        "id": "xsPW7t9ybnlo",
        "outputId": "9dbb9834-961e-4401-c9eb-8c352fba1f0a"
      },
      "source": [
        "numbers = [1, 2, 3, 4]\n",
        "squares = []\n",
        "\n",
        "for n in numbers:\n",
        "  squares.append(n**2)\n",
        "\n",
        "print(squares) "
      ],
      "execution_count": null,
      "outputs": [
        {
          "output_type": "stream",
          "text": [
            "[1, 4, 9, 16]\n"
          ],
          "name": "stdout"
        }
      ]
    },
    {
      "cell_type": "code",
      "metadata": {
        "colab": {
          "base_uri": "https://localhost:8080/"
        },
        "id": "-EafvwlwbqnE",
        "outputId": "df9200e5-affe-42f0-f3f4-76bba801a670"
      },
      "source": [
        "\n",
        "numbers = [1, 2, 3, 4]\n",
        "squares = [n**2 for n in numbers]\n",
        "\n",
        "print(squares) "
      ],
      "execution_count": null,
      "outputs": [
        {
          "output_type": "stream",
          "text": [
            "[1, 4, 9, 16]\n"
          ],
          "name": "stdout"
        }
      ]
    },
    {
      "cell_type": "code",
      "metadata": {
        "colab": {
          "base_uri": "https://localhost:8080/"
        },
        "id": "QcHUqsm8bsr9",
        "outputId": "b74d948f-fd13-4de6-d9a1-5685642c95a0"
      },
      "source": [
        "\n",
        "list_a = [1, 2, 3, 4]\n",
        "list_b = [2, 3, 4, 5]\n",
        "\n",
        "common_num = []\n",
        "\n",
        "for a in list_a:\n",
        "  for b in list_b:\n",
        "    if a == b:\n",
        "      common_num.append(a)\n",
        "      \n",
        "print(common_num)"
      ],
      "execution_count": null,
      "outputs": [
        {
          "output_type": "stream",
          "text": [
            "[2, 3, 4]\n"
          ],
          "name": "stdout"
        }
      ]
    },
    {
      "cell_type": "code",
      "metadata": {
        "colab": {
          "base_uri": "https://localhost:8080/"
        },
        "id": "n-qsccipbvPL",
        "outputId": "4d59c7b1-543b-469b-fde2-ce8d3df8818c"
      },
      "source": [
        "\n",
        "list_a = [1, 2, 3, 4]\n",
        "list_b = [2, 3, 4, 5]\n",
        "\n",
        "common_num = [a for a in list_a for b in list_b if a == b]\n",
        "\n",
        "print(common_num)"
      ],
      "execution_count": null,
      "outputs": [
        {
          "output_type": "stream",
          "text": [
            "[2, 3, 4]\n"
          ],
          "name": "stdout"
        }
      ]
    },
    {
      "cell_type": "code",
      "metadata": {
        "colab": {
          "base_uri": "https://localhost:8080/"
        },
        "id": "07jdErEsbwlz",
        "outputId": "892627f3-406d-45cc-95e1-1552b9ecc41a"
      },
      "source": [
        "\n",
        "list_a = [1, 2, 3]\n",
        "list_b = [2, 7]\n",
        "\n",
        "different_num = [(a, b) for a in list_a for b in list_b if a != b]\n",
        "\n",
        "print(different_num) "
      ],
      "execution_count": null,
      "outputs": [
        {
          "output_type": "stream",
          "text": [
            "[(1, 2), (1, 7), (2, 7), (3, 2), (3, 7)]\n"
          ],
          "name": "stdout"
        }
      ]
    },
    {
      "cell_type": "code",
      "metadata": {
        "colab": {
          "base_uri": "https://localhost:8080/"
        },
        "id": "KKQWZEsjb2NL",
        "outputId": "a5904024-0b65-419a-dc88-a6fca2383e85"
      },
      "source": [
        "\n",
        "list_a = [\"Hello\", \"World\", \"In\", \"Python\"]\n",
        "\n",
        "small_list_a = [str.lower() for str in list_a]\n",
        "\n",
        "print(small_list_a) "
      ],
      "execution_count": null,
      "outputs": [
        {
          "output_type": "stream",
          "text": [
            "['hello', 'world', 'in', 'python']\n"
          ],
          "name": "stdout"
        }
      ]
    },
    {
      "cell_type": "code",
      "metadata": {
        "colab": {
          "base_uri": "https://localhost:8080/"
        },
        "id": "45gZPipTb2gI",
        "outputId": "6d63e9cd-51d8-48f2-b538-ac1ee953602f"
      },
      "source": [
        " list_a = [1, 2, 3]\n",
        "\n",
        "square_cube_list = [ [a**2, a**3] for a in list_a]\n",
        "\n",
        "print(square_cube_list)"
      ],
      "execution_count": null,
      "outputs": [
        {
          "output_type": "stream",
          "text": [
            "[[1, 1], [4, 8], [9, 27]]\n"
          ],
          "name": "stdout"
        }
      ]
    },
    {
      "cell_type": "code",
      "metadata": {
        "colab": {
          "base_uri": "https://localhost:8080/"
        },
        "id": "f3aN73Rlb8G0",
        "outputId": "01e6b37a-00e7-4f1f-9ae5-aff647a0e647"
      },
      "source": [
        "s = []\n",
        "lst = [0,1,2,3,4]\n",
        "for i in lst:\n",
        "  s.append(i*2)\n",
        "s"
      ],
      "execution_count": null,
      "outputs": [
        {
          "output_type": "execute_result",
          "data": {
            "text/plain": [
              "[0, 2, 4, 6, 8]"
            ]
          },
          "metadata": {
            "tags": []
          },
          "execution_count": 60
        }
      ]
    },
    {
      "cell_type": "code",
      "metadata": {
        "id": "l0yIwhX0eKyy"
      },
      "source": [
        "del list"
      ],
      "execution_count": null,
      "outputs": []
    },
    {
      "cell_type": "code",
      "metadata": {
        "colab": {
          "base_uri": "https://localhost:8080/"
        },
        "id": "txTU8H84d3gc",
        "outputId": "8c34c59e-8106-4fb7-db26-fc3946ab2c13"
      },
      "source": [
        "lambda_list = list(map(lambda num : num * 2, lst))\n",
        "lambda_list"
      ],
      "execution_count": null,
      "outputs": [
        {
          "output_type": "execute_result",
          "data": {
            "text/plain": [
              "[0, 2, 4, 6, 8]"
            ]
          },
          "metadata": {
            "tags": []
          },
          "execution_count": 62
        }
      ]
    },
    {
      "cell_type": "code",
      "metadata": {
        "colab": {
          "base_uri": "https://localhost:8080/"
        },
        "id": "tR5PXgPceXyR",
        "outputId": "5139a4ab-4b14-4801-cbd9-3f41180164a4"
      },
      "source": [
        "list_comp = [num*2 for num in lst]\n",
        "list_comp"
      ],
      "execution_count": null,
      "outputs": [
        {
          "output_type": "execute_result",
          "data": {
            "text/plain": [
              "[0, 2, 4, 6, 8]"
            ]
          },
          "metadata": {
            "tags": []
          },
          "execution_count": 63
        }
      ]
    },
    {
      "cell_type": "markdown",
      "metadata": {
        "id": "g9RwIkX-1gxW"
      },
      "source": [
        "# 파이썬의 Comprehension 소개\n"
      ]
    },
    {
      "cell_type": "markdown",
      "metadata": {
        "id": "dlzj2yv-1j67"
      },
      "source": [
        "Comprehension이란 iterable한 오브젝트를 생성하기 위한 방법중 하나로 파이썬에서 사용할 수 있는 유용한 기능중 하나이다.\n",
        "\n",
        "파이썬에는 다음과 같은 크게 네 가지 종류의 Comprehension이 있다.\n",
        "\n",
        "    List Comprehension (LC)\n",
        "    Set Comprehension (SC)\n",
        "    Dict Comprehension (DC)\n",
        "    Generator Expression (GE)\n",
        "Generator의 경우 comprehension과 형태는 동일하지만 특별히 expression이라고 부른다."
      ]
    },
    {
      "cell_type": "markdown",
      "metadata": {
        "id": "39VjoHYL1rzo"
      },
      "source": [
        "## List Comprehension (LC)\n"
      ]
    },
    {
      "cell_type": "markdown",
      "metadata": {
        "id": "KQYpagPy1uGn"
      },
      "source": [
        "- List comprehension은 리스트를 쉽게 생성하기 위한 방법이다. 이는 파이썬에서 보편적으로 사용되는 기능으로 조금만 응용하면 다양한 조건으로 리스트를 생성할 수 있는 강력한 기능중 하나이다.\n",
        "\n"
      ]
    },
    {
      "cell_type": "code",
      "metadata": {
        "id": "pXPYUaOB1w_J"
      },
      "source": [
        "# 20까지의 짝수를 출력하기 위해 다음과 같은 LC를 사용할 수 있다\n",
        "evens = [x * 2 for x in range(11)]\n",
        "# [0, 2, 4, 6, 8, 10, 12, 14, 16, 18, 20]\n",
        "\n",
        "# 리스트의 모든 원소값을 정규화 시킨 후 상수값을 더하는 LC\n",
        "vals = [32, 12, 96, 42, 32, 93, 31, 23, 65, 43, 76]\n",
        "amount = sum(vals)\n",
        "norm_and_move = [(x / amount) + 1 for x in vals]\n",
        "# [1.0587155963302752, 1.0220183486238532, 1.1761467889908257, 1.0770642201834861, 1.0587155963302752, 1.1706422018348623, 1.0568807339449542, 1.0422018348623854, 1.1192660550458715, 1.0788990825688074, 1.1394495412844037]\n"
      ],
      "execution_count": null,
      "outputs": []
    },
    {
      "cell_type": "markdown",
      "metadata": {
        "id": "UUUsr_-m1y4H"
      },
      "source": [
        "- 조금 더 복잡한 예제를 살펴보자. (조건을 지닌 LC와 Nested LC)\n",
        "\n"
      ]
    },
    {
      "cell_type": "code",
      "metadata": {
        "id": "GRCGey8W10nC"
      },
      "source": [
        "# 100 이하의 제곱수가 아닌 수를 찾는 LC\n",
        "from math import sqrt\n",
        "non_squars = [x for x in range(101) if sqrt(x)**2 != x]\n",
        "# [2, 3, 5, 6, 7, 8, 10, 12, 13, 15, 18, 19, 20, 23, 24, 26, 28, 29, 31, 32, 37, 38, 40, 43, 45, 48, 50, 51, 52, 58, 59, 60, 61, 63, 65, 66, 72, 73, 75, 76, 77, 78, 80, 82, 87, 89, 92, 94, 95, 96, 97]\n",
        "\n",
        "# 두 리스트의 원소들의 모든 조합을 찾는 LC\n",
        "epithets = ['sweet', 'annoying', 'cool', 'grey-eyed']\n",
        "names = ['john', 'alice', 'james']\n",
        "epithet_names = [(e, n) for e in epithets for n in names]\n"
      ],
      "execution_count": null,
      "outputs": []
    },
    {
      "cell_type": "markdown",
      "metadata": {
        "id": "SZLLz9JX13oQ"
      },
      "source": [
        "- 조금 더 Practical한 예제를 살펴보자.\n",
        "\n"
      ]
    },
    {
      "cell_type": "code",
      "metadata": {
        "colab": {
          "base_uri": "https://localhost:8080/"
        },
        "id": "lxyZfkCl15h4",
        "outputId": "a3e8d714-c6b3-4779-9196-38774e37c287"
      },
      "source": [
        "# a^2 + b^2 = c^2 (a < b < c)를 만족하는 피타고라스 방정식의 해를 찾는 LC\n",
        "solutions = [(x, y, z) for x in range(1, 30) for y in range(x, 30) for z in range(y, 30) if x**2 + y**2 == z**2]\n",
        "# [(3, 4, 5), (5, 12, 13), (6, 8, 10), (7, 24, 25), (8, 15, 17), (9, 12, 15), (10, 24, 26), (12, 16, 20), (15, 20, 25), (20, 21, 29)]\n",
        "\n",
        "# 단어에서 모음을 제거하는 LC\n",
        "word = 'mathematics'\n",
        "without_vowels = ''.join([c for c in word if c not in ['a', 'e', 'i', 'o', 'u']])\n",
        "# 'mthmtcs'\n",
        "\n",
        "# 행렬을 일차원화 시키는 LC\n",
        "matrix = [\n",
        "  [1, 2, 3, 4],\n",
        "  [5, 6, 7, 8],\n",
        "  [9, 10, 11, 12],\n",
        "]\n",
        "flatten = [e for r in matrix for e in r]\n",
        "flatten\n"
      ],
      "execution_count": 3,
      "outputs": [
        {
          "output_type": "execute_result",
          "data": {
            "text/plain": [
              "[1, 2, 3, 4, 5, 6, 7, 8, 9, 10, 11, 12]"
            ]
          },
          "metadata": {
            "tags": []
          },
          "execution_count": 3
        }
      ]
    },
    {
      "cell_type": "markdown",
      "metadata": {
        "id": "5D6_Aq8F1_D7"
      },
      "source": [
        "## Set Comprehension (SC)\n",
        "\n",
        "- Set comprehension은 LC와 정확히 동일하며 단지 list가 아닌 set을 생성한다는 것만 다르다.\n",
        "\n"
      ]
    },
    {
      "cell_type": "code",
      "metadata": {
        "id": "iPCknNjX15yL"
      },
      "source": [
        "# 다음의 LC는 중복된 값들을 포함한다\n",
        "no_primes = [j for i in range(2, 9) for j in range(i * 2, 50, i)]\n",
        "# [4, 6, 8, 10, 12, 14, 16, 18, 20, 22, 24, 26, 28, 30, 32, 34, 36, 38, 40, 42, 44, 46, 48, 6, 9, 12, 15, 18, 21, 24, 27, 30, 33, 36, 39, 42, 45, 48, 8, 12, 16, 20, 24, 28, 32, 36, 40, 44, 48, 10, 15, 20, 25, 30, 35, 40, 45, 12, 18, 24, 30, 36, 42, 48, 14, 21, 28, 35, 42, 49, 16, 24, 32, 40, 48]\n",
        "\n",
        "# SC를 사용하면 중복값이 없는 집합을 얻을 수 있다\n",
        "no_primes = {j for i in range(2, 9) for j in range(i * 2, 50, i)}\n"
      ],
      "execution_count": null,
      "outputs": []
    },
    {
      "cell_type": "markdown",
      "metadata": {
        "id": "p_UZ9lj62DDh"
      },
      "source": [
        "## Dict Comprehension (DC)\n",
        "\n",
        "- Dict comprehension 또한 LC와 동일하며 dict를 생성한다.\n",
        "\n"
      ]
    },
    {
      "cell_type": "code",
      "metadata": {
        "id": "-knSpgVu2F_N"
      },
      "source": [
        "# 두 리스트를 하나의 dict로 합치는 DC. 하나는 key, 또 다른 하나는 value로 사용한다\n",
        "subjects = ['math', 'history', 'english', 'computer engineering']\n",
        "scores = [90, 80, 95, 100]\n",
        "score_dict = {key: value for key, value in zip(subjects, scores)}\n",
        "# {'math': 90, 'history': 80, 'english': 95, 'computer engineering': 100}\n",
        "\n",
        "# 튜플 리스트를 dict 형태로 변환하는 DC\n",
        "score_tuples = [('math', 90), ('history', 80), ('english', 95), ('computer engineering', 100)]\n",
        "score_dict = {t[0]: t[1] for t in score_tuples}\n",
        "# {'math': 90, 'history': 80, 'english': 95, 'computer engineering': 100}\n"
      ],
      "execution_count": null,
      "outputs": []
    },
    {
      "cell_type": "markdown",
      "metadata": {
        "id": "s-z8pceH2HMm"
      },
      "source": [
        "## Generator Expression (GE)\n",
        "\n",
        "- Generator expression은 특별한 형태의 comprehension이다. 이는 한 번에 모든 원소를 반환하지 않고 한 번에 하나의 원소만 반환하는 generator를 생성한다.\n",
        "\n",
        "- GE 또한 다른 Comprehension과 동일한 형태로 쉽게 사용할 수 있다.\n",
        "\n"
      ]
    },
    {
      "cell_type": "code",
      "metadata": {
        "id": "tlI67N2f2LmP"
      },
      "source": [
        "# 다음 Generator는 제곱수를 만들어낸다\n",
        "gen = (x**2 for x in range(10))\n",
        "print(gen)\n",
        "# <generator object <genexpr> at 0x105bde5c8>\n",
        "print(next(gen)) # call 1\n",
        "# 0\n",
        "print(next(gen)) # call 2\n",
        "# 1\n",
        "# 'next' 함수 호출을 10번 반복\n",
        "print(next(gen)) # call 10\n",
        "# 81\n",
        "print(next(gen)) # call 11\n",
        "\"\"\"\n",
        "Traceback (most recent call last):\n",
        "  File \"<stdin>\", line 1, in <module>\n",
        "StopIteration\n",
        "\"\"\"\n",
        "\n",
        "# Yes, it is an just generator. You can sum the yielding values.\n",
        "# GE로 생성한 Generator도 yield를 가진 함수로 생성한 것과 동일한 Generator이기 때문에, 똑같이 sum을 사용할 수 있다. (iterable 객체)\n",
        "gen = (x**2 for x in range(10))\n",
        "sum_of_squares = sum(gen)\n",
        "# 285\n"
      ],
      "execution_count": null,
      "outputs": []
    }
  ]
}