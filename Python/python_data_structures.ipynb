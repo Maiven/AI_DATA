{
  "nbformat": 4,
  "nbformat_minor": 0,
  "metadata": {
    "kernelspec": {
      "display_name": "Python 3",
      "language": "python",
      "name": "python3"
    },
    "language_info": {
      "codemirror_mode": {
        "name": "ipython",
        "version": 3
      },
      "file_extension": ".py",
      "mimetype": "text/x-python",
      "name": "python",
      "nbconvert_exporter": "python",
      "pygments_lexer": "ipython3",
      "version": "3.6.6"
    },
    "colab": {
      "name": "python_data_structures.ipynb",
      "provenance": [],
      "collapsed_sections": [],
      "toc_visible": true,
      "include_colab_link": true
    }
  },
  "cells": [
    {
      "cell_type": "markdown",
      "metadata": {
        "id": "view-in-github",
        "colab_type": "text"
      },
      "source": [
        "<a href=\"https://colab.research.google.com/github/Maiven/AI_Python/blob/main/Python/python_data_structures.ipynb\" target=\"_parent\"><img src=\"https://colab.research.google.com/assets/colab-badge.svg\" alt=\"Open In Colab\"/></a>"
      ]
    },
    {
      "cell_type": "code",
      "metadata": {
        "id": "HYUnpFZkjvet"
      },
      "source": [
        "import numpy as np # load numpy module"
      ],
      "execution_count": 1,
      "outputs": []
    },
    {
      "cell_type": "markdown",
      "metadata": {
        "id": "_Czt_yCZjvez"
      },
      "source": [
        "## Lists\n",
        "\n",
        " - A list is a collection of homogeneous/heterogenous elements (int, float, string, etc.)\n",
        "\n",
        "##### Time complexity: \n",
        " - Read (with index) / append / add: O(1) <br>\n",
        " - Insert / delete: O(n) - expensive as the items have to be rearranged after insertion or deletion\n",
        " - Value lookup: O(n)"
      ]
    },
    {
      "cell_type": "code",
      "metadata": {
        "id": "m_g5xoptjve0",
        "colab": {
          "base_uri": "https://localhost:8080/"
        },
        "outputId": "735b340a-1140-4f20-a5f4-e0c60c4a9bca"
      },
      "source": [
        "list_ = ['hello', 'how', 'are', 'you', 1, 10, 'how', 'well', 'are'] # created a simple list\n",
        "list_"
      ],
      "execution_count": 2,
      "outputs": [
        {
          "output_type": "execute_result",
          "data": {
            "text/plain": [
              "['hello', 'how', 'are', 'you', 1, 10, 'how', 'well', 'are']"
            ]
          },
          "metadata": {
            "tags": []
          },
          "execution_count": 2
        }
      ]
    },
    {
      "cell_type": "code",
      "metadata": {
        "scrolled": true,
        "id": "3Dp7dgZtjve1",
        "colab": {
          "base_uri": "https://localhost:8080/"
        },
        "outputId": "2d736e65-5806-4a59-cd78-69e39dc0c90c"
      },
      "source": [
        "n = len(list_)  # length of the list_\n",
        "n"
      ],
      "execution_count": 3,
      "outputs": [
        {
          "output_type": "execute_result",
          "data": {
            "text/plain": [
              "9"
            ]
          },
          "metadata": {
            "tags": []
          },
          "execution_count": 3
        }
      ]
    },
    {
      "cell_type": "markdown",
      "metadata": {
        "id": "FISIUfSjjve2"
      },
      "source": [
        "Indices are numbered from <b> 0 to n-1 </b> or alternatively from <b> -n to -1 </b>"
      ]
    },
    {
      "cell_type": "code",
      "metadata": {
        "id": "c1xDvFCsjve2",
        "outputId": "3e2d2165-1781-41af-cb34-1b130fdc9a48"
      },
      "source": [
        "print(list_[0]) # first element\n",
        "print(list_[8]) # last element\n",
        "\n",
        "print(list_[-9]) # first element\n",
        "print(list_[-1]) # last element"
      ],
      "execution_count": null,
      "outputs": [
        {
          "output_type": "stream",
          "text": [
            "hello\n",
            "are\n",
            "hello\n",
            "are\n"
          ],
          "name": "stdout"
        }
      ]
    },
    {
      "cell_type": "markdown",
      "metadata": {
        "id": "N2Bs486xjve2"
      },
      "source": [
        "#### Slicing\n",
        " - To get a specific set of elements from the list"
      ]
    },
    {
      "cell_type": "code",
      "metadata": {
        "id": "92zlY2GVjve3",
        "outputId": "a3645ab0-f54f-4e3e-f449-31544e4c3299"
      },
      "source": [
        "list_[:3]  # left-closed type data retrieval"
      ],
      "execution_count": null,
      "outputs": [
        {
          "output_type": "execute_result",
          "data": {
            "text/plain": [
              "['hello', 'how', 'are']"
            ]
          },
          "metadata": {
            "tags": []
          },
          "execution_count": 5
        }
      ]
    },
    {
      "cell_type": "markdown",
      "metadata": {
        "id": "znwwHrwCjve3"
      },
      "source": [
        "Only elements with indices 0-2 are retrived and the element with index 3 is skipped"
      ]
    },
    {
      "cell_type": "code",
      "metadata": {
        "id": "h3PspqX-jve3",
        "outputId": "f80c091f-7dc3-47c5-9a31-becaf4062dbf"
      },
      "source": [
        "list_[2:5]  # 2-4 are retrived"
      ],
      "execution_count": null,
      "outputs": [
        {
          "output_type": "execute_result",
          "data": {
            "text/plain": [
              "['are', 'you', 1]"
            ]
          },
          "metadata": {
            "tags": []
          },
          "execution_count": 6
        }
      ]
    },
    {
      "cell_type": "code",
      "metadata": {
        "id": "BfduWbTrjve4",
        "outputId": "775e4248-e7ca-4f89-d1b7-a2a23d0f135c"
      },
      "source": [
        "list_[2:]  # 2-8 elements are retrieved. Leaving right-end empty implies last element in the list"
      ],
      "execution_count": null,
      "outputs": [
        {
          "output_type": "execute_result",
          "data": {
            "text/plain": [
              "['are', 'you', 1, 10, 'how', 'well', 'are']"
            ]
          },
          "metadata": {
            "tags": []
          },
          "execution_count": 7
        }
      ]
    },
    {
      "cell_type": "code",
      "metadata": {
        "id": "FX7i_5WOjve4",
        "outputId": "3ef79925-1aed-4948-d252-c3f13c9c59d8"
      },
      "source": [
        "list_[:4] # 0-3 elements. Leaving left end  empty implies beginning of the list"
      ],
      "execution_count": null,
      "outputs": [
        {
          "output_type": "execute_result",
          "data": {
            "text/plain": [
              "['hello', 'how', 'are', 'you']"
            ]
          },
          "metadata": {
            "tags": []
          },
          "execution_count": 8
        }
      ]
    },
    {
      "cell_type": "code",
      "metadata": {
        "id": "ChB6fnUzjve4",
        "outputId": "246fa379-33a1-4937-8393-8d81d94c7de3"
      },
      "source": [
        "list_[-1:]  # -1 implies last element of the list"
      ],
      "execution_count": null,
      "outputs": [
        {
          "output_type": "execute_result",
          "data": {
            "text/plain": [
              "['are']"
            ]
          },
          "metadata": {
            "tags": []
          },
          "execution_count": 9
        }
      ]
    },
    {
      "cell_type": "code",
      "metadata": {
        "scrolled": true,
        "id": "JWmylzH2jve5",
        "outputId": "9a96c436-b88c-43a6-f881-3113f9139da9"
      },
      "source": [
        "list_[:-1] # only the last element is skipped"
      ],
      "execution_count": null,
      "outputs": [
        {
          "output_type": "execute_result",
          "data": {
            "text/plain": [
              "['hello', 'how', 'are', 'you', 1, 10, 'how', 'well']"
            ]
          },
          "metadata": {
            "tags": []
          },
          "execution_count": 10
        }
      ]
    },
    {
      "cell_type": "code",
      "metadata": {
        "scrolled": true,
        "id": "nVVcebn2jve5",
        "outputId": "0507868b-1e0d-40ae-d608-501dbd496c27"
      },
      "source": [
        "list_[:-2] # last and last-before elements are skipped (-1 and -2 respectively)"
      ],
      "execution_count": null,
      "outputs": [
        {
          "output_type": "execute_result",
          "data": {
            "text/plain": [
              "['hello', 'how', 'are', 'you', 1, 10, 'how']"
            ]
          },
          "metadata": {
            "tags": []
          },
          "execution_count": 11
        }
      ]
    },
    {
      "cell_type": "code",
      "metadata": {
        "id": "nnJQpirOjve5",
        "outputId": "5e9b57a3-e9ce-4ce9-c4cd-e5c855cc2d01"
      },
      "source": [
        "list_[::-1]  # to reverse the order"
      ],
      "execution_count": null,
      "outputs": [
        {
          "output_type": "execute_result",
          "data": {
            "text/plain": [
              "['are', 'well', 'how', 10, 1, 'you', 'are', 'how', 'hello']"
            ]
          },
          "metadata": {
            "tags": []
          },
          "execution_count": 12
        }
      ]
    },
    {
      "cell_type": "markdown",
      "metadata": {
        "id": "gVWK_LEXjve5"
      },
      "source": [
        "#### Delete"
      ]
    },
    {
      "cell_type": "code",
      "metadata": {
        "id": "n_o_JK3Xjve6",
        "outputId": "b31035ae-ec62-45a3-d048-7243c7c33fa3"
      },
      "source": [
        "list_"
      ],
      "execution_count": null,
      "outputs": [
        {
          "output_type": "execute_result",
          "data": {
            "text/plain": [
              "['hello', 'how', 'are', 'you', 1, 10, 'how', 'well', 'are']"
            ]
          },
          "metadata": {
            "tags": []
          },
          "execution_count": 13
        }
      ]
    },
    {
      "cell_type": "code",
      "metadata": {
        "id": "Rl1cR3V2jve6",
        "outputId": "6cb39874-54ab-4225-9d16-1511b0ecb9fa"
      },
      "source": [
        "del list_[4]\n",
        "\n",
        "list_ # the list_[4] was deleted and replaced by the next element in the list"
      ],
      "execution_count": null,
      "outputs": [
        {
          "output_type": "execute_result",
          "data": {
            "text/plain": [
              "['hello', 'how', 'are', 'you', 10, 'how', 'well', 'are']"
            ]
          },
          "metadata": {
            "tags": []
          },
          "execution_count": 14
        }
      ]
    },
    {
      "cell_type": "markdown",
      "metadata": {
        "id": "M68AzFGZjve6"
      },
      "source": [
        "#### Replace"
      ]
    },
    {
      "cell_type": "code",
      "metadata": {
        "id": "a2v7LMAejve6",
        "outputId": "78ecd780-dbaf-4654-ce74-4c43426a8194"
      },
      "source": [
        "list_[4] = 1232\n",
        "\n",
        "list_ # list_[4] is replaced by 1232 and the elements with index >= 4 remains the same"
      ],
      "execution_count": null,
      "outputs": [
        {
          "output_type": "execute_result",
          "data": {
            "text/plain": [
              "['hello', 'how', 'are', 'you', 1232, 'how', 'well', 'are']"
            ]
          },
          "metadata": {
            "tags": []
          },
          "execution_count": 15
        }
      ]
    },
    {
      "cell_type": "markdown",
      "metadata": {
        "id": "IEr93Lmqjve7"
      },
      "source": [
        "#### Insert"
      ]
    },
    {
      "cell_type": "code",
      "metadata": {
        "id": "7yrk_nX9jve7",
        "outputId": "bed54541-42b0-4f57-8ba4-d7e5bded53b2"
      },
      "source": [
        "list_.insert(4, 111)\n",
        "\n",
        "list_ # 111 is inserting into list_[4] and the elements with index >= 4 are moved to the right by one"
      ],
      "execution_count": null,
      "outputs": [
        {
          "output_type": "execute_result",
          "data": {
            "text/plain": [
              "['hello', 'how', 'are', 'you', 111, 1232, 'how', 'well', 'are']"
            ]
          },
          "metadata": {
            "tags": []
          },
          "execution_count": 16
        }
      ]
    },
    {
      "cell_type": "markdown",
      "metadata": {
        "id": "eTzXgF31jve7"
      },
      "source": [
        "Please note that these simple tricks will be very helpful during projects"
      ]
    },
    {
      "cell_type": "markdown",
      "metadata": {
        "id": "oRL0ClVEjve7"
      },
      "source": [
        "## Arrays\n",
        "\n",
        "A list is a collection of homogeneous items that are contiguously arranged.\n",
        " - Mutable but static (the size cannot be changed or in other words new elements cannot be added to it)\n",
        "\n",
        "##### Time complexity:\n",
        " - Same as that of lists - O(1) with index and O(n) for lookup"
      ]
    },
    {
      "cell_type": "code",
      "metadata": {
        "id": "POygPcn0jve8",
        "outputId": "a40e0398-262b-4409-84a0-92dbe70f3ab1"
      },
      "source": [
        "arrays_ = np.array(list_)\n",
        "arrays_"
      ],
      "execution_count": null,
      "outputs": [
        {
          "output_type": "execute_result",
          "data": {
            "text/plain": [
              "array(['hello', 'how', 'are', 'you', '111', '1232', 'how', 'well', 'are'],\n",
              "      dtype='<U5')"
            ]
          },
          "metadata": {
            "tags": []
          },
          "execution_count": 17
        }
      ]
    },
    {
      "cell_type": "markdown",
      "metadata": {
        "id": "qZOLDcuajve8"
      },
      "source": [
        "Please notice that the numbers in the list_ are converted to strings when we converted the list_ to an array. An array should consist of elements of the same datatype. As converting a string/char to a number is impossible, the numbers are rather converted to strings."
      ]
    },
    {
      "cell_type": "code",
      "metadata": {
        "id": "zW1OHGRojve8",
        "outputId": "e705ec40-e1c8-48b6-d0dc-b087519c28e1"
      },
      "source": [
        "arrays_[1] = 122  # arrays_[1] element will be replaced with \"122\"\n",
        "arrays_"
      ],
      "execution_count": null,
      "outputs": [
        {
          "output_type": "execute_result",
          "data": {
            "text/plain": [
              "array(['hello', '122', 'are', 'you', '111', '1232', 'how', 'well', 'are'],\n",
              "      dtype='<U5')"
            ]
          },
          "metadata": {
            "tags": []
          },
          "execution_count": 18
        }
      ]
    },
    {
      "cell_type": "markdown",
      "metadata": {
        "id": "vRK3MK4cjve8"
      },
      "source": [
        "Insert or delete operation cannot be performed on an array as the size cannot be altered. When an array is created a fixed memory location is allocated which cannot be extended. Inserting a value at <i>i</i>th index will overwrite the existing value with the new one and the other elements will remain unchanged."
      ]
    },
    {
      "cell_type": "markdown",
      "metadata": {
        "id": "2gfEVt8Hjve9"
      },
      "source": [
        "## Strings\n",
        " - Immutable, homogeneous, and dynamic\n",
        " \n",
        "##### Time complexity:\n",
        " - Same as that of lists and arrays - O(1) with index and O(n) for lookup\n",
        "\n",
        "##### Reading/slicing:\n",
        " - Same as in lists. Just consider each character in the string as an element of a list."
      ]
    },
    {
      "cell_type": "code",
      "metadata": {
        "id": "dA5a_OrJjve9",
        "colab": {
          "base_uri": "https://localhost:8080/",
          "height": 35
        },
        "outputId": "c0fce005-3750-4bc8-ba8a-95ba3bacd1c2"
      },
      "source": [
        "string_ = \"Hello, I am Jack and I am a data scientist\"\n",
        "\n",
        "string_[1]  # 'e' from Hello"
      ],
      "execution_count": 4,
      "outputs": [
        {
          "output_type": "execute_result",
          "data": {
            "application/vnd.google.colaboratory.intrinsic+json": {
              "type": "string"
            },
            "text/plain": [
              "'e'"
            ]
          },
          "metadata": {
            "tags": []
          },
          "execution_count": 4
        }
      ]
    },
    {
      "cell_type": "code",
      "metadata": {
        "colab": {
          "base_uri": "https://localhost:8080/",
          "height": 35
        },
        "id": "49a7290wlqGh",
        "outputId": "0fa9faf2-e975-409a-ce28-4bd3747b54cf"
      },
      "source": [
        "string_"
      ],
      "execution_count": 6,
      "outputs": [
        {
          "output_type": "execute_result",
          "data": {
            "application/vnd.google.colaboratory.intrinsic+json": {
              "type": "string"
            },
            "text/plain": [
              "'Hello, I am Jack and I am a data scientist'"
            ]
          },
          "metadata": {
            "tags": []
          },
          "execution_count": 6
        }
      ]
    },
    {
      "cell_type": "code",
      "metadata": {
        "id": "fkZ4nTjPjve9",
        "outputId": "66f225ec-702d-4ea9-c528-3c59ee7665bf"
      },
      "source": [
        "string_[:11]  # slicing"
      ],
      "execution_count": null,
      "outputs": [
        {
          "output_type": "execute_result",
          "data": {
            "text/plain": [
              "'Hello, I am'"
            ]
          },
          "metadata": {
            "tags": []
          },
          "execution_count": 20
        }
      ]
    },
    {
      "cell_type": "code",
      "metadata": {
        "id": "Zf3bLLlFjve9",
        "outputId": "4e1859c9-6e20-4304-8789-5397898177f9"
      },
      "source": [
        "string_[1] = 'r' # immutable"
      ],
      "execution_count": null,
      "outputs": [
        {
          "output_type": "error",
          "ename": "TypeError",
          "evalue": "'str' object does not support item assignment",
          "traceback": [
            "\u001b[1;31m---------------------------------------------------------------------------\u001b[0m",
            "\u001b[1;31mTypeError\u001b[0m                                 Traceback (most recent call last)",
            "\u001b[1;32m<ipython-input-21-33093e5f46be>\u001b[0m in \u001b[0;36m<module>\u001b[1;34m()\u001b[0m\n\u001b[1;32m----> 1\u001b[1;33m \u001b[0mstring_\u001b[0m\u001b[1;33m[\u001b[0m\u001b[1;36m1\u001b[0m\u001b[1;33m]\u001b[0m \u001b[1;33m=\u001b[0m \u001b[1;34m'r'\u001b[0m \u001b[1;31m# immutable\u001b[0m\u001b[1;33m\u001b[0m\u001b[0m\n\u001b[0m",
            "\u001b[1;31mTypeError\u001b[0m: 'str' object does not support item assignment"
          ]
        }
      ]
    },
    {
      "cell_type": "markdown",
      "metadata": {
        "id": "DHv6QU6ojve-"
      },
      "source": [
        "#### Combining strings:"
      ]
    },
    {
      "cell_type": "code",
      "metadata": {
        "id": "rEcQfZ6Zjve-",
        "outputId": "739d4d21-52b6-42cf-9b42-7b399516dcbd"
      },
      "source": [
        "# You can add more words or lines by adding 2 strings arithmatically.\n",
        "string_new = \"I am 10 years experienced\"\n",
        "\n",
        "string_ + \". \" + string_new  # very simple but painful to add \". \" between every string that you want to add"
      ],
      "execution_count": null,
      "outputs": [
        {
          "output_type": "execute_result",
          "data": {
            "text/plain": [
              "'Hello, I am Jack and I am a data scientist. I am 10 years experienced'"
            ]
          },
          "metadata": {
            "tags": []
          },
          "execution_count": 22
        }
      ]
    },
    {
      "cell_type": "code",
      "metadata": {
        "id": "MV05f3fzjve-",
        "outputId": "61f0f4a1-e3f2-478a-9382-74da8ebff090"
      },
      "source": [
        "\". \".join([string_, string_new])  # This solves the above problem in joining multiple strings"
      ],
      "execution_count": null,
      "outputs": [
        {
          "output_type": "execute_result",
          "data": {
            "text/plain": [
              "'Hello, I am Jack and I am a data scientist. I am 10 years experienced'"
            ]
          },
          "metadata": {
            "tags": []
          },
          "execution_count": 23
        }
      ]
    },
    {
      "cell_type": "markdown",
      "metadata": {
        "id": "fd_wZIqgjve-"
      },
      "source": [
        "#### Find\n",
        "- Returns the index of the leftmost word/character searched"
      ]
    },
    {
      "cell_type": "code",
      "metadata": {
        "id": "3QCHc5oyjve-",
        "outputId": "9d2b39ff-120e-4844-cf60-5183c8148dbb"
      },
      "source": [
        "string_.find(\"data\")  # returns the index of the beginning of the word"
      ],
      "execution_count": null,
      "outputs": [
        {
          "output_type": "execute_result",
          "data": {
            "text/plain": [
              "28"
            ]
          },
          "metadata": {
            "tags": []
          },
          "execution_count": 24
        }
      ]
    },
    {
      "cell_type": "code",
      "metadata": {
        "id": "rm6QKHk-jve_",
        "outputId": "2b5873c2-956e-41e1-a767-c658823a168d"
      },
      "source": [
        "string_[28:32]"
      ],
      "execution_count": null,
      "outputs": [
        {
          "output_type": "execute_result",
          "data": {
            "text/plain": [
              "'data'"
            ]
          },
          "metadata": {
            "tags": []
          },
          "execution_count": 25
        }
      ]
    },
    {
      "cell_type": "code",
      "metadata": {
        "id": "AdJaUDDkjve_",
        "outputId": "03881bc2-6018-4fc2-ef68-5b0648cc27bb"
      },
      "source": [
        "string_.find(\"Amazon\")  # Returns -1 if search word is not in the string"
      ],
      "execution_count": null,
      "outputs": [
        {
          "output_type": "execute_result",
          "data": {
            "text/plain": [
              "-1"
            ]
          },
          "metadata": {
            "tags": []
          },
          "execution_count": 26
        }
      ]
    },
    {
      "cell_type": "markdown",
      "metadata": {
        "id": "qY4CgDwwjve_"
      },
      "source": [
        "#### rfind:\n",
        "- Returns the index of the rightmost word/character searched"
      ]
    },
    {
      "cell_type": "code",
      "metadata": {
        "id": "1cfG0cxyjve_",
        "outputId": "fa9d0e9b-c6e7-48a2-c9b3-7697bfbed088"
      },
      "source": [
        "print(string_.find(\"am\"))\n",
        "print(string_.rfind(\"am\"))  # returns the index of the first character of the rightmost word"
      ],
      "execution_count": null,
      "outputs": [
        {
          "output_type": "stream",
          "text": [
            "9\n",
            "23\n"
          ],
          "name": "stdout"
        }
      ]
    },
    {
      "cell_type": "markdown",
      "metadata": {
        "id": "BkC-GCVSjvfA"
      },
      "source": [
        "#### Count\n",
        "- Counts the number of occurances of a word/character"
      ]
    },
    {
      "cell_type": "code",
      "metadata": {
        "id": "LdBPKlDbjvfA",
        "outputId": "d4d5c8be-d80e-4e21-d3ec-96378beb9329"
      },
      "source": [
        "string_.count('am')"
      ],
      "execution_count": null,
      "outputs": [
        {
          "output_type": "execute_result",
          "data": {
            "text/plain": [
              "2"
            ]
          },
          "metadata": {
            "tags": []
          },
          "execution_count": 28
        }
      ]
    },
    {
      "cell_type": "code",
      "metadata": {
        "id": "9xq5sJCpjvfA",
        "outputId": "6b3f777c-8946-436f-8cab-035ef7321cfd"
      },
      "source": [
        "string_.count('a')"
      ],
      "execution_count": null,
      "outputs": [
        {
          "output_type": "execute_result",
          "data": {
            "text/plain": [
              "7"
            ]
          },
          "metadata": {
            "tags": []
          },
          "execution_count": 29
        }
      ]
    },
    {
      "cell_type": "markdown",
      "metadata": {
        "id": "1zPvOAL2jvfB"
      },
      "source": [
        "#### Split\n",
        "- Splits a string, at a specified character, into a list of elements"
      ]
    },
    {
      "cell_type": "code",
      "metadata": {
        "id": "RAqiRWEhjvfB",
        "outputId": "4cb85a93-e62b-464a-85aa-2eddc8caab16"
      },
      "source": [
        "string_list = string_.split(\" \")\n",
        "string_list"
      ],
      "execution_count": null,
      "outputs": [
        {
          "output_type": "execute_result",
          "data": {
            "text/plain": [
              "['Hello,', 'I', 'am', 'Jack', 'and', 'I', 'am', 'a', 'data', 'scientist']"
            ]
          },
          "metadata": {
            "tags": []
          },
          "execution_count": 30
        }
      ]
    },
    {
      "cell_type": "markdown",
      "metadata": {
        "id": "YDrf-gR6jvfB"
      },
      "source": [
        "#### Startswith\n",
        "- Checks if the string starts with the search word/character"
      ]
    },
    {
      "cell_type": "code",
      "metadata": {
        "id": "eGr6DFcTjvfB",
        "outputId": "e34c3f9f-ceea-4bdc-e16f-c587145f8590"
      },
      "source": [
        "string_.startswith('Hello')"
      ],
      "execution_count": null,
      "outputs": [
        {
          "output_type": "execute_result",
          "data": {
            "text/plain": [
              "True"
            ]
          },
          "metadata": {
            "tags": []
          },
          "execution_count": 31
        }
      ]
    },
    {
      "cell_type": "code",
      "metadata": {
        "id": "ZcDTEKMTjvfC",
        "outputId": "83accd4b-08ff-4de7-af92-31ed9a111d81"
      },
      "source": [
        "string_.startswith('I') # I is not the beginning of the string"
      ],
      "execution_count": null,
      "outputs": [
        {
          "output_type": "execute_result",
          "data": {
            "text/plain": [
              "False"
            ]
          },
          "metadata": {
            "tags": []
          },
          "execution_count": 32
        }
      ]
    },
    {
      "cell_type": "code",
      "metadata": {
        "id": "vJEybp3djvfC",
        "outputId": "b0dfdc7d-372a-4f47-a666-44c65988df3e"
      },
      "source": [
        "# If you like to check for a word in the string. Do the following\n",
        "\n",
        "string_list  # list of words from string_\n",
        "\n",
        "[word_.startswith('am') for word_ in string_list]"
      ],
      "execution_count": null,
      "outputs": [
        {
          "output_type": "execute_result",
          "data": {
            "text/plain": [
              "[False, False, True, False, False, False, True, False, False, False]"
            ]
          },
          "metadata": {
            "tags": []
          },
          "execution_count": 33
        }
      ]
    },
    {
      "cell_type": "markdown",
      "metadata": {
        "id": "r20BM25CjvfC"
      },
      "source": [
        "So there are two 'am's in the string"
      ]
    },
    {
      "cell_type": "code",
      "metadata": {
        "id": "nRQNdWrwjvfC",
        "outputId": "d3ba857a-6bac-49ad-fb71-5a43c7d3aa41"
      },
      "source": [
        "sum([word_.startswith('am') for word_ in string_list]) # to directly get the count"
      ],
      "execution_count": null,
      "outputs": [
        {
          "output_type": "execute_result",
          "data": {
            "text/plain": [
              "2"
            ]
          },
          "metadata": {
            "tags": []
          },
          "execution_count": 34
        }
      ]
    },
    {
      "cell_type": "markdown",
      "metadata": {
        "id": "BA79UuFYjvfC"
      },
      "source": [
        "#### Endswith\n",
        "- Similar to 'startswith' method but here to check at the end of a string"
      ]
    },
    {
      "cell_type": "code",
      "metadata": {
        "id": "DZCud1bPjvfD",
        "outputId": "7191ef9f-a6d4-492f-cabd-f05582d2bf7d"
      },
      "source": [
        "string_.endswith('scientist') # note that it could be a partial word"
      ],
      "execution_count": null,
      "outputs": [
        {
          "output_type": "execute_result",
          "data": {
            "text/plain": [
              "True"
            ]
          },
          "metadata": {
            "tags": []
          },
          "execution_count": 35
        }
      ]
    },
    {
      "cell_type": "code",
      "metadata": {
        "id": "aIiZe0rCjvfD",
        "outputId": "e947ac97-fb1d-4655-9d69-fbf098045519"
      },
      "source": [
        "string_.endswith('tist') # note that it could be a partial word"
      ],
      "execution_count": null,
      "outputs": [
        {
          "output_type": "execute_result",
          "data": {
            "text/plain": [
              "True"
            ]
          },
          "metadata": {
            "tags": []
          },
          "execution_count": 36
        }
      ]
    },
    {
      "cell_type": "code",
      "metadata": {
        "id": "1atyOaJyjvfF",
        "outputId": "6d910a4e-06e5-4a18-c8cd-9ba57c9868f6"
      },
      "source": [
        "string_.endswith('data')"
      ],
      "execution_count": null,
      "outputs": [
        {
          "output_type": "execute_result",
          "data": {
            "text/plain": [
              "False"
            ]
          },
          "metadata": {
            "tags": []
          },
          "execution_count": 37
        }
      ]
    },
    {
      "cell_type": "markdown",
      "metadata": {
        "id": "tHiHzCbLjvfF"
      },
      "source": [
        "#### Replace\n",
        "\n",
        " - Although a specific character element cannot be replaced, word as a whole can be replaced with another word."
      ]
    },
    {
      "cell_type": "code",
      "metadata": {
        "id": "0NQXvbWKjvfF",
        "outputId": "8bc02c86-c48b-403e-bae5-aaf150c97e8e"
      },
      "source": [
        "string_.replace(\"Jack\", \"John\")  # replaces Jack with John"
      ],
      "execution_count": null,
      "outputs": [
        {
          "output_type": "execute_result",
          "data": {
            "text/plain": [
              "'Hello, I am John and I am a data scientist'"
            ]
          },
          "metadata": {
            "tags": []
          },
          "execution_count": 38
        }
      ]
    },
    {
      "cell_type": "markdown",
      "metadata": {
        "id": "hjm39OjJjvfG"
      },
      "source": [
        "## Tuples\n",
        "\n",
        " - Immutable and static\n",
        " - Tuples are used when we want to <u>restrict the user from changing values</u> in the list\n",
        "\n",
        "#### Time complexity:\n",
        " - Same as that of lists and arrays - O(1) with index and O(n) for lookup"
      ]
    },
    {
      "cell_type": "code",
      "metadata": {
        "id": "koEuJxG6jvfG",
        "outputId": "8034768f-5e59-42b2-d9c3-bf80ad1be9cf"
      },
      "source": [
        "tuples_ = tuple(list_)\n",
        "tuples_"
      ],
      "execution_count": null,
      "outputs": [
        {
          "output_type": "execute_result",
          "data": {
            "text/plain": [
              "('hello', 'how', 'are', 'you', 111, 1232, 'how', 'well', 'are')"
            ]
          },
          "metadata": {
            "tags": []
          },
          "execution_count": 39
        }
      ]
    },
    {
      "cell_type": "markdown",
      "metadata": {
        "collapsed": true,
        "id": "3P21U11pjvfG"
      },
      "source": [
        "Note that the elements are enclosed in parentheses. "
      ]
    },
    {
      "cell_type": "code",
      "metadata": {
        "id": "DKAmQ_fyjvfG",
        "outputId": "8ae37964-4104-4e04-87d0-dc557a53ea3f"
      },
      "source": [
        "# Another method for creating tuples\n",
        "tuples_ = 'hello', 'how', 'are', 1, 1232, 'well'\n",
        "tuples_"
      ],
      "execution_count": null,
      "outputs": [
        {
          "output_type": "execute_result",
          "data": {
            "text/plain": [
              "('hello', 'how', 'are', 1, 1232, 'well')"
            ]
          },
          "metadata": {
            "tags": []
          },
          "execution_count": 40
        }
      ]
    },
    {
      "cell_type": "markdown",
      "metadata": {
        "id": "vaS_5oE_jvfH"
      },
      "source": [
        "## Sets\n",
        "\n",
        "A set is an unordered collection with <u> no duplicate elements</u>. Set is another data type that we often use in data wrangling. It is used to eliminate duplicate values from a list or an array.\n",
        " - Immutable and dynamic"
      ]
    },
    {
      "cell_type": "code",
      "metadata": {
        "id": "CONWAWDfjvfH",
        "outputId": "afcd8261-afe8-446b-f39d-e414e1166264"
      },
      "source": [
        "set_ = set(list_)\n",
        "set_"
      ],
      "execution_count": null,
      "outputs": [
        {
          "output_type": "execute_result",
          "data": {
            "text/plain": [
              "{111, 1232, 'are', 'hello', 'how', 'well', 'you'}"
            ]
          },
          "metadata": {
            "tags": []
          },
          "execution_count": 41
        }
      ]
    },
    {
      "cell_type": "code",
      "metadata": {
        "id": "8jc2RkWFjvfH",
        "outputId": "d3079622-45ba-4b76-a4c6-d97bc525b862"
      },
      "source": [
        "# set_[2] = 'lel' will not work as the values cannot be replaced\n",
        "set_.add('lel')  # values can be added - dynamic\n",
        "set_"
      ],
      "execution_count": null,
      "outputs": [
        {
          "output_type": "execute_result",
          "data": {
            "text/plain": [
              "{111, 1232, 'are', 'hello', 'how', 'lel', 'well', 'you'}"
            ]
          },
          "metadata": {
            "tags": []
          },
          "execution_count": 42
        }
      ]
    },
    {
      "cell_type": "markdown",
      "metadata": {
        "id": "ti4hSVsojvfI"
      },
      "source": [
        "It returns only the unique values from the list_ in no specific order."
      ]
    },
    {
      "cell_type": "markdown",
      "metadata": {
        "id": "Bwo1vvNujvfI"
      },
      "source": [
        "## Dictionaries\n",
        "A dictionary consists of key-value pairs in no specific order. The key-value pairs are stored in an associative array. Each key maps to a value or a list or another dictionary. \n",
        "\n",
        "The <b> keys are usually hash codes </b> that are generated using a hash function. The idea is to have a unique hash code for every value to be stored. Hence the read operation is much faster than any other data types - O(1) (even for search operations - the best case). Please note that here we <u> sacrifice space complexity, by storing keys in the memory, to achieve better time complexity</u>.\n",
        "\n",
        "#### Time complexity:\n",
        " - Most dict operations O(1) (even for lookup operation)"
      ]
    },
    {
      "cell_type": "code",
      "metadata": {
        "id": "hwvsqojCjvfI",
        "outputId": "7857d14d-21c7-409f-af36-16ffc7e125f1"
      },
      "source": [
        "# Lets store age of people as dictionary\n",
        "dict_ = {\"Julie\": 32, \"Rahul\": 23, \"Jasmine\": 12, \"Jack\": 15, \"Jennifer\": 18}\n",
        "dict_"
      ],
      "execution_count": null,
      "outputs": [
        {
          "output_type": "execute_result",
          "data": {
            "text/plain": [
              "{'Julie': 32, 'Rahul': 23, 'Jasmine': 12, 'Jack': 15, 'Jennifer': 18}"
            ]
          },
          "metadata": {
            "tags": []
          },
          "execution_count": 43
        }
      ]
    },
    {
      "cell_type": "code",
      "metadata": {
        "id": "ZiGqNA1_jvfI",
        "outputId": "7e147d31-ba9a-480a-a7e0-6b562edd045e"
      },
      "source": [
        "# To retrieve values\n",
        "dict_['Jasmine']"
      ],
      "execution_count": null,
      "outputs": [
        {
          "output_type": "execute_result",
          "data": {
            "text/plain": [
              "12"
            ]
          },
          "metadata": {
            "tags": []
          },
          "execution_count": 44
        }
      ]
    },
    {
      "cell_type": "code",
      "metadata": {
        "id": "CBZY_rr1jvfJ",
        "outputId": "c4d24364-a2c7-453a-b79e-98505fbaf8d3"
      },
      "source": [
        "# To get list of keys\n",
        "dict_.keys()"
      ],
      "execution_count": null,
      "outputs": [
        {
          "output_type": "execute_result",
          "data": {
            "text/plain": [
              "dict_keys(['Julie', 'Rahul', 'Jasmine', 'Jack', 'Jennifer'])"
            ]
          },
          "metadata": {
            "tags": []
          },
          "execution_count": 45
        }
      ]
    },
    {
      "cell_type": "code",
      "metadata": {
        "id": "4kim8BUHjvfJ",
        "outputId": "3631d05b-a208-4db0-fc6d-2dfba5743785"
      },
      "source": [
        "# To get list of values\n",
        "dict_.values()"
      ],
      "execution_count": null,
      "outputs": [
        {
          "output_type": "execute_result",
          "data": {
            "text/plain": [
              "dict_values([32, 23, 12, 15, 18])"
            ]
          },
          "metadata": {
            "tags": []
          },
          "execution_count": 46
        }
      ]
    },
    {
      "cell_type": "markdown",
      "metadata": {
        "id": "J0b9CpEwjvfJ"
      },
      "source": [
        "#### Other methods to create a dictionary"
      ]
    },
    {
      "cell_type": "code",
      "metadata": {
        "id": "u2CJXAI9jvfJ",
        "outputId": "b4bf947e-ff2b-4f76-a91e-78d91be41c7f"
      },
      "source": [
        "# method 2\n",
        "dict([('Julie', 32), ('Rahul', 23), ('Jasmine', 12)])"
      ],
      "execution_count": null,
      "outputs": [
        {
          "output_type": "execute_result",
          "data": {
            "text/plain": [
              "{'Julie': 32, 'Rahul': 23, 'Jasmine': 12}"
            ]
          },
          "metadata": {
            "tags": []
          },
          "execution_count": 47
        }
      ]
    },
    {
      "cell_type": "code",
      "metadata": {
        "id": "j0LvoQ0JjvfJ",
        "outputId": "48f017d1-72aa-4a6a-f154-cc4a606c9e67"
      },
      "source": [
        "# method 3\n",
        "dict(Julie=32, Rahul=23, Jasmine=12)"
      ],
      "execution_count": null,
      "outputs": [
        {
          "output_type": "execute_result",
          "data": {
            "text/plain": [
              "{'Julie': 32, 'Rahul': 23, 'Jasmine': 12}"
            ]
          },
          "metadata": {
            "tags": []
          },
          "execution_count": 48
        }
      ]
    },
    {
      "cell_type": "code",
      "metadata": {
        "id": "i85kE3DAjvfK",
        "outputId": "581f2123-2e68-4820-b558-d3688b3e10c0"
      },
      "source": [
        "# method 4 - list comprehension technique\n",
        "{x: 2*x for x in range(5)}"
      ],
      "execution_count": null,
      "outputs": [
        {
          "output_type": "execute_result",
          "data": {
            "text/plain": [
              "{0: 0, 1: 2, 2: 4, 3: 6, 4: 8}"
            ]
          },
          "metadata": {
            "tags": []
          },
          "execution_count": 49
        }
      ]
    },
    {
      "cell_type": "markdown",
      "metadata": {
        "id": "CfRuNpomjvfK"
      },
      "source": [
        "#### To print a dictionary"
      ]
    },
    {
      "cell_type": "code",
      "metadata": {
        "scrolled": true,
        "id": "dLxmjaoYjvfK",
        "outputId": "1d91da4e-d4b6-4f5a-909f-6b2476e454a4"
      },
      "source": [
        "for k, v in dict_.items():\n",
        "    print(k, v)"
      ],
      "execution_count": null,
      "outputs": [
        {
          "output_type": "stream",
          "text": [
            "Julie 32\n",
            "Rahul 23\n",
            "Jasmine 12\n",
            "Jack 15\n",
            "Jennifer 18\n"
          ],
          "name": "stdout"
        }
      ]
    },
    {
      "cell_type": "markdown",
      "metadata": {
        "id": "sf7ghGQcjvfK"
      },
      "source": [
        "#### To reverse the key-value pairs"
      ]
    },
    {
      "cell_type": "code",
      "metadata": {
        "scrolled": true,
        "id": "0GfhBID_jvfL",
        "outputId": "1bb18dcb-fcb7-4f15-f8dc-3a28569f2f6f"
      },
      "source": [
        "dict_reversed = {v:k for k, v in dict_.items()}  # Note the curly braces\n",
        "dict_reversed"
      ],
      "execution_count": null,
      "outputs": [
        {
          "output_type": "execute_result",
          "data": {
            "text/plain": [
              "{32: 'Julie', 23: 'Rahul', 12: 'Jasmine', 15: 'Jack', 18: 'Jennifer'}"
            ]
          },
          "metadata": {
            "tags": []
          },
          "execution_count": 51
        }
      ]
    },
    {
      "cell_type": "markdown",
      "metadata": {
        "id": "RE6bDNT6jvfL"
      },
      "source": [
        "------"
      ]
    }
  ]
}