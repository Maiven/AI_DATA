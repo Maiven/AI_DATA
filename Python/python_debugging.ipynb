{
  "nbformat": 4,
  "nbformat_minor": 0,
  "metadata": {
    "colab": {
      "name": "python_debugging.ipynb",
      "provenance": [],
      "collapsed_sections": [],
      "authorship_tag": "ABX9TyPrnMbQOWidmZyEphzu5ESC",
      "include_colab_link": true
    },
    "kernelspec": {
      "name": "python3",
      "display_name": "Python 3"
    }
  },
  "cells": [
    {
      "cell_type": "markdown",
      "metadata": {
        "id": "view-in-github",
        "colab_type": "text"
      },
      "source": [
        "<a href=\"https://colab.research.google.com/github/Maiven/AI_blog/blob/main/Python/python_debugging.ipynb\" target=\"_parent\"><img src=\"https://colab.research.google.com/assets/colab-badge.svg\" alt=\"Open In Colab\"/></a>"
      ]
    },
    {
      "cell_type": "markdown",
      "metadata": {
        "id": "RJV3ZBuJ0wb0"
      },
      "source": [
        "# [디버깅사이트]\n",
        "\n",
        "- http://pythontutor.com/"
      ]
    },
    {
      "cell_type": "markdown",
      "metadata": {
        "id": "eAo4690s04Tn"
      },
      "source": [
        "- 코드를 본다.\n",
        "- 단계를 나눌 수 있다.\n",
        "- 단계 안에 문제를 발견할 수 있다.\n",
        "- 문제를 해결할 수 있다.\n",
        "- 비주얼 스튜디오를 활용하자. (디버깅툴이 워낙 좋다. 툴을 잘 활용하자)\n",
        "- 디버깅의 가장 쉬운 방법은 print이다. 하지만 print는 효율이 좋지 않다.(step over, into하면서 함수 간의 이동과 함수안에서의 세부적인 이동까지 볼 줄 알아야 함)\n",
        "- 밑바닥부터 코딩하는 경우는 없다. 기존의 코드를 통해 배워야 하는데 그것의 핵심은 디버깅이다.\n",
        "- 문제의 현상을 바라보고 해결하는 것보다, 문제가 발생한 근본적인 원인을 알아야 추가적인 문제까지 제어할 수 있다."
      ]
    },
    {
      "cell_type": "code",
      "metadata": {
        "id": "z4mNYDkk0TAG"
      },
      "source": [
        ""
      ],
      "execution_count": null,
      "outputs": []
    },
    {
      "cell_type": "markdown",
      "metadata": {
        "id": "I6gs2LYR06za"
      },
      "source": [
        "# 디버깅툴\n",
        "\n",
        "- https://thonny.org/"
      ]
    }
  ]
}