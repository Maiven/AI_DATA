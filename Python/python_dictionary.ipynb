{
  "nbformat": 4,
  "nbformat_minor": 0,
  "metadata": {
    "colab": {
      "name": "python_dictionary.ipynb",
      "provenance": [],
      "collapsed_sections": [],
      "toc_visible": true,
      "authorship_tag": "ABX9TyPBvqG92WhNybW2cn2tVrPp",
      "include_colab_link": true
    },
    "kernelspec": {
      "name": "python3",
      "display_name": "Python 3"
    }
  },
  "cells": [
    {
      "cell_type": "markdown",
      "metadata": {
        "id": "view-in-github",
        "colab_type": "text"
      },
      "source": [
        "<a href=\"https://colab.research.google.com/github/Maiven/AI_Python/blob/main/Python/python_dictionary.ipynb\" target=\"_parent\"><img src=\"https://colab.research.google.com/assets/colab-badge.svg\" alt=\"Open In Colab\"/></a>"
      ]
    },
    {
      "cell_type": "markdown",
      "metadata": {
        "id": "SOzRSC-EMiaL"
      },
      "source": [
        "# What are dictionaries ?\n",
        "\n",
        "- A dictionary in python is a mapping object that maps keys to values, where the keys are unique within a collection and the values can hold any arbitrary value. In addition to being unique, keys are also required to be hashable.\n",
        "\n",
        "- An object is said to be hashable if it has a hash value (implemented by a __hash__() method) that does not change during the object’s lifetime. Most commonly, we use immutable data types such as strings, integers, and tuples (only if they contain similarly immutable types) as dictionary keys.\n",
        "\n",
        "- A dictionary’s data is always enclosed by a pair of curly braces { }, and would normally look like this:\n"
      ]
    },
    {
      "cell_type": "code",
      "metadata": {
        "id": "rC7PHdocx9Y1"
      },
      "source": [
        "my_dict = {\"first_name\": \"John\", \"last_name\":\"Snow\", \"age\":16, \"gender\":\"Male\"}\n"
      ],
      "execution_count": null,
      "outputs": []
    },
    {
      "cell_type": "markdown",
      "metadata": {
        "id": "vBotnfrWMpUz"
      },
      "source": [
        "- We have created a dictionary named my_dict where each key-value pair is separated by a full colon, with the key-value pairs as:\n",
        "\n",
        "      first_name - John\n",
        "      last_name - Snow\n",
        "      age - 16\n",
        "      gender - Male"
      ]
    },
    {
      "cell_type": "markdown",
      "metadata": {
        "id": "qyKT2lchMu-O"
      },
      "source": [
        "## Dictionary Operations\n",
        "\n",
        "1. Creation\n",
        "\n",
        "- We initialize an empty dictionary using a pair of curly braces. This approach is often used when we expect to store some data at later stages of our operation.\n"
      ]
    },
    {
      "cell_type": "code",
      "metadata": {
        "id": "Amfez2E6Mycl"
      },
      "source": [
        "empty_dict = {}\n"
      ],
      "execution_count": null,
      "outputs": []
    },
    {
      "cell_type": "markdown",
      "metadata": {
        "id": "3H2vZAfYMz0f"
      },
      "source": [
        "- In the line above, we have created an empty dictionary named empty_dict.\n",
        "\n",
        "- For instances when we have our data beforehand, we use curly braces with the key-value pairs. We can now create a dictionary to represent the second row of data in the jobs.csv file.\n"
      ]
    },
    {
      "cell_type": "code",
      "metadata": {
        "id": "vVV0e0x2M3Ak"
      },
      "source": [
        ">>> job1 = {\"title\":\"Production Manager\",\n",
        "\"location\":\"Rest of Kenya\",\n",
        "\"job_type\":\"Full Time\",\n",
        "\"employer\":\"The African Talent Company (TATC)\",\n",
        "\"category\":\"Farming\"}"
      ],
      "execution_count": null,
      "outputs": []
    },
    {
      "cell_type": "markdown",
      "metadata": {
        "id": "BqVUugwRM4Nx"
      },
      "source": [
        "- We just created a dictionary with the keys title,location, job_type, employer, category and assigned it to the variable job1.\n",
        "\n",
        "- Dictionaries can also be created using the dict() constructor. To do this we pass the constructor a sequence of key-value pairs. We could also pass in named arguments.\n",
        "\n",
        "- Let's create a dictionary to represent the third row of data in the jobs.csv file, using both of these methods.\n"
      ]
    },
    {
      "cell_type": "code",
      "metadata": {
        "id": "pXWuRakDM9Vl"
      },
      "source": [
        "# create an empty dictionary\n",
        "empty_property = dict()\n",
        "\n",
        "# create dictionary using a list of key-value tuples\n",
        "job2 = dict([\n",
        "  (\"title\",\"Marketing & Business Development Manager\"),(\"location\",\"Mombasa\"),\n",
        "  (\"job_type\",\"Full Time\"),\n",
        "  (\"employer\",\"KUSCCO Limited (Kenya Union of Savings & Credit Co-operatives Limited)\"),\n",
        "  (\"category\",\"Marketing & Communications\")\n",
        "])\n"
      ],
      "execution_count": null,
      "outputs": []
    },
    {
      "cell_type": "markdown",
      "metadata": {
        "id": "brqeQnmJM-xX"
      },
      "source": [
        "- We passed a sequence, in this case a list of key-value tuples, to the dict() constructor to create our dictionary, and assigned it to the variable job2.\n"
      ]
    },
    {
      "cell_type": "code",
      "metadata": {
        "colab": {
          "base_uri": "https://localhost:8080/"
        },
        "id": "su7qs3y-NAfZ",
        "outputId": "05361d93-d103-4ac1-e3c5-56542e5ae32d"
      },
      "source": [
        "# Using keyword arguments\n",
        "dict(\n",
        "  title=\"Marketing & Business Development Manager\",\n",
        "  location=\"Mombasa\",job_type=\"Full Time\",\n",
        "  employer=\"KUSCCO Limited (Kenya Union of Savings & Credit Co-operatives Limited)\",\n",
        "  category=\"Marketing & Communications\"\n",
        ")\n"
      ],
      "execution_count": null,
      "outputs": [
        {
          "output_type": "execute_result",
          "data": {
            "text/plain": [
              "{'category': 'Marketing & Communications',\n",
              " 'employer': 'KUSCCO Limited (Kenya Union of Savings & Credit Co-operatives Limited)',\n",
              " 'job_type': 'Full Time',\n",
              " 'location': 'Mombasa',\n",
              " 'title': 'Marketing & Business Development Manager'}"
            ]
          },
          "metadata": {
            "tags": []
          },
          "execution_count": 6
        }
      ]
    },
    {
      "cell_type": "markdown",
      "metadata": {
        "id": "7YE9r05PNEsK"
      },
      "source": [
        "- Here, we created a dictionary using named arguments. The keys are the argument names, while the values are the argument values. It is however important to note that this method is only suitable when our keys are just simple strings.\n"
      ]
    },
    {
      "cell_type": "markdown",
      "metadata": {
        "id": "eGw09X9ANGLn"
      },
      "source": [
        "2. Accessing Items\n",
        "\n",
        "- As we mentioned earlier on, dictionaries are indexed using their keys.\n",
        "\n",
        "- To access a particular value in a dictionary we use the indexing operator (key inside square brackets). \n",
        "\n",
        "- However, to use this method, we need to make sure the key we intend to retrieve exists, lest we get a KeyError. \n",
        "\n",
        "- Checking for availability of a key is as easy as using the in operator.\n"
      ]
    },
    {
      "cell_type": "code",
      "metadata": {
        "colab": {
          "base_uri": "https://localhost:8080/"
        },
        "id": "327hYkqSNNFt",
        "outputId": "aba96b0b-59b3-430f-ef41-aad0e2e590b9"
      },
      "source": [
        "# Check existence of title\n",
        "print(\"title\" in job2) # returns True\n",
        "\n",
        "print(\"salary\" in job2) # returns False\n",
        "\n",
        "# Using key indexing\n",
        "print(job2[\"title\"]) # return 'Marketing & Business Development Manager'\n"
      ],
      "execution_count": null,
      "outputs": [
        {
          "output_type": "stream",
          "text": [
            "True\n",
            "False\n",
            "Marketing & Business Development Manager\n"
          ],
          "name": "stdout"
        }
      ]
    },
    {
      "cell_type": "markdown",
      "metadata": {
        "id": "SVIzJLoBN_z-"
      },
      "source": [
        "- In the example above we use indexing to access the title from job2 after making sure it is available using in.\n",
        "\n",
        "- If you are like me, this is probably a lot of work. \n",
        "\n",
        "- The good news, however, is that we have a better tool — the get() method.\n",
        "\n",
        "- This method works by giving out a value if the key exists, or returning None.\n",
        "\n",
        "- None sounds better than an error, right?\n"
      ]
    },
    {
      "cell_type": "markdown",
      "metadata": {
        "id": "0xHiKYepOGha"
      },
      "source": [
        "- What if we want to go even further, and return something, a placeholder of sorts? \n",
        "\n",
        "- get() takes a second argument, a default value to be used in place of None. \n",
        "\n",
        "- Now let's use in to check if title exists in job2, then we can use indexing to retrieve its value. \n",
        "\n",
        "- We'll also go ahead and use get() to retrieve salary from job2.\n"
      ]
    },
    {
      "cell_type": "code",
      "metadata": {
        "colab": {
          "base_uri": "https://localhost:8080/"
        },
        "id": "8XIaVTCJNO5O",
        "outputId": "c411b023-5aca-4adf-e0af-f1bc8dfa5975"
      },
      "source": [
        "# Using get() method\n",
        "job2.get(\"title\") # return 'Marketing & Business Development Manager'\n",
        "\n",
        "job2.get(\"salary\") # return None\n",
        "\n",
        "# Passing a second argument to get()\n",
        "job2.get(\"salary\", 5000) # return 5000\n"
      ],
      "execution_count": null,
      "outputs": [
        {
          "output_type": "execute_result",
          "data": {
            "text/plain": [
              "5000"
            ]
          },
          "metadata": {
            "tags": []
          },
          "execution_count": 9
        }
      ]
    },
    {
      "cell_type": "markdown",
      "metadata": {
        "id": "Tu7riofiONn9"
      },
      "source": [
        "- Here, we use get() to access the title and salary.\n",
        "\n",
        "- However, job2 doesn't have a salary key so the return value is None. \n",
        "\n",
        "- Adding a second argument, to get() now gives us 5000 instead of None.\n"
      ]
    },
    {
      "cell_type": "markdown",
      "metadata": {
        "id": "8DYrq7ThORdC"
      },
      "source": [
        "3. Modification\n",
        "\n",
        "- Dictionaries can be modified directly using the keys or using the update() method. \n",
        "\n",
        "- update() takes in a dictionary with the key-value pairs to be modified or added. \n",
        "\n",
        "- For our demonstration, let's:\n",
        "\n",
        "      Add a new item (salary) to job2 with a value of 10000.\n",
        "      Modify the job_type to be \"Part time\".\n",
        "      Update the salary to 20000.\n",
        "      Update the dictionary to include a new item (available) with a value of True.\n",
        "\n"
      ]
    },
    {
      "cell_type": "code",
      "metadata": {
        "id": "iVZIpu1OOMGj"
      },
      "source": [
        "# Adding a new entry for salary using the index\n",
        "job2[\"salary\"] = 10000\n",
        "\n",
        "# Modifying the entry for job_type using the index\n",
        "job2[\"job_type\"] = \"Part time\"\n",
        "\n",
        "# Modifying the salary entry using update\n",
        "job2.update({\"salary\":20000})\n",
        "\n",
        "# Adding the available entry using update\n",
        "job2.update({\"available\":True})\n"
      ],
      "execution_count": null,
      "outputs": []
    },
    {
      "cell_type": "markdown",
      "metadata": {
        "id": "30jy01z2OvnI"
      },
      "source": [
        "- To add a new entry, we use syntax similar to indexing. \n",
        "\n",
        "- If the key exists, then the value will be modified, however, \n",
        "\n",
        "- if the key doesn’t exist, a new entry will be created with the specified key and value.\n"
      ]
    },
    {
      "cell_type": "markdown",
      "metadata": {
        "id": "Kr_RUBH4O2e8"
      },
      "source": [
        "- Initially, we assigned a value of 10000 to the salary key, but since salary doesn't exist, a new entry is created, with that value. For our second example, the job_type key exists, the value is modified to \"Part time\".\n",
        "\n",
        "- Next, we use the update() method to change the salary value to 20000, since salary is already a key in the dictionary. Finally, we apply update() to the dictionary, a new entry is created with a key of available and value of True.\n"
      ]
    },
    {
      "cell_type": "markdown",
      "metadata": {
        "id": "HJrp99YBO5mo"
      },
      "source": [
        "- A particularly nice use case for update() is when we need to merge two dictionaries. Say we have another dictionary extra_info containing extra fields for a job, and we would like to merge this with job2.\n"
      ]
    },
    {
      "cell_type": "code",
      "metadata": {
        "id": "O52YrricOZC1"
      },
      "source": [
        "extra_info = {\n",
        "  \"verified\":True,\n",
        "  \"qualification\":\"Undergraduate Degree\",\n",
        "  \"taxable\":True}\n",
        "\n",
        "# Merge extra_info with job2\n",
        "job2.update(extra_info)\n"
      ],
      "execution_count": null,
      "outputs": []
    },
    {
      "cell_type": "markdown",
      "metadata": {
        "id": "3FWNR7uxO8A-"
      },
      "source": [
        "4. Deletion\n",
        "\n",
        "- We can now remove the just created salary entry from job2, and remove everything from job1.\n"
      ]
    },
    {
      "cell_type": "code",
      "metadata": {
        "id": "FTnhR3cuOflm"
      },
      "source": [
        "del job2[\"salary\"]\n",
        "del job2[\"available\"]\n",
        "print(job2) #return a dictionary without 'salary' and 'available' entries\n",
        "\n",
        "job1.clear()\n",
        "print(job1) #return an empty dictionary\n",
        "\n",
        "del job1\n",
        "print(job1) # return NameError\n"
      ],
      "execution_count": null,
      "outputs": []
    },
    {
      "cell_type": "markdown",
      "metadata": {
        "id": "-G0BGNZ5TFUc"
      },
      "source": [
        "- To remove the entries associated with the salary and available keys from job2, we use the del keyword. \n",
        "\n",
        "- Now if we go ahead and print job2, the salary and available entries are gone.\n"
      ]
    },
    {
      "cell_type": "markdown",
      "metadata": {
        "id": "Vi8cdE-NTIVf"
      },
      "source": [
        "- Removing all items from job1 entails using the clear() method, which leaves us with an empty dictionary. \n",
        "\n",
        "- If we don't need a dictionary anymore, say job1, we use the del keyword to delete it. \n",
        "\n",
        "- Now if we try printing job1 we'll get a NameErrorsince job1 is no longer defined.\n"
      ]
    },
    {
      "cell_type": "markdown",
      "metadata": {
        "id": "WKq3JDzxTL5P"
      },
      "source": [
        "6. Iteration\n",
        "\n",
        "- A dictionary by itself is an iterable of its keys. Moreover, we can iterate through dictionaries in 3 different ways:\n",
        "\n",
        "      dict.values() - this returns an iterable of the dictionary's values.\n",
        "      dict.keys() - this returns an iterable of the dictionary's keys.\n",
        "      dict.items() - this returns an iterable of the dictionary's (key,value) pairs.\n",
        "\n",
        "- But why would we need to iterate over a dictionary?\n"
      ]
    },
    {
      "cell_type": "markdown",
      "metadata": {
        "id": "nKcabQYqTTxQ"
      },
      "source": [
        "- Our dataset has about 860 listings, suppose we wanted to display the properties of all these on our website, it wouldn’t make sense to write the same markup 860 times. \n",
        "\n",
        "- It would be efficient to dynamically render the data using a loop.\n"
      ]
    },
    {
      "cell_type": "markdown",
      "metadata": {
        "id": "SAy-I9RMTYDR"
      },
      "source": [
        "- Let’s iterate over job2 using a for-loop using all the three methods. \n",
        "\n",
        "- Furthermore we'll use the csv module to read our csv-formatted data in to a list of dictionaries, then we'll iterate through all the dictionaries and print out the keys and values.\n"
      ]
    },
    {
      "cell_type": "code",
      "metadata": {
        "id": "tzd588R_Tbe3"
      },
      "source": [
        "# Iterating through the dictionary itself\n",
        "for x in job2:\n",
        "    print(x) # prints the keys of job2\n",
        "    \n",
        "# Using keys()\n",
        "for key in job2.keys():\n",
        "    print(key) # prints the keys of job2\n",
        "    \n",
        "# Using values()\n",
        "for val in job2.values():\n",
        "    print(val) # prints the values of job2\n",
        "    \n",
        "# Dictionary iteration use case\n",
        "import csv\n",
        "with open('jobs.csv','r') as csv_file:\n",
        "    reader = csv.DictReader(csv_file)\n",
        "    for job in reader:\n",
        "        \n",
        "        # Using items()\n",
        "        for key,val in job.items():\n",
        "            # Apply any additional processing\n",
        "            print(key, val) #print the keys and values of each job\n"
      ],
      "execution_count": null,
      "outputs": []
    },
    {
      "cell_type": "markdown",
      "metadata": {
        "id": "dYa7tp2STeOH"
      },
      "source": [
        "- First, we loop through the dictionary as it is. This is similar in output to stepping through the job2.keys() iterable.\n",
        "\n",
        "- Secondly, we iterate through job2.values() while printing out the value.\n",
        "Finally, we step through the list of dictionaries, and for each one, loop through the keys and values simultaneously.\n",
        "\n",
        "- We include both key and value in the for-loop constructor since job.items() yields a tuple of key and value during each iteration. We can now apply any kind of operation to our data at this point. Our implementation simply prints out the pair at each step.\n"
      ]
    },
    {
      "cell_type": "markdown",
      "metadata": {
        "id": "Ax9eKf8sT25Y"
      },
      "source": [
        "7. Sorting\n",
        "\n",
        "- Borrowing from our description of dictionaries earlier, this data type is meant to be unordered, and doesn’t come with the sorting functionality baked in. Calling the sorted() function and passing it a dictionary only returns a list of the keys in a sorted order, since the dictionary is an iterable of its keys.\n",
        "\n",
        "- If we use the items() iterable we could sort the items of our dictionary as we please. However, this doesn't give us our original dictionary, but a list of key-value tuples in a sorted order.\n",
        "\n",
        "- Say we wanted to display the job details in the above example in alphabetical order, We would need to alter our iteration to give sorted results. Lets walk through the example again an see how we would achieve that functionality."
      ]
    },
    {
      "cell_type": "code",
      "metadata": {
        "id": "5ovveSOUV_BF"
      },
      "source": [
        "with open('jobs.csv','r') as csv_file:\n",
        "    reader = csv.DictReader(csv_file)\n",
        "    for job in reader:\n",
        "        \n",
        "        # Using sorted() to sort a dictionary's items on the keys\n",
        "        for key,val in sorted(job.items(),key=lambda item:item[0]):\n",
        "        \n",
        "            # Apply any additional processing\n",
        "            print(key, val) #print the keys and values of each job\n"
      ],
      "execution_count": null,
      "outputs": []
    },
    {
      "cell_type": "markdown",
      "metadata": {
        "id": "i0QasWzcWB_G"
      },
      "source": [
        "- In this example we use python’s inbuilt sorted() function which takes in an iterable (our dictionary's items).\n"
      ]
    },
    {
      "cell_type": "markdown",
      "metadata": {
        "id": "gtsyiAHXWY0Z"
      },
      "source": [
        "8. Anti-patterns: Wrong usage\n",
        "\n",
        "- Compared to lists and tuples, dictionaries take up more space in memory, since they need to store both the key and value, as opposed to just values.\n",
        "\n",
        "- Therefore, dictionaries should only be used in cases where we have associative data, that would lose meaning if stored in lists, or any other sequenced data type.\n",
        "\n",
        "- Dictionaries are mutable, hence not suitable for storing data than shouldn’t be modified in place.\n",
        "\n",
        "- Since dictionaries are unordered, it would not be sensible to store strictly arranged data in them.\n",
        "\n",
        "- A possible candidate data type for this scenario would be the OrderedDict from the collections module. An OrderedDict is a subclass of the regular dict class, with the advantage of tracking the order in which keys were added.\n",
        "\n",
        "- Dictionaries are well-designed to let us find a value instantly without necessarily having to search through the entire collection, hence we should not use loops for such an operation.\n",
        "\n"
      ]
    },
    {
      "cell_type": "code",
      "metadata": {
        "id": "e9Tx8Sg3Ws5n"
      },
      "source": [
        "# How not to search for a value and return it\n",
        "key_i_need = \"location\"\n",
        "target = \"\"\n",
        "for key in job2:\n",
        "    if key == key_i_need:\n",
        "        target = job2[key]\n",
        "        \n",
        "# How to search efficiently\n",
        "target = job2.get(\"location\")\n"
      ],
      "execution_count": null,
      "outputs": []
    },
    {
      "cell_type": "markdown",
      "metadata": {
        "id": "2karMRcRXPqD"
      },
      "source": [
        "- We have a variable key_i_need containing the key we want to search for. We have used a for loop to traverse the collection, comparing the key at each step with our variable. If we get a match, we assign that key's value to the variable target.\n",
        "This is the wrong approach. We should instead use get(), and pass it the desired key.\n"
      ]
    },
    {
      "cell_type": "markdown",
      "metadata": {
        "id": "GklO2y9-v7pA"
      },
      "source": [
        "# 딕셔너리 : 값(value)으로 키(key) 찾기\n",
        "\n",
        "- 그런데 만약 value를 이용해서 자주 key를 찾는다면\n",
        "\n",
        "- 매번 딕셔너리 전체를 순회하면서 가져오기 때문에 비효율적입니다.\n",
        "\n",
        "- 기존 방법보다 2배의 저장 공간을 사용하는 단점과 value값에 중복이 있는 경우 1개만 저장되는 단점이 있습니다.\n",
        "\n",
        "- 그렇더라도 더 빠른 속도가 필요한 경우 유용하게 사용할 수 있습니다.\n",
        "\n",
        "\n",
        "\n"
      ]
    },
    {
      "cell_type": "code",
      "metadata": {
        "colab": {
          "base_uri": "https://localhost:8080/"
        },
        "id": "ns681pZ5wCeg",
        "outputId": "5d33b710-21fa-48bc-e062-1555241a7bf4"
      },
      "source": [
        "test =  {'0' : 'AA',\n",
        "         '1' : 'BB',\n",
        "         '2' : 'CC'}\n",
        "test"
      ],
      "execution_count": 10,
      "outputs": [
        {
          "output_type": "execute_result",
          "data": {
            "text/plain": [
              "{'0': 'AA', '1': 'BB', '2': 'CC'}"
            ]
          },
          "metadata": {
            "tags": []
          },
          "execution_count": 10
        }
      ]
    },
    {
      "cell_type": "code",
      "metadata": {
        "colab": {
          "base_uri": "https://localhost:8080/",
          "height": 35
        },
        "id": "qGbVpCCRwIXJ",
        "outputId": "0e3cb0c9-cd7b-4c96-f1cd-582421c41754"
      },
      "source": [
        "test.get('1')"
      ],
      "execution_count": 3,
      "outputs": [
        {
          "output_type": "execute_result",
          "data": {
            "application/vnd.google.colaboratory.intrinsic+json": {
              "type": "string"
            },
            "text/plain": [
              "'BB'"
            ]
          },
          "metadata": {
            "tags": []
          },
          "execution_count": 3
        }
      ]
    },
    {
      "cell_type": "code",
      "metadata": {
        "colab": {
          "base_uri": "https://localhost:8080/",
          "height": 35
        },
        "id": "Rh_4_FuiwK0l",
        "outputId": "c41e7739-ccbc-45be-fd09-f755ba9b1315"
      },
      "source": [
        "test['1']"
      ],
      "execution_count": 4,
      "outputs": [
        {
          "output_type": "execute_result",
          "data": {
            "application/vnd.google.colaboratory.intrinsic+json": {
              "type": "string"
            },
            "text/plain": [
              "'BB'"
            ]
          },
          "metadata": {
            "tags": []
          },
          "execution_count": 4
        }
      ]
    },
    {
      "cell_type": "code",
      "metadata": {
        "colab": {
          "base_uri": "https://localhost:8080/"
        },
        "id": "H03Ozl7dwOsr",
        "outputId": "040ba04e-4b64-482b-caaa-86338483a7ac"
      },
      "source": [
        "[k for k,v in test.items() if v == 'CC']"
      ],
      "execution_count": 5,
      "outputs": [
        {
          "output_type": "execute_result",
          "data": {
            "text/plain": [
              "['2']"
            ]
          },
          "metadata": {
            "tags": []
          },
          "execution_count": 5
        }
      ]
    },
    {
      "cell_type": "code",
      "metadata": {
        "colab": {
          "base_uri": "https://localhost:8080/"
        },
        "id": "uuBRbav_wU3i",
        "outputId": "7041cde9-f5c4-4e37-c020-51c2dcb29517"
      },
      "source": [
        "test.items()"
      ],
      "execution_count": 6,
      "outputs": [
        {
          "output_type": "execute_result",
          "data": {
            "text/plain": [
              "dict_items([('0', 'AA'), ('1', 'BB'), ('2', 'CC')])"
            ]
          },
          "metadata": {
            "tags": []
          },
          "execution_count": 6
        }
      ]
    },
    {
      "cell_type": "code",
      "metadata": {
        "colab": {
          "base_uri": "https://localhost:8080/"
        },
        "id": "DJz0C_mdwWor",
        "outputId": "4cbbe3d4-ecc6-4a48-cab5-f50fb7871114"
      },
      "source": [
        "{v:k for k,v in test.items()}"
      ],
      "execution_count": 9,
      "outputs": [
        {
          "output_type": "execute_result",
          "data": {
            "text/plain": [
              "{'AA': '0', 'BB': '1', 'CC': '2'}"
            ]
          },
          "metadata": {
            "tags": []
          },
          "execution_count": 9
        }
      ]
    },
    {
      "cell_type": "code",
      "metadata": {
        "colab": {
          "base_uri": "https://localhost:8080/"
        },
        "id": "03mS59JJw6Ed",
        "outputId": "b62ed07d-1879-4315-cb3b-789a17876abc"
      },
      "source": [
        "print(test.copy().items())\n",
        "print(test.items())\n",
        "print(test.keys())\n",
        "print(test.values())\n",
        "print(test['0'])"
      ],
      "execution_count": 12,
      "outputs": [
        {
          "output_type": "stream",
          "text": [
            "dict_items([('0', 'AA'), ('1', 'BB'), ('2', 'CC')])\n",
            "dict_items([('0', 'AA'), ('1', 'BB'), ('2', 'CC')])\n",
            "dict_keys(['0', '1', '2'])\n",
            "dict_values(['AA', 'BB', 'CC'])\n",
            "AA\n"
          ],
          "name": "stdout"
        }
      ]
    }
  ]
}