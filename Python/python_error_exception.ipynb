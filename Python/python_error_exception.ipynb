{
  "nbformat": 4,
  "nbformat_minor": 0,
  "metadata": {
    "colab": {
      "name": "python_error_exception.ipynb",
      "provenance": [],
      "collapsed_sections": [],
      "authorship_tag": "ABX9TyN9jCmWc0ePasX9C2I0BUcz",
      "include_colab_link": true
    },
    "kernelspec": {
      "name": "python3",
      "display_name": "Python 3"
    }
  },
  "cells": [
    {
      "cell_type": "markdown",
      "metadata": {
        "id": "view-in-github",
        "colab_type": "text"
      },
      "source": [
        "<a href=\"https://colab.research.google.com/github/Maiven/AI_Python/blob/main/Python/python_error_exception.ipynb\" target=\"_parent\"><img src=\"https://colab.research.google.com/assets/colab-badge.svg\" alt=\"Open In Colab\"/></a>"
      ]
    },
    {
      "cell_type": "markdown",
      "metadata": {
        "id": "Dn3RsHG59X-G"
      },
      "source": [
        "# 파이썬 에러와 예외처리"
      ]
    },
    {
      "cell_type": "markdown",
      "metadata": {
        "id": "0yGZnlHG9dcx"
      },
      "source": [
        "## 목표\n",
        "- 파이썬 에러\n",
        "- 구문 에러 (Syntax Error)\n",
        "- 런타임 에러 (Runtime Error)\n",
        "- 구문 에러 vs 런타임 에러\n"
      ]
    },
    {
      "cell_type": "markdown",
      "metadata": {
        "id": "rB0ts23P9oKs"
      },
      "source": [
        "### 파이썬 에러\n",
        "- 보통 프로그래밍언어/프로그램에서 발생하는 에러는 두가지가 존재한다. \n",
        "- 첫번재는 구문에러(Syntax Error)이고, 두번째는 실행에러(Runtime Error)이다. \n",
        "- 구문에러는 컴파일 시 나는 문법에서 나는 에러이고, 실행 에러는 프로그램 실행 도중에 나는 에러이다. \n",
        "- 따라서 컴파일 해야 하는 언어들은 컴파일 당시에 구문에러가 나고, 구문에러를 고친 후 컴파일이 완료되면 실행을 시킬 수 있다. \n",
        "- 그러다 실행 중에 에러가 나면 그것은 실행 에러이다. \n",
        "- 따라서 컴파일 해야 하는 언어들의 경우 구문에러와 실행에러의 구분이 거의 명확하다. \n",
        "- 인터프리터에서는 어떨까? \n"
      ]
    },
    {
      "cell_type": "markdown",
      "metadata": {
        "id": "oe6kASBIAC4_"
      },
      "source": [
        "### 구문 에러 (SyntaxError)\n",
        "\n",
        "- 구문 에러의 경우는 대부분 오타나 들여쓰기(인덴션) 문제이다. 괄호를 빼먹었거나, 들여쓰기를 잘못하는 것 처럼 '문법'에 맞지 않게 문장을 작성 한 경우 난다.\n",
        "\n"
      ]
    },
    {
      "cell_type": "code",
      "metadata": {
        "id": "8yr5Iqah1VA2"
      },
      "source": [
        "print\"Hello World!\") "
      ],
      "execution_count": null,
      "outputs": []
    },
    {
      "cell_type": "markdown",
      "metadata": {
        "id": "InEEwZgiAKh1"
      },
      "source": [
        "### 런타임 에러 (Runtime Error)\n",
        "\n",
        "-  런타임 에러란 파이썬 인터프리터가 번역한 명령어가 실행 도중에 에러가 나는 경우이다. 대표적으로 다음과 같은 경우들이 있다."
      ]
    },
    {
      "cell_type": "markdown",
      "metadata": {
        "id": "SEMcZm2HAUmT"
      },
      "source": [
        "#### ZeroDivisionError: division by zero\n"
      ]
    },
    {
      "cell_type": "code",
      "metadata": {
        "id": "qhDUZZfCAWrU"
      },
      "source": [
        "val = 3/0\n",
        "print(val)"
      ],
      "execution_count": null,
      "outputs": []
    },
    {
      "cell_type": "markdown",
      "metadata": {
        "id": "I9e1-x3pAYCM"
      },
      "source": [
        "-  수학에서는 어떤 숫자를 0으로 나눌 수 없다. 마찬가지로 0으로 어떤 수를 나누려고 한다면 ZeroDivisionError가 난다. \n"
      ]
    },
    {
      "cell_type": "markdown",
      "metadata": {
        "id": "heRmsw-SAZug"
      },
      "source": [
        "#### IndexError: list index out of range"
      ]
    },
    {
      "cell_type": "code",
      "metadata": {
        "id": "XbN1ZZMPAcEn"
      },
      "source": [
        "list = []\n",
        "print(list[0])"
      ],
      "execution_count": null,
      "outputs": []
    },
    {
      "cell_type": "markdown",
      "metadata": {
        "id": "5VTzY0ZuAdoe"
      },
      "source": [
        "-  위의 에러는 list를 선언했지만 내부에 아무 값도 없는경우 난다. \n",
        "\n"
      ]
    },
    {
      "cell_type": "markdown",
      "metadata": {
        "id": "svSdXFMNAflG"
      },
      "source": [
        "#### NameError: name '  ' is not defined\n"
      ]
    },
    {
      "cell_type": "code",
      "metadata": {
        "id": "oVVQ_TtpAhjI"
      },
      "source": [
        "print(val)\n"
      ],
      "execution_count": null,
      "outputs": []
    },
    {
      "cell_type": "markdown",
      "metadata": {
        "id": "1VTFj9KyAi59"
      },
      "source": [
        "-  이 값은 선언되지 않은 변수를 참조 할 때 나는 에러이다.\n",
        "\n",
        "- 이 밖에도 여러가지 에러가 있지만 이 포스트에서 생략하겠다. 프로그래밍을 하다보면 여러가지 에러를 만나게 될 것이고 대부분의 경우는 위와같은 런타임 에러(Runtime Error)일 것이다. 이런 런타임 에러를 보통 예외(Exception)이라고 부른다. "
      ]
    },
    {
      "cell_type": "markdown",
      "metadata": {
        "id": "69Vgbsr2AmX_"
      },
      "source": [
        "#### Traceback\n",
        "\n",
        "- 예외는 실행 도중 나기 때문에 보통 'Traceback' 정보를 제공한다. Traceback는 예를들어서 예외가 난 부분이 내 함수가 아니라, 내 함수 안의 다른 함수 내부에서 난 경우 정확히 어느 함수가 뭘 실행하다가 이 예외가 났는지 알려주는 함수의 콜 체인(call chain)이다.\n"
      ]
    },
    {
      "cell_type": "code",
      "metadata": {
        "id": "9HhTdLsIApza"
      },
      "source": [
        "def divide(x, y):\n",
        "return x/y\n",
        "\n",
        "def func(x, y):\n",
        "return divide(x, y)\n",
        "\n",
        "\n",
        "func(1, 2)\n",
        "func(1, 0)\n"
      ],
      "execution_count": null,
      "outputs": []
    },
    {
      "cell_type": "markdown",
      "metadata": {
        "id": "Tt8kwatNAxDd"
      },
      "source": [
        "- 예외 메시지만 가지고 어디에서 문제가 발생했는지 찾기 매우 어려울 것이다. 이것이 바로 파이썬 또는 대부분의 언어들이 Traceback(함수의 콜 체인)을 제공하는 이유이다."
      ]
    },
    {
      "cell_type": "markdown",
      "metadata": {
        "id": "Grxpma9OAzC5"
      },
      "source": [
        "### 구문 에러 vs 런타임 에러\n",
        "\n",
        "- 아래와 같은 코드를 실행 해 보자. value라는 값이 존재하지 않으므로 NameError라는 런타임 에러가 난다.\n"
      ]
    },
    {
      "cell_type": "code",
      "metadata": {
        "id": "pvRZhPFAA2WM"
      },
      "source": [
        "val = 5\n",
        "if val > 3 :\n",
        "  print(value + 1)\n",
        "else :\n",
        "  print(val - 1)\n"
      ],
      "execution_count": null,
      "outputs": []
    },
    {
      "cell_type": "code",
      "metadata": {
        "id": "oAfMilAHA4wM"
      },
      "source": [
        "val = 2\n",
        "if val > 3 :\n",
        "  print(value + 1)\n",
        "else :\n",
        "  print(val - 1)"
      ],
      "execution_count": null,
      "outputs": []
    },
    {
      "cell_type": "markdown",
      "metadata": {
        "id": "bwDEC1y3A8aV"
      },
      "source": [
        "- 에러가 나지 않고 실행 되는 것을 확인 할 수 있다. \n",
        "\n",
        "- 왜인가? val이 3보다 크지 않았기 때문에 print(value + 1)부분을 실행하지 않았기 때문이다! \n",
        "\n",
        "- 실행(런타임)하지 않았으므로 에러가 날 일도 없다. \n",
        "\n",
        "- 위에서는 val = 5이기 째문에 첫번째 if 블록으로 들어가 에러가 나는 부분이 실행 돼 실행(런타임) 에러가 난 것이다."
      ]
    },
    {
      "cell_type": "code",
      "metadata": {
        "id": "5RbvYTuIBCUG"
      },
      "source": [
        "val = 5\n",
        "if val > 3 :\n",
        "  print(val + 1)\n",
        "else :\n",
        "  printval - 1)"
      ],
      "execution_count": null,
      "outputs": []
    },
    {
      "cell_type": "code",
      "metadata": {
        "id": "L4Q16DPgBGxZ"
      },
      "source": [
        "val = 2\n",
        "if val > 3 :\n",
        "  printval + 1)\n",
        "else :\n",
        "  print(val - 1)\n"
      ],
      "execution_count": null,
      "outputs": []
    },
    {
      "cell_type": "markdown",
      "metadata": {
        "id": "jjs7XIDtBMfZ"
      },
      "source": [
        "- if블록이 실행되지 않아도 구문 에러가 나는 것을 확인 할 수 있다. \n",
        "\n",
        "- 왜 구문에러는 실행에러처럼 실행이 안되는 경우 무시되지 않는걸까? \n",
        "\n",
        "- 파이썬이 처음 인터프리터를 실행하면 파싱을 위해 이 파일을 분석한다. \n",
        "\n",
        "- 분석 과정에서 파이썬 인터프리터가 이해하지 못하는 문법이 나오면 실행을 중지하고 SyntaxError를 낸다. \n",
        "\n",
        "- 더 자세한 사항은 렉서(Lexer), 파서(Parser), 추상구문트리(Abstract Syntax Tree)등의 컴파일러 이론을 알아야 하므로 깊게 다루진 않겠다. \n",
        "\n",
        "- 만약 여러분이 컴퓨터 공학도이고 컴파일러와 프로그래밍 언어를 배우는 중이라면 스스로 더 찾아보기를 권한다."
      ]
    },
    {
      "cell_type": "markdown",
      "metadata": {
        "id": "9akvjN1jBWyP"
      },
      "source": [
        "- 이번 포스트를 통해서 에러의 종류를 알아보고, 파이썬에서 나는 에러의 종류에 대해 알아보았다. \n",
        "- 구문에러/런타임에러는 꼭 파이썬에서만 나는 에러가 아니고 대부분의 프로그래밍 언어에서 나는 에러이다. \n",
        "- 또 우리가 이 포스트에서 다루지 않은 세번째 에러가 있다. \n",
        "- 바로 로직 에러(Logic Error)이다. \n",
        "- 우리가 보통 버그라고 부르는 대부분의 에러들이 로직 에러이다. \n",
        "- 로직 에러의 원인은 우리이다. \n",
        "- 우리가 잘못된 로직으로 프로그래밍해 프로그램이 요구사항대로 돌아가지 않는 것을 버그라고 부른다. \n",
        "- 그리고 그런 로직 에러를 찾는 것을 디버깅(Debugging)이라고 부른다."
      ]
    },
    {
      "cell_type": "markdown",
      "metadata": {
        "id": "5vpD-IJ4Bg-D"
      },
      "source": [
        "ref : https://imasoftwareengineer.tistory.com/64?category=769846"
      ]
    }
  ]
}