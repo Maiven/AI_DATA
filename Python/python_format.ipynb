{
  "nbformat": 4,
  "nbformat_minor": 0,
  "metadata": {
    "colab": {
      "name": "python_format.ipynb",
      "provenance": [],
      "collapsed_sections": [],
      "authorship_tag": "ABX9TyPJ6qzvALkkTbtVaJzbXwjc",
      "include_colab_link": true
    },
    "kernelspec": {
      "name": "python3",
      "display_name": "Python 3"
    }
  },
  "cells": [
    {
      "cell_type": "markdown",
      "metadata": {
        "id": "view-in-github",
        "colab_type": "text"
      },
      "source": [
        "<a href=\"https://colab.research.google.com/github/Maiven/AI_blog/blob/main/Python/python_format.ipynb\" target=\"_parent\"><img src=\"https://colab.research.google.com/assets/colab-badge.svg\" alt=\"Open In Colab\"/></a>"
      ]
    },
    {
      "cell_type": "markdown",
      "metadata": {
        "id": "zgFrFzROeVOg"
      },
      "source": [
        "# 7.1.2. 문자열 format() 메서드\n",
        "- ref : https://docs.python.org/ko/3/tutorial/inputoutput.html"
      ]
    },
    {
      "cell_type": "markdown",
      "metadata": {
        "id": "28ltSTq3eZIT"
      },
      "source": [
        "- str.format() 메서드의 기본적인 사용법은 이런 식입니다:\n",
        "\n"
      ]
    },
    {
      "cell_type": "code",
      "metadata": {
        "colab": {
          "base_uri": "https://localhost:8080/"
        },
        "id": "kotlL1gseS8_",
        "outputId": "d9619492-2827-4325-e119-573fedb49b33"
      },
      "source": [
        "print('We are the {} who say \"{}!\"'.format('knights', 'Ni'))"
      ],
      "execution_count": 1,
      "outputs": [
        {
          "output_type": "stream",
          "text": [
            "We are the knights who say \"Ni!\"\n"
          ],
          "name": "stdout"
        }
      ]
    },
    {
      "cell_type": "markdown",
      "metadata": {
        "id": "vA1e-kuGeejq"
      },
      "source": [
        "- 중괄호와 그 안에 있는 문자들 (포맷 필드라고 부른다) 은 str.format() 메서드로 전달된 객체들로 치환됩니다. \n",
        "- 중괄호 안의 숫자는 str.format() 메서드로 전달된 객체들의 위치를 가리키는데 사용될 수 있습니다.\n",
        "\n"
      ]
    },
    {
      "cell_type": "code",
      "metadata": {
        "colab": {
          "base_uri": "https://localhost:8080/"
        },
        "id": "u_-WdyLtebjt",
        "outputId": "d5d18528-d6bb-4230-ddfa-794383aebfa3"
      },
      "source": [
        ">>> print('{0} and {1}'.format('spam', 'eggs'))\n",
        ">>> print('{1} and {0}'.format('spam', 'eggs'))\n"
      ],
      "execution_count": 3,
      "outputs": [
        {
          "output_type": "stream",
          "text": [
            "spam and eggs\n",
            "eggs and spam\n"
          ],
          "name": "stdout"
        }
      ]
    },
    {
      "cell_type": "markdown",
      "metadata": {
        "id": "4p8aqgX5en0m"
      },
      "source": [
        "- str.format() 메서드에 키워드 인자가 사용되면, 그 값들은 인자의 이름을 사용해서 지정할 수 있습니다.\n",
        "\n"
      ]
    },
    {
      "cell_type": "code",
      "metadata": {
        "colab": {
          "base_uri": "https://localhost:8080/"
        },
        "id": "YmbQvBFrekVy",
        "outputId": "64126c3e-2a63-417a-ef1c-08def3e0e1cb"
      },
      "source": [
        "print('This {food} is {adjective}.'.format(\n",
        "...       food='spam', adjective='absolutely horrible'))"
      ],
      "execution_count": 9,
      "outputs": [
        {
          "output_type": "stream",
          "text": [
            "This spam is absolutely horrible.\n"
          ],
          "name": "stdout"
        }
      ]
    },
    {
      "cell_type": "markdown",
      "metadata": {
        "id": "_mBj2kVqe0r2"
      },
      "source": [
        "- 위치와 키워드 인자를 자유롭게 조합할 수 있습니다:\n",
        "\n"
      ]
    },
    {
      "cell_type": "code",
      "metadata": {
        "colab": {
          "base_uri": "https://localhost:8080/"
        },
        "id": "s2MGY8U9epy8",
        "outputId": "f18d7b77-e8a1-4cc8-a0d3-d3f5c17ccbac"
      },
      "source": [
        "print('The story of {0}, {1}, and {other}.'.format('Bill', 'Manfred',\n",
        "                                                       other='Georg'))"
      ],
      "execution_count": 10,
      "outputs": [
        {
          "output_type": "stream",
          "text": [
            "The story of Bill, Manfred, and Georg.\n"
          ],
          "name": "stdout"
        }
      ]
    },
    {
      "cell_type": "markdown",
      "metadata": {
        "id": "_fJhG1Ode7aU"
      },
      "source": [
        "- 나누고 싶지 않은 정말 긴 포맷 문자열이 있을 때, 포맷할 변수들을 위치 대신에 이름으로 지정할 수 있다면 좋을 것입니다. \n",
        "- 간단히 딕셔너리를 넘기고 키를 액세스하는데 대괄호 '[]' 를 사용하면 됩니다.\n",
        "\n"
      ]
    },
    {
      "cell_type": "code",
      "metadata": {
        "colab": {
          "base_uri": "https://localhost:8080/"
        },
        "id": "dkPythpye2wg",
        "outputId": "be6f2e61-5e75-4d34-d1ca-0a169309cf02"
      },
      "source": [
        "table = {'Sjoerd': 4127, 'Jack': 4098, 'Dcab': 8637678}\n",
        "print('Jack: {0[Jack]:d}; Sjoerd: {0[Sjoerd]:d}; Dcab: {0[Dcab]:d}'.format(table))"
      ],
      "execution_count": 14,
      "outputs": [
        {
          "output_type": "stream",
          "text": [
            "Jack: 4098; Sjoerd: 4127; Dcab: 8637678\n"
          ],
          "name": "stdout"
        }
      ]
    },
    {
      "cell_type": "markdown",
      "metadata": {
        "id": "mX1XXUQ6fMUd"
      },
      "source": [
        "- 〈**〉 표기법을 사용해서 table을 키워드 인자로 전달해도 같은 결과를 얻을 수 있습니다.\n",
        "\n"
      ]
    },
    {
      "cell_type": "code",
      "metadata": {
        "colab": {
          "base_uri": "https://localhost:8080/"
        },
        "id": "ze66g9Zhe_Dq",
        "outputId": "07760198-4ffe-4a44-fc20-1f7f54f2592e"
      },
      "source": [
        "table = {'Sjoerd': 4127, 'Jack': 4098, 'Dcab': 8637678}\n",
        "print('Jack: {Jack:d}; Sjoerd: {Sjoerd:d}; Dcab: {Dcab:d}'.format(**table))\n"
      ],
      "execution_count": 15,
      "outputs": [
        {
          "output_type": "stream",
          "text": [
            "Jack: 4098; Sjoerd: 4127; Dcab: 8637678\n"
          ],
          "name": "stdout"
        }
      ]
    },
    {
      "cell_type": "markdown",
      "metadata": {
        "id": "V88d9maOfTrD"
      },
      "source": [
        "- 이 방법은 모든 지역 변수들을 담은 딕셔너리를 돌려주는 내장 함수 vars() 와 함께 사용할 때 특히 쓸모가 있습니다.\n",
        "\n",
        "- 예를 들어, 다음 줄은 정수와 그 제곱과 세제곱을 제공하는 빽빽하게 정렬된 열 집합을 생성합니다:\n",
        "\n"
      ]
    },
    {
      "cell_type": "code",
      "metadata": {
        "colab": {
          "base_uri": "https://localhost:8080/"
        },
        "id": "KPZX34e6fPJf",
        "outputId": "92a5cadc-0600-4f94-dc54-e9aaf385dbc1"
      },
      "source": [
        "for x in range(1, 11):\n",
        "  print('{0:2d} {1:3d} {2:4d}'.format(x, x*x, x*x*x))"
      ],
      "execution_count": 17,
      "outputs": [
        {
          "output_type": "stream",
          "text": [
            " 1   1    1\n",
            " 2   4    8\n",
            " 3   9   27\n",
            " 4  16   64\n",
            " 5  25  125\n",
            " 6  36  216\n",
            " 7  49  343\n",
            " 8  64  512\n",
            " 9  81  729\n",
            "10 100 1000\n"
          ],
          "name": "stdout"
        }
      ]
    },
    {
      "cell_type": "markdown",
      "metadata": {
        "id": "jeWlKL_AfmMA"
      },
      "source": [
        "# 7.1.3. 수동 문자열 포매팅"
      ]
    },
    {
      "cell_type": "markdown",
      "metadata": {
        "id": "GaeuKjkPfqu9"
      },
      "source": [
        "- 여기 같은 제곱수와 세제곱수 표를 수동으로 포매팅했습니다:\n",
        "\n"
      ]
    },
    {
      "cell_type": "code",
      "metadata": {
        "colab": {
          "base_uri": "https://localhost:8080/"
        },
        "id": "d2OOfcZCfXFg",
        "outputId": "cbe95080-5225-4529-fbfb-485698bc3efd"
      },
      "source": [
        "for x in range(1, 11):\n",
        "  print(repr(x).rjust(2), repr(x*x).rjust(3), end=' ')\n",
        "  # Note use of 'end' on previous line\n",
        "  print(repr(x*x*x).rjust(4))"
      ],
      "execution_count": 19,
      "outputs": [
        {
          "output_type": "stream",
          "text": [
            " 1   1    1\n",
            " 2   4    8\n",
            " 3   9   27\n",
            " 4  16   64\n",
            " 5  25  125\n",
            " 6  36  216\n",
            " 7  49  343\n",
            " 8  64  512\n",
            " 9  81  729\n",
            "10 100 1000\n"
          ],
          "name": "stdout"
        }
      ]
    },
    {
      "cell_type": "code",
      "metadata": {
        "id": "ynT2SKIHfvR7"
      },
      "source": [
        ""
      ],
      "execution_count": null,
      "outputs": []
    }
  ]
}