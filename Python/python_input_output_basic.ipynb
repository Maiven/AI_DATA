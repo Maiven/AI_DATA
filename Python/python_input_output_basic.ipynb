{
  "nbformat": 4,
  "nbformat_minor": 0,
  "metadata": {
    "colab": {
      "name": "python_input_output_basic.ipynb",
      "provenance": [],
      "collapsed_sections": [],
      "authorship_tag": "ABX9TyNOfjbgxmOEqu/xEX/7vkOh",
      "include_colab_link": true
    },
    "kernelspec": {
      "name": "python3",
      "display_name": "Python 3"
    }
  },
  "cells": [
    {
      "cell_type": "markdown",
      "metadata": {
        "id": "view-in-github",
        "colab_type": "text"
      },
      "source": [
        "<a href=\"https://colab.research.google.com/github/Maiven/medium_and_blog/blob/main/Python/python_input_output_basic.ipynb\" target=\"_parent\"><img src=\"https://colab.research.google.com/assets/colab-badge.svg\" alt=\"Open In Colab\"/></a>"
      ]
    },
    {
      "cell_type": "markdown",
      "metadata": {
        "id": "3Bj3zksbcf8q"
      },
      "source": [
        "# 1. input()\n",
        "\n",
        "- 가장 기본적인 입력 방법\n",
        "- 한줄씩 통째로 입력을 받는 방법으로\n",
        "- input()은 입력되는 모든 것을 문자열로 취급한다.\n",
        "\n"
      ]
    },
    {
      "cell_type": "code",
      "metadata": {
        "colab": {
          "base_uri": "https://localhost:8080/"
        },
        "id": "-AR3y6AycUAy",
        "outputId": "74b11539-583b-416f-eee3-f793a052d929"
      },
      "source": [
        "a = input()\n"
      ],
      "execution_count": 1,
      "outputs": [
        {
          "output_type": "stream",
          "text": [
            "10\n"
          ],
          "name": "stdout"
        }
      ]
    },
    {
      "cell_type": "markdown",
      "metadata": {
        "id": "duWT1K9gclnr"
      },
      "source": [
        "- 10 20 30을 입력하면 '10 20 30' 으로 문자열 형태로 변수 a에 저장 된다.\n",
        "\n"
      ]
    },
    {
      "cell_type": "code",
      "metadata": {
        "id": "mH7cvTKdckBW"
      },
      "source": [
        "a = int(input())\n"
      ],
      "execution_count": null,
      "outputs": []
    },
    {
      "cell_type": "markdown",
      "metadata": {
        "id": "v_cOUlIYcqb1"
      },
      "source": [
        "- int()로 input()을 감싸주면 문자열을 정수로 변환하여 a에 저장할 수 있다.\n",
        "\n",
        "- 그러나 10만 입력한 경우는 변환이 가능하지만\n",
        "- 10 20 30을 입력하면 정수로 변환이 불가능하여 에러가 발생한다.\n",
        "\n"
      ]
    },
    {
      "cell_type": "markdown",
      "metadata": {
        "id": "1Y41V79FctOQ"
      },
      "source": [
        "# 2. split()\n"
      ]
    },
    {
      "cell_type": "markdown",
      "metadata": {
        "id": "ZJNg4ggkcvEN"
      },
      "source": [
        "- 이러한 경우에 split() 함수를 사용하여 공백문자를 기준으로 문자를 나누어주고 이 나눈 값은 리스트에 하나씩 들어가게 된다.\n",
        "\n"
      ]
    },
    {
      "cell_type": "code",
      "metadata": {
        "id": "Dgzdzmfycwbt"
      },
      "source": [
        "a = input().split()\n"
      ],
      "execution_count": null,
      "outputs": []
    },
    {
      "cell_type": "markdown",
      "metadata": {
        "id": "bc46hBRocxaJ"
      },
      "source": [
        "- 10 20 30을 입력하였을 때 각각의 값이 리스트에 문자열로 입력이 되었다.\n",
        "\n"
      ]
    },
    {
      "cell_type": "markdown",
      "metadata": {
        "id": "MREBbTR0czjz"
      },
      "source": [
        "# 3. map()\n"
      ]
    },
    {
      "cell_type": "markdown",
      "metadata": {
        "id": "hedHFxVmc1sv"
      },
      "source": [
        "- 위의 입력을 int형으로 받기 원한다면 map() 함수를 사용하여야 한다.\n",
        "\n",
        "- map(func,x) 함수는 리스트 같은 x의 각 요소에 func을 적용시켜 주는 함수이다.\n",
        "\n"
      ]
    },
    {
      "cell_type": "code",
      "metadata": {
        "id": "UjQM4qHfc4Z5"
      },
      "source": [
        "a = list(map(int,input().split()))\n"
      ],
      "execution_count": null,
      "outputs": []
    },
    {
      "cell_type": "markdown",
      "metadata": {
        "id": "pBDzoXLec5Xx"
      },
      "source": [
        "- map 함수를 사용하면 int형으로 변환된 숫자가 리스트에 입력된 것을 볼수있다.\n",
        "\n",
        "- 또한 입력한 숫자를 각자 다른 변수에 저장하고싶다면\n",
        "\n"
      ]
    },
    {
      "cell_type": "code",
      "metadata": {
        "id": "hY2r0IGQc8jr"
      },
      "source": [
        "a,b,c = map(int,input().split()) \n"
      ],
      "execution_count": null,
      "outputs": []
    },
    {
      "cell_type": "markdown",
      "metadata": {
        "id": "Wsy9r4k3c950"
      },
      "source": [
        "# 4. 1차원 배열\n",
        "\n",
        "- 1차원 배열을 만들어 0으로 초기화 하려면\n",
        "\n"
      ]
    },
    {
      "cell_type": "code",
      "metadata": {
        "id": "P-g-nmvtdAzy"
      },
      "source": [
        "a = [0 for _ in range(10)]\n",
        "\n",
        "a = [0]*10"
      ],
      "execution_count": null,
      "outputs": []
    },
    {
      "cell_type": "markdown",
      "metadata": {
        "id": "FvUQebrsdCKS"
      },
      "source": [
        "- 위의 두 방식이 있다.\n",
        "\n"
      ]
    },
    {
      "cell_type": "markdown",
      "metadata": {
        "id": "c21lYqjKdDvX"
      },
      "source": [
        "# 5. 2차원 배열\n"
      ]
    },
    {
      "cell_type": "code",
      "metadata": {
        "id": "xGMdF1vfdFKQ"
      },
      "source": [
        "a = [0]*10 \n"
      ],
      "execution_count": null,
      "outputs": []
    },
    {
      "cell_type": "markdown",
      "metadata": {
        "id": "jVVRU3bRdGKx"
      },
      "source": [
        "- 위으 방식으로 10개의 열을 가지는 1차원 배열을 만들면 열의 개수는 정해져있고 행을 여러번 추가해주면 2차원 배열이 만들어진다.\n",
        "\n",
        "- 따라서 만약 n 행 m 열의 2차원 배열으 만들고싶다면\n",
        "\n"
      ]
    },
    {
      "cell_type": "code",
      "metadata": {
        "id": "jKUkQ3NOdJRx"
      },
      "source": [
        "a = [[0] * m for _ in range(n)]\n"
      ],
      "execution_count": null,
      "outputs": []
    },
    {
      "cell_type": "markdown",
      "metadata": {
        "id": "RgZyXNivdKnk"
      },
      "source": [
        "- 이런식으로 만들 수 있다.\n",
        "\n",
        "- 먼저 [0] * m 으로 m개의 열을 만들고\n",
        "- 이를 n번 반복하여 n행 m열의 2차원 배열을 만드는 것이다.\n",
        "\n"
      ]
    },
    {
      "cell_type": "markdown",
      "metadata": {
        "id": "fEssJjdkdNNV"
      },
      "source": [
        "# 6. 반복해서 입력받기\n",
        "\n",
        "- 만약 여러 줄에 걸쳐 입력을 받아야 하는 경우 int(input())을 for 반복을 통해 입력받을 수 있다.\n",
        "\n"
      ]
    },
    {
      "cell_type": "code",
      "metadata": {
        "id": "Rh3_DtcldQeA"
      },
      "source": [
        "L,A,B,C,D = [int(input()) for _ in range(5)]\n"
      ],
      "execution_count": null,
      "outputs": []
    },
    {
      "cell_type": "markdown",
      "metadata": {
        "id": "gzOal7akdRjb"
      },
      "source": [
        "# 7. 2차원 배열 입력받기\n"
      ]
    },
    {
      "cell_type": "code",
      "metadata": {
        "id": "0yT7-2XMdTmC"
      },
      "source": [
        "n,m = map(int,input().split())\n",
        "a = [list(map(int,input())) for _ in range(n)]\n"
      ],
      "execution_count": null,
      "outputs": []
    },
    {
      "cell_type": "markdown",
      "metadata": {
        "id": "pimokuCCdU39"
      },
      "source": [
        "- 위의 경우에는 split()으로 공백만 나누어주면 된다.\n",
        "\n"
      ]
    },
    {
      "cell_type": "code",
      "metadata": {
        "id": "A2jD5wgVdYRa"
      },
      "source": [
        "n,m = map(int,input().split())\n",
        "a = [list(map(int,input().split())) for_in range(n)]\n"
      ],
      "execution_count": null,
      "outputs": []
    }
  ]
}