{
  "nbformat": 4,
  "nbformat_minor": 0,
  "metadata": {
    "colab": {
      "name": "python_list_comprehenssion.ipynb",
      "provenance": [],
      "collapsed_sections": [],
      "authorship_tag": "ABX9TyMyZImjagD4IbSucCrtE1yi",
      "include_colab_link": true
    },
    "kernelspec": {
      "name": "python3",
      "display_name": "Python 3"
    }
  },
  "cells": [
    {
      "cell_type": "markdown",
      "metadata": {
        "id": "view-in-github",
        "colab_type": "text"
      },
      "source": [
        "<a href=\"https://colab.research.google.com/github/Maiven/medium_and_blog/blob/main/Python/python_list_comprehenssion.ipynb\" target=\"_parent\"><img src=\"https://colab.research.google.com/assets/colab-badge.svg\" alt=\"Open In Colab\"/></a>"
      ]
    },
    {
      "cell_type": "code",
      "metadata": {
        "colab": {
          "base_uri": "https://localhost:8080/"
        },
        "id": "_myhf3Ao6QCh",
        "outputId": "2c7adfc4-d05f-40f2-d8e4-e07a5f8a6544"
      },
      "source": [
        "class List_Comprehenssion(object):\n",
        "    def __repr__(self):\n",
        "        string = str(f\"Bad Way:  {self.bad_way()}\\n\"\n",
        "                     f\"Easy Way: {self.easy_way()}\\n\")\n",
        "        return string\n",
        "\n",
        "\n",
        "    def bad_way(self):\n",
        "        evens = []\n",
        "        for i in range(10):\n",
        "            if i % 2 == 0:\n",
        "                evens.append(i)\n",
        "        return evens\n",
        "\n",
        "\n",
        "    def easy_way(self):\n",
        "        evens = [i for i in range(10) if i % 2 == 0]\n",
        "        return evens\n",
        "    \n",
        "\n",
        "if __name__ == \"__main__\":\n",
        "    print(List_Comprehenssion())\n"
      ],
      "execution_count": null,
      "outputs": [
        {
          "output_type": "stream",
          "text": [
            "Bad Way:  [0, 2, 4, 6, 8]\n",
            "Easy Way: [0, 2, 4, 6, 8]\n",
            "\n"
          ],
          "name": "stdout"
        }
      ]
    },
    {
      "cell_type": "code",
      "metadata": {
        "id": "CKDPw31a6TLP"
      },
      "source": [
        ""
      ],
      "execution_count": null,
      "outputs": []
    }
  ]
}