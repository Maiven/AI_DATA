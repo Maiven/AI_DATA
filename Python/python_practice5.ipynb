{
  "nbformat": 4,
  "nbformat_minor": 0,
  "metadata": {
    "colab": {
      "name": "python_practice5.ipynb",
      "provenance": [],
      "collapsed_sections": [],
      "authorship_tag": "ABX9TyOck7UlXFiJ39YnEeYJH/lx",
      "include_colab_link": true
    },
    "kernelspec": {
      "name": "python3",
      "display_name": "Python 3"
    }
  },
  "cells": [
    {
      "cell_type": "markdown",
      "metadata": {
        "id": "view-in-github",
        "colab_type": "text"
      },
      "source": [
        "<a href=\"https://colab.research.google.com/github/Maiven/AI_Python/blob/main/Python/python_practice5.ipynb\" target=\"_parent\"><img src=\"https://colab.research.google.com/assets/colab-badge.svg\" alt=\"Open In Colab\"/></a>"
      ]
    },
    {
      "cell_type": "code",
      "metadata": {
        "colab": {
          "base_uri": "https://localhost:8080/"
        },
        "id": "5nVdmvHbb8IC",
        "outputId": "e9b6abfb-6a4a-4343-be2a-f2fdb1670612"
      },
      "source": [
        "pip install sounddevice"
      ],
      "execution_count": null,
      "outputs": [
        {
          "output_type": "stream",
          "text": [
            "Requirement already satisfied: sounddevice in /root/.local/lib/python3.6/site-packages (0.4.1)\n",
            "Requirement already satisfied: CFFI>=1.0 in /usr/local/lib/python3.6/dist-packages (from sounddevice) (1.14.4)\n",
            "Requirement already satisfied: pycparser in /usr/local/lib/python3.6/dist-packages (from CFFI>=1.0->sounddevice) (2.20)\n"
          ],
          "name": "stdout"
        }
      ]
    },
    {
      "cell_type": "code",
      "metadata": {
        "colab": {
          "base_uri": "https://localhost:8080/",
          "height": 364
        },
        "id": "YwSF7oD3bukI",
        "outputId": "8869b87f-9a7f-4471-cd60-8cffcab8d0d4"
      },
      "source": [
        "import sounddevice\n",
        "from scipy.io.wavfile import write\n",
        "fs=44100 #sample_rate\n",
        "second=int(input(\"Enter the time duration in second: \")) #enter your required time..\n",
        "print(\"Recording....\\n\")\n",
        "record_voice=sounddevice.rec(int(second * fs),samplerate=fs,channels=2)\n",
        "sounddevice.wait()\n",
        "write(\"out.wav\",fs,record_voice)\n",
        "print(\"Finished...\\nPlease Check it...\")"
      ],
      "execution_count": null,
      "outputs": [
        {
          "output_type": "error",
          "ename": "ModuleNotFoundError",
          "evalue": "ignored",
          "traceback": [
            "\u001b[0;31m---------------------------------------------------------------------------\u001b[0m",
            "\u001b[0;31mModuleNotFoundError\u001b[0m                       Traceback (most recent call last)",
            "\u001b[0;32m<ipython-input-6-2919999a40a9>\u001b[0m in \u001b[0;36m<module>\u001b[0;34m()\u001b[0m\n\u001b[0;32m----> 1\u001b[0;31m \u001b[0;32mimport\u001b[0m \u001b[0msounddevice\u001b[0m\u001b[0;34m\u001b[0m\u001b[0;34m\u001b[0m\u001b[0m\n\u001b[0m\u001b[1;32m      2\u001b[0m \u001b[0;32mfrom\u001b[0m \u001b[0mscipy\u001b[0m\u001b[0;34m.\u001b[0m\u001b[0mio\u001b[0m\u001b[0;34m.\u001b[0m\u001b[0mwavfile\u001b[0m \u001b[0;32mimport\u001b[0m \u001b[0mwrite\u001b[0m\u001b[0;34m\u001b[0m\u001b[0;34m\u001b[0m\u001b[0m\n\u001b[1;32m      3\u001b[0m \u001b[0mfs\u001b[0m\u001b[0;34m=\u001b[0m\u001b[0;36m44100\u001b[0m \u001b[0;31m#sample_rate\u001b[0m\u001b[0;34m\u001b[0m\u001b[0;34m\u001b[0m\u001b[0m\n\u001b[1;32m      4\u001b[0m \u001b[0msecond\u001b[0m\u001b[0;34m=\u001b[0m\u001b[0mint\u001b[0m\u001b[0;34m(\u001b[0m\u001b[0minput\u001b[0m\u001b[0;34m(\u001b[0m\u001b[0;34m\"Enter the time duration in second: \"\u001b[0m\u001b[0;34m)\u001b[0m\u001b[0;34m)\u001b[0m \u001b[0;31m#enter your required time..\u001b[0m\u001b[0;34m\u001b[0m\u001b[0;34m\u001b[0m\u001b[0m\n\u001b[1;32m      5\u001b[0m \u001b[0mprint\u001b[0m\u001b[0;34m(\u001b[0m\u001b[0;34m\"Recording....\\n\"\u001b[0m\u001b[0;34m)\u001b[0m\u001b[0;34m\u001b[0m\u001b[0;34m\u001b[0m\u001b[0m\n",
            "\u001b[0;31mModuleNotFoundError\u001b[0m: No module named 'sounddevice'",
            "",
            "\u001b[0;31m---------------------------------------------------------------------------\u001b[0;32m\nNOTE: If your import is failing due to a missing package, you can\nmanually install dependencies using either !pip or !apt.\n\nTo view examples of installing some common dependencies, click the\n\"Open Examples\" button below.\n\u001b[0;31m---------------------------------------------------------------------------\u001b[0m\n"
          ]
        }
      ]
    },
    {
      "cell_type": "code",
      "metadata": {
        "id": "aRwOyYQ8bxXM",
        "colab": {
          "base_uri": "https://localhost:8080/"
        },
        "outputId": "7ca0aaef-14c0-4e9c-9760-cd86f2c65ad8"
      },
      "source": [
        "test = [0,1]\n",
        "print(test)"
      ],
      "execution_count": null,
      "outputs": [
        {
          "output_type": "stream",
          "text": [
            "[0, 1]\n"
          ],
          "name": "stdout"
        }
      ]
    },
    {
      "cell_type": "code",
      "metadata": {
        "colab": {
          "base_uri": "https://localhost:8080/"
        },
        "id": "yqUhvxa_ROQP",
        "outputId": "795f2f19-6bd8-4cb6-edd5-1d3c3b083add"
      },
      "source": [
        "test2 = [1,2,3]\n",
        "# for i in range(0,len(test2)):\n",
        "#   print(test2[i])\n",
        "\n",
        "for i in test2:\n",
        "  #print(test2)\n",
        "  #print(test2[i])\n",
        "  #print(test2[i-1])\n",
        "  #print(test2[1])"
      ],
      "execution_count": null,
      "outputs": [
        {
          "output_type": "stream",
          "text": [
            "1\n",
            "2\n",
            "3\n"
          ],
          "name": "stdout"
        }
      ]
    },
    {
      "cell_type": "code",
      "metadata": {
        "id": "2AUxdkfrRTyl",
        "colab": {
          "base_uri": "https://localhost:8080/"
        },
        "outputId": "f1391dbe-f499-436b-d637-5c325bfefbc6"
      },
      "source": [
        "words =['cat', 'window', 'defenestrate']\n",
        "for w in words:\n",
        "  print(w, len(w))"
      ],
      "execution_count": null,
      "outputs": [
        {
          "output_type": "stream",
          "text": [
            "cat 3\n",
            "window 6\n",
            "defenestrate 12\n"
          ],
          "name": "stdout"
        }
      ]
    },
    {
      "cell_type": "code",
      "metadata": {
        "id": "G1QrZWZjswFb"
      },
      "source": [
        "users = {'A': 'inactive', 'B' : \"active\"}"
      ],
      "execution_count": 65,
      "outputs": []
    },
    {
      "cell_type": "code",
      "metadata": {
        "colab": {
          "base_uri": "https://localhost:8080/"
        },
        "id": "mt_HKA2htDQk",
        "outputId": "1eb31e2f-0ed7-4824-c3b0-2a29b23de388"
      },
      "source": [
        "print(users.copy().items())\n",
        "print(users.items())\n",
        "print(users.keys())\n",
        "print(users.values())\n",
        "print(users.items())"
      ],
      "execution_count": 61,
      "outputs": [
        {
          "output_type": "stream",
          "text": [
            "dict_items([('A', 'inactive'), ('B', 'active')])\n",
            "dict_items([('A', 'inactive'), ('B', 'active')])\n",
            "dict_keys(['A', 'B'])\n",
            "dict_values(['inactive', 'active'])\n",
            "dict_items([('A', 'inactive'), ('B', 'active')])\n"
          ],
          "name": "stdout"
        }
      ]
    },
    {
      "cell_type": "code",
      "metadata": {
        "id": "oSFQr38mvipV"
      },
      "source": [
        "user.keys()"
      ],
      "execution_count": null,
      "outputs": []
    },
    {
      "cell_type": "code",
      "metadata": {
        "colab": {
          "base_uri": "https://localhost:8080/",
          "height": 35
        },
        "id": "jOteODl8t5Id",
        "outputId": "97ebb569-44d5-49cb-c290-db620d319fd8"
      },
      "source": [
        "users['B']"
      ],
      "execution_count": 68,
      "outputs": [
        {
          "output_type": "execute_result",
          "data": {
            "application/vnd.google.colaboratory.intrinsic+json": {
              "type": "string"
            },
            "text/plain": [
              "'active'"
            ]
          },
          "metadata": {
            "tags": []
          },
          "execution_count": 68
        }
      ]
    },
    {
      "cell_type": "code",
      "metadata": {
        "id": "7wYLucI5saic"
      },
      "source": [
        "for user, st in users.copy().items():\n",
        "  if st == 'inactive':\n",
        "    del users[user]\n",
        "\n",
        "active_users = {}\n",
        "for user, stat in users.items():\n",
        "  if stat == 'active':\n",
        "    active_users[user] = stat"
      ],
      "execution_count": 43,
      "outputs": []
    },
    {
      "cell_type": "code",
      "metadata": {
        "colab": {
          "base_uri": "https://localhost:8080/"
        },
        "id": "737AXkSYspuW",
        "outputId": "d4eadd7c-2792-4f76-8015-9b71770ead88"
      },
      "source": [
        "print(users)"
      ],
      "execution_count": 35,
      "outputs": [
        {
          "output_type": "stream",
          "text": [
            "{'A': 'inactive', 'B': 'active'}\n"
          ],
          "name": "stdout"
        }
      ]
    },
    {
      "cell_type": "code",
      "metadata": {
        "colab": {
          "base_uri": "https://localhost:8080/"
        },
        "id": "_rbYxcKcs7jI",
        "outputId": "f276e626-d7b7-49c5-d88e-ef87ab05521a"
      },
      "source": [
        "print(active_users)"
      ],
      "execution_count": 34,
      "outputs": [
        {
          "output_type": "stream",
          "text": [
            "{'B': 'active'}\n"
          ],
          "name": "stdout"
        }
      ]
    },
    {
      "cell_type": "code",
      "metadata": {
        "id": "vZJk9Txgs-aE",
        "colab": {
          "base_uri": "https://localhost:8080/"
        },
        "outputId": "048d9271-65f6-4d27-a75f-c9c9d8f49586"
      },
      "source": [
        "test_array = []\n",
        "\n",
        "for index in range(10):\n",
        "  test_array = index * index\n",
        "\n",
        "print(test_array)"
      ],
      "execution_count": 70,
      "outputs": [
        {
          "output_type": "stream",
          "text": [
            "81\n"
          ],
          "name": "stdout"
        }
      ]
    },
    {
      "cell_type": "code",
      "metadata": {
        "colab": {
          "base_uri": "https://localhost:8080/"
        },
        "id": "m-Nr_9DnbAM-",
        "outputId": "a408a1a6-86c3-4606-cc87-735bf0a33cd5"
      },
      "source": [
        "test_array = {}\n",
        "#test_array = dict()\n",
        "for index in range(10):\n",
        "  test_array[index] = index * index\n",
        "\n",
        "print(test_array)"
      ],
      "execution_count": 95,
      "outputs": [
        {
          "output_type": "stream",
          "text": [
            "{0: 0, 1: 1, 2: 4, 3: 9, 4: 16, 5: 25, 6: 36, 7: 49, 8: 64, 9: 81}\n"
          ],
          "name": "stdout"
        }
      ]
    },
    {
      "cell_type": "code",
      "metadata": {
        "colab": {
          "base_uri": "https://localhost:8080/"
        },
        "id": "K1nALBhtbNgs",
        "outputId": "b290fb4d-c5e1-41b8-ad50-3d2998a9ba3b"
      },
      "source": [
        "def a():\n",
        "  print('test')\n",
        "\n",
        "# if __name__ == \"__main__\":\n",
        "#   a()\n",
        "a()"
      ],
      "execution_count": 120,
      "outputs": [
        {
          "output_type": "stream",
          "text": [
            "test\n"
          ],
          "name": "stdout"
        }
      ]
    },
    {
      "cell_type": "code",
      "metadata": {
        "colab": {
          "base_uri": "https://localhost:8080/"
        },
        "id": "GwXZygAlpk76",
        "outputId": "ec0b90c1-e4c3-49db-c0e8-75b41fadfa72"
      },
      "source": [
        "3**2"
      ],
      "execution_count": 122,
      "outputs": [
        {
          "output_type": "execute_result",
          "data": {
            "text/plain": [
              "9"
            ]
          },
          "metadata": {
            "tags": []
          },
          "execution_count": 122
        }
      ]
    },
    {
      "cell_type": "code",
      "metadata": {
        "colab": {
          "base_uri": "https://localhost:8080/"
        },
        "id": "gk8iv0G8sz-y",
        "outputId": "0a25dc0a-dad7-47ef-a018-d65dd251992f"
      },
      "source": [
        "5//2"
      ],
      "execution_count": 124,
      "outputs": [
        {
          "output_type": "execute_result",
          "data": {
            "text/plain": [
              "2"
            ]
          },
          "metadata": {
            "tags": []
          },
          "execution_count": 124
        }
      ]
    },
    {
      "cell_type": "code",
      "metadata": {
        "colab": {
          "base_uri": "https://localhost:8080/"
        },
        "id": "HJVlhuUos1eG",
        "outputId": "af8f89e4-6810-4ffd-c3bf-bc45954bdcc1"
      },
      "source": [
        "5%2"
      ],
      "execution_count": 125,
      "outputs": [
        {
          "output_type": "execute_result",
          "data": {
            "text/plain": [
              "1"
            ]
          },
          "metadata": {
            "tags": []
          },
          "execution_count": 125
        }
      ]
    },
    {
      "cell_type": "code",
      "metadata": {
        "colab": {
          "base_uri": "https://localhost:8080/"
        },
        "id": "Rb2Lj_yCs23E",
        "outputId": "de88fc7b-7ae1-4bf0-83eb-025fabbc6c22"
      },
      "source": [
        "test = ()\n",
        "type(test)"
      ],
      "execution_count": 134,
      "outputs": [
        {
          "output_type": "execute_result",
          "data": {
            "text/plain": [
              "tuple"
            ]
          },
          "metadata": {
            "tags": []
          },
          "execution_count": 134
        }
      ]
    },
    {
      "cell_type": "code",
      "metadata": {
        "colab": {
          "base_uri": "https://localhost:8080/"
        },
        "id": "AVrZnXHVwWTA",
        "outputId": "d04053b7-3e25-4b7c-f408-bb9a63f38ee2"
      },
      "source": [
        "test2 = {}\n",
        "type(test2)"
      ],
      "execution_count": 136,
      "outputs": [
        {
          "output_type": "execute_result",
          "data": {
            "text/plain": [
              "dict"
            ]
          },
          "metadata": {
            "tags": []
          },
          "execution_count": 136
        }
      ]
    },
    {
      "cell_type": "code",
      "metadata": {
        "colab": {
          "base_uri": "https://localhost:8080/"
        },
        "id": "y16LbS2awcgA",
        "outputId": "6c332b10-d47e-46bc-f638-8b333d24a2c4"
      },
      "source": [
        "''' Check list or Array is empty ''' \n",
        "# 비어있는 리스트를 확인할 수 없는 코드 \n",
        "a1 = [] \n",
        "if a1 is None: #false \n",
        "  print('a is empty1') \n",
        "  print(None)\n",
        "# 비어있는 리스트를 확인할 수 있는 코드 \n",
        "a2 = [] \n",
        "if not a2: # true \n",
        "  print('a is empty2')\n",
        "  print(type(None))\n",
        "#  print(a2[None])"
      ],
      "execution_count": 144,
      "outputs": [
        {
          "output_type": "stream",
          "text": [
            "a is empty2\n",
            "<class 'NoneType'>\n"
          ],
          "name": "stdout"
        }
      ]
    },
    {
      "cell_type": "code",
      "metadata": {
        "id": "zZ0sSSK24jyw"
      },
      "source": [
        ""
      ],
      "execution_count": null,
      "outputs": []
    }
  ]
}