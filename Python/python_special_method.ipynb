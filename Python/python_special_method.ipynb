{
  "nbformat": 4,
  "nbformat_minor": 0,
  "metadata": {
    "colab": {
      "name": "python_special_method.ipynb",
      "provenance": [],
      "collapsed_sections": [],
      "authorship_tag": "ABX9TyOM2ta0Ip14+r7cHNFWHfe/",
      "include_colab_link": true
    },
    "kernelspec": {
      "name": "python3",
      "display_name": "Python 3"
    }
  },
  "cells": [
    {
      "cell_type": "markdown",
      "metadata": {
        "id": "view-in-github",
        "colab_type": "text"
      },
      "source": [
        "<a href=\"https://colab.research.google.com/github/Maiven/AI_blog/blob/main/Python/python_special_method.ipynb\" target=\"_parent\"><img src=\"https://colab.research.google.com/assets/colab-badge.svg\" alt=\"Open In Colab\"/></a>"
      ]
    },
    {
      "cell_type": "markdown",
      "metadata": {
        "id": "YaGmeeO-4bQf"
      },
      "source": [
        "# 특수 메소드\n",
        "\n",
        "- https://docs.python.org/ko/3/reference/datamodel.html#specialnames"
      ]
    },
    {
      "cell_type": "markdown",
      "metadata": {
        "id": "fqvEicbT47EF"
      },
      "source": [
        "- 이제 메서드에 대해서는 다들 알고 계시겠죠? 메서드라는 것은 우리가 클래스를 만들면서 그 안에 만들어 넣은 함수를 말하지요? \n",
        "\n",
        "- 만들어진 메서드를 사용하려면 객체.메서드()와 같은 형식으로 호출을 해주었구요. \n",
        "\n",
        "- 오늘은 그런 일반적인 메서드들과는 조금 다른 특별한 메서드들에 대해 함께 알아보려고 합니다.\n",
        "\n"
      ]
    },
    {
      "cell_type": "markdown",
      "metadata": {
        "id": "N5Ve7SmL4_sy"
      },
      "source": [
        "## __init__ 메서드 (초기화)\n"
      ]
    },
    {
      "cell_type": "code",
      "metadata": {
        "id": "wBYEP-gt3Iw5"
      },
      "source": [
        "# bookstore.py\n",
        "\n",
        "class Book:\n",
        "\n",
        "    def setData(self, title, price, author):\n",
        "        self.title = title\n",
        "        self.price = price\n",
        "        self.author = author\n",
        "\n",
        "    def printData(self):\n",
        "        print '제목 : ', self.title\n",
        "        print '가격 : ', self.price\n",
        "        print '저자 : ', self.author\n",
        "\n",
        "    def __init__(self):\n",
        "        print '책 객체를 새로 만들었어요~'"
      ],
      "execution_count": null,
      "outputs": []
    },
    {
      "cell_type": "markdown",
      "metadata": {
        "id": "DCHGmi4b5EF5"
      },
      "source": [
        "- 예제로 Book(책) 클래스를 갖는 bookstore(책방) 모듈을 만들어 보았습니다.\n",
        "\n",
        "- 책 클래스의 메서드로는 책 제목, 가격, 저자와 같은 자료들을 입력할 때 사용할 setData()와 이런 자료들을 출력해주는 printData()를 만들어 주었지요.\n",
        "\n",
        "- 그리고 __init__이라는 메서드도 있지요? 이것이 바로 파이썬에서 특별하게 약속된 메서드 가운데 하나로, 초기화(initialize) 메서드라고도 합니다.\n",
        "\n",
        "- 어떤 클래스의 객체가 만들어질 때 자동으로 호출되어서 그 객체가 갖게 될 여러 가지 성질을 정해주는 일을 하지요. 그럼 책 클래스의 객체를 하나 만들어볼까요?\n",
        "\n"
      ]
    },
    {
      "cell_type": "code",
      "metadata": {
        "id": "HVzR5WAd5H8y"
      },
      "source": [
        ">>> import bookstore\n",
        ">>> b = bookstore.Book()  "
      ],
      "execution_count": null,
      "outputs": []
    },
    {
      "cell_type": "markdown",
      "metadata": {
        "id": "UEOCQAKi5JOQ"
      },
      "source": [
        "- Book()해서 Book 객체를 만들자마자 초기화 메서드가 실행되었군요. 나머지 setData와 printData 메서드들은 다음과 같이 사용하시면 됩니다.\n",
        "\n"
      ]
    },
    {
      "cell_type": "code",
      "metadata": {
        "id": "M1DpxXVr5LEO"
      },
      "source": [
        ">>> b.setData('누가 내 치즈를 먹었을까', '300원', '미키')\n",
        ">>> b.printData()"
      ],
      "execution_count": null,
      "outputs": []
    },
    {
      "cell_type": "markdown",
      "metadata": {
        "id": "gbXrm3Cz5Mdg"
      },
      "source": [
        "- 이제 초기화 메서드가 뭔지 대충 감을 잡으셨으면 __init__ 메서드를 사용해서 실제로 객체를 초기화 시켜보도록 하겠습니다. __init__ 메서드를 아래와 같이 수정해보세요.\n",
        "\n"
      ]
    },
    {
      "cell_type": "code",
      "metadata": {
        "id": "693PInbD5Odp"
      },
      "source": [
        "    def __init__(self, title, price, author):\n",
        "        self.setData(title, price, author)\n",
        "        print '책 객체를 새로 만들었어요~'"
      ],
      "execution_count": null,
      "outputs": []
    },
    {
      "cell_type": "markdown",
      "metadata": {
        "id": "gnUSOpAz5Pu3"
      },
      "source": [
        "- 객체를 생성시킬 때 제목, 가격, 저자를 인자로 받아서, setData 메서드에게 넘겨주도록 했죠? 물론 초기화 메서드에서 직접 변수를 다뤄도 상관없지만 setData 메서드를 미리 만들어뒀으니까 이용을 한 것입니다. 이제부터 책 객체를 만들 때는 다음과 같이 세 개의 인자를 넘겨줘야합니다.\n",
        "\n"
      ]
    },
    {
      "cell_type": "code",
      "metadata": {
        "id": "bTSsuLLE5RcO"
      },
      "source": [
        ">>> reload(bookstore)\n",
        ">>> b2 = bookstore.Book('내가 먹었지롱', '200원', '미니')"
      ],
      "execution_count": null,
      "outputs": []
    },
    {
      "cell_type": "markdown",
      "metadata": {
        "id": "vENaVyak5S69"
      },
      "source": [
        "- 초기화 메서드와 같은 것을 다른 객체지향 언어에서는 생성자(constructor)라고 부른답니다.\n",
        "\n"
      ]
    }
  ]
}