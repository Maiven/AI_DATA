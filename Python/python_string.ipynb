{
  "nbformat": 4,
  "nbformat_minor": 0,
  "metadata": {
    "colab": {
      "name": "python_string.ipynb",
      "provenance": [],
      "collapsed_sections": [],
      "authorship_tag": "ABX9TyPGO21xoabnazSL0+FHQ2bf",
      "include_colab_link": true
    },
    "kernelspec": {
      "name": "python3",
      "display_name": "Python 3"
    }
  },
  "cells": [
    {
      "cell_type": "markdown",
      "metadata": {
        "id": "view-in-github",
        "colab_type": "text"
      },
      "source": [
        "<a href=\"https://colab.research.google.com/github/Maiven/medium_and_blog/blob/main/Python/python_string.ipynb\" target=\"_parent\"><img src=\"https://colab.research.google.com/assets/colab-badge.svg\" alt=\"Open In Colab\"/></a>"
      ]
    },
    {
      "cell_type": "code",
      "metadata": {
        "colab": {
          "base_uri": "https://localhost:8080/"
        },
        "id": "bv1xQWl4wu6U",
        "outputId": "6b326fa5-2ce9-4aa5-c376-b77631f13d8f"
      },
      "source": [
        "print('{0}, {1}, {2}'.format('a', 'b', 'c'))\n",
        "\n",
        "print('{}, {}, {}'.format('a', 'b', 'c'))  # 3.1+ only\n",
        "\n",
        "print('{2}, {1}, {0}'.format('a', 'b', 'c'))\n",
        "\n",
        "print('{2}, {1}, {0}'.format(*'abc'))      # unpacking argument sequence\n",
        "\n",
        "print('{0}{1}{0}'.format('abra', 'cad'))   # arguments' indices can be repeated\n"
      ],
      "execution_count": null,
      "outputs": [
        {
          "output_type": "stream",
          "text": [
            "a, b, c\n",
            "a, b, c\n",
            "c, b, a\n",
            "c, b, a\n",
            "abracadabra\n"
          ],
          "name": "stdout"
        }
      ]
    },
    {
      "cell_type": "code",
      "metadata": {
        "colab": {
          "base_uri": "https://localhost:8080/"
        },
        "id": "CrOAkzfXxBfd",
        "outputId": "6920d510-7da0-40ec-fbfd-c809c2bc8f7a"
      },
      "source": [
        "def introduceEnglishName(**keywordargs):\n",
        "  for key, value in keywordargs.items():\n",
        "    if 'ant' in keywordargs.keys():\n",
        "      print('hello 1')\n",
        "    else : print(\"{0} is {1}\".format(key,value))\n",
        "# key='value'\n",
        "introduceEnglishName(MyName='hey')\n",
        "introduceEnglishName(ant='hey2')"
      ],
      "execution_count": null,
      "outputs": [
        {
          "output_type": "stream",
          "text": [
            "MyName is hey\n",
            "hello 1\n"
          ],
          "name": "stdout"
        }
      ]
    },
    {
      "cell_type": "code",
      "metadata": {
        "colab": {
          "base_uri": "https://localhost:8080/",
          "height": 35
        },
        "id": "zwlEvlVrjTRA",
        "outputId": "4f84b7a2-f28b-4858-8159-cf9402ca2df3"
      },
      "source": [
        "'Coordinates: {latitude}, {longitude}'.format(latitude='37.24N', longitude='-115.81W')\n",
        "\n",
        "coord = {'latitude': '37.24N', 'longitude': '-115.81W'}\n",
        "'Coordinates: {latitude}, {longitude}'.format(**coord)"
      ],
      "execution_count": 11,
      "outputs": [
        {
          "output_type": "execute_result",
          "data": {
            "application/vnd.google.colaboratory.intrinsic+json": {
              "type": "string"
            },
            "text/plain": [
              "'Coordinates: 37.24N, -115.81W'"
            ]
          },
          "metadata": {
            "tags": []
          },
          "execution_count": 11
        }
      ]
    },
    {
      "cell_type": "code",
      "metadata": {
        "colab": {
          "base_uri": "https://localhost:8080/",
          "height": 35
        },
        "id": "tD_j6Qb9jTyZ",
        "outputId": "49bd0705-6fe3-485e-93ea-629aa1d6ab85"
      },
      "source": [
        "c = 3-5j\n",
        "('The complex number {0} is formed from the real part {0.real} '\n",
        " 'and the imaginary part {0.imag}.').format(c)\n",
        "\n",
        "class Point:\n",
        "    def __init__(self, x, y):\n",
        "        self.x, self.y = x, y\n",
        "    def __str__(self):\n",
        "        return 'Point({self.x}, {self.y})'.format(self=self)\n",
        "\n",
        "str(Point(4, 2))"
      ],
      "execution_count": 12,
      "outputs": [
        {
          "output_type": "execute_result",
          "data": {
            "application/vnd.google.colaboratory.intrinsic+json": {
              "type": "string"
            },
            "text/plain": [
              "'Point(4, 2)'"
            ]
          },
          "metadata": {
            "tags": []
          },
          "execution_count": 12
        }
      ]
    },
    {
      "cell_type": "code",
      "metadata": {
        "colab": {
          "base_uri": "https://localhost:8080/",
          "height": 35
        },
        "id": "SZL2Mrt1jWcB",
        "outputId": "227502b4-e09e-4d4c-cf9a-c0f68930d066"
      },
      "source": [
        "coord = (3, 5)\n",
        "'X: {0[0]};  Y: {0[1]}'.format(coord)"
      ],
      "execution_count": 13,
      "outputs": [
        {
          "output_type": "execute_result",
          "data": {
            "application/vnd.google.colaboratory.intrinsic+json": {
              "type": "string"
            },
            "text/plain": [
              "'X: 3;  Y: 5'"
            ]
          },
          "metadata": {
            "tags": []
          },
          "execution_count": 13
        }
      ]
    },
    {
      "cell_type": "code",
      "metadata": {
        "colab": {
          "base_uri": "https://localhost:8080/",
          "height": 35
        },
        "id": "N9ASvZojjZ-0",
        "outputId": "673c219a-6957-4273-b233-f2c693a987ca"
      },
      "source": [
        "\"repr() shows quotes: {!r}; str() doesn't: {!s}\".format('test1', 'test2')\n"
      ],
      "execution_count": 14,
      "outputs": [
        {
          "output_type": "execute_result",
          "data": {
            "application/vnd.google.colaboratory.intrinsic+json": {
              "type": "string"
            },
            "text/plain": [
              "\"repr() shows quotes: 'test1'; str() doesn't: test2\""
            ]
          },
          "metadata": {
            "tags": []
          },
          "execution_count": 14
        }
      ]
    },
    {
      "cell_type": "code",
      "metadata": {
        "colab": {
          "base_uri": "https://localhost:8080/"
        },
        "id": "lgiDNzFzjddJ",
        "outputId": "88316d49-b766-40af-b35b-830a9647c8ca"
      },
      "source": [
        "print('{:<30}'.format('left aligned'))\n",
        "\n",
        "print('{:>30}'.format('right aligned'))\n",
        "\n",
        "print('{:^30}'.format('centered'))\n",
        "\n",
        "print('{:*^30}'.format('centered'))  # use '*' as a fill char"
      ],
      "execution_count": 18,
      "outputs": [
        {
          "output_type": "stream",
          "text": [
            "left aligned                  \n",
            "                 right aligned\n",
            "           centered           \n",
            "***********centered***********\n"
          ],
          "name": "stdout"
        }
      ]
    },
    {
      "cell_type": "code",
      "metadata": {
        "id": "S6SWWpigjhkq"
      },
      "source": [
        ""
      ],
      "execution_count": null,
      "outputs": []
    }
  ]
}