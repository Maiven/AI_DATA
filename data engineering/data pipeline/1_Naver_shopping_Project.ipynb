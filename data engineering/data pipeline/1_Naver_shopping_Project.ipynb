{
  "nbformat": 4,
  "nbformat_minor": 0,
  "metadata": {
    "colab": {
      "name": "1. Naver shopping Project.ipynb",
      "provenance": [],
      "collapsed_sections": [],
      "authorship_tag": "ABX9TyPWXkjr+gs+H/YwSpZ4Plyu",
      "include_colab_link": true
    },
    "kernelspec": {
      "name": "python3",
      "display_name": "Python 3"
    }
  },
  "cells": [
    {
      "cell_type": "markdown",
      "metadata": {
        "id": "view-in-github",
        "colab_type": "text"
      },
      "source": [
        "<a href=\"https://colab.research.google.com/github/Maiven/AI_DATA/blob/main/data%20engineering/data%20pipeline/1_Naver_shopping_Project.ipynb\" target=\"_parent\"><img src=\"https://colab.research.google.com/assets/colab-badge.svg\" alt=\"Open In Colab\"/></a>"
      ]
    },
    {
      "cell_type": "code",
      "metadata": {
        "colab": {
          "base_uri": "https://localhost:8080/",
          "height": 216
        },
        "id": "cfHF_NgVDGbv",
        "outputId": "7caa7afa-8c68-4d76-b8b8-6ba569a4f11f"
      },
      "source": [
        "import os\n",
        "import sys\n",
        "import json\n",
        "\n",
        "import urllib.request\n",
        "client_id = \"gdzCRwvapR7vaYbRlzBM\"\n",
        "client_secret = \"AM6Ui24Luh\"\n",
        "url = \"https://openapi.naver.com/v1/datalab/shopping/categories\";\n",
        "body = \"{\\\"startDate\\\":\\\"2020-01-01\\\",\" \\\n",
        "            \"\\\"endDate\\\":\\\"2020-01-10\\\",\" \\\n",
        "            \"\\\"timeUnit\\\":\\\"date\\\",\" \\\n",
        "            \"\\\"category\\\":[{\\\"name\\\":\\\"패션의류\\\",\\\"param\\\":[\\\"50000000\\\"]}]}\"\n",
        "request = urllib.request.Request(url)\n",
        "request.add_header(\"X-Naver-Client-Id\",client_id)\n",
        "request.add_header(\"X-Naver-Client-Secret\",client_secret)\n",
        "request.add_header(\"Content-Type\",\"application/json\")\n",
        "response = urllib.request.urlopen(request, data=body.encode(\"utf-8\"))\n",
        "rescode = response.getcode()\n",
        "if(rescode==200):\n",
        "    response_body = response.read()\n",
        "    print(response_body.decode('utf-8'))\n",
        "else:\n",
        "    print(\"Error Code:\" + rescode)\n",
        "    \n",
        "\n",
        "def get_shop(client_id, client_secret):\n",
        "    # 아이디,시크릿 기입\n",
        "    endpoint = 'https://openapi.naver.com/v1/datalab/shopping/categories'\n",
        "    bodys = \"{\\\"startDate\\\":\\\"2020-01-01\\\",\" \\\n",
        "            \"\\\"endDate\\\":\\\"2020-01-10\\\",\" \\\n",
        "            \"\\\"timeUnit\\\":\\\"date\\\",\" \\\n",
        "            \"\\\"category\\\":[{\\\"name\\\":\\\"패션의류\\\",\\\"param\\\":[\\\"50000000\\\"]}]}\"\n",
        "\n",
        "    # url 정보 기입\n",
        "    requests = urllib.request.Request(endpoint)\n",
        "\n",
        "    # header 정보 기입\n",
        "    requests.add_header(\"X-Naver-Client-Id\", client_id)\n",
        "    requests.add_header(\"X-Naver-Client-Secret\", client_secret)\n",
        "    requests.add_header(\"Content-Type\", \"application/json\")\n",
        "\n",
        "    response = urllib.request.urlopen(requests, data=bodys.encode('utf-8'))\n",
        "    \n",
        "    # 에러 발생할 경우 예외 처리\n",
        "    try:\n",
        "        response = urllib.request.urlopen(requests, data=bodys.encode('utf-8'))\n",
        "    except:\n",
        "        logging.error(response.read())\n",
        "        sys.exit(1)\n",
        "\n",
        "    response = urllib.request.urlopen(requests, data=bodys.encode('utf-8'))\n",
        "\t\n",
        "    # 제대로 연결이 되었을 때 api 의 내용을 출력하기\n",
        "    if response.getcode() == 200:\n",
        "        response_body = response.read()\n",
        "        contents = response_body.decode('utf-8')\n",
        "    else:\n",
        "        print(response.getcode())\n",
        "        print(response.read())\n",
        "        sys.exit(1)\n",
        "        \n",
        "    return contents\n",
        " \n",
        "\n",
        "def main():\n",
        "    \n",
        "    # aws 의 mysql 과 직접 연결\n",
        "    try:\n",
        "        # mysql 과 직접 연결\n",
        "        conn = pymysql.connect(host = 'database-4.castm60mjxbf.ap-northeast-2.rds.amazonaws.com', user='code_cho2', passwd='eogml5132', db='codechodb', use_unicode=True, charset='utf8')\n",
        "        cursor = conn.cursor()\n",
        "    except Exception as e:\n",
        "        print(e)\n",
        "        logging.error(\"could not connect to RDS\")\n",
        "        sys.exit(1)\n",
        "\n",
        "    shops = get_shop(client_id,client_secret)\n",
        "\n",
        "    # json 으로 변환하기\n",
        "    raw = json.loads(shops)\n",
        "\n",
        "    # date, ratio 를 추출\n",
        "    datas = raw['results'][0]['data']\n",
        "\n",
        "    # date 와 ratio 를 aws에 넣기 전, 리스트에 담기\n",
        "    shop_content = []\n",
        "    for data in datas:\n",
        "        shop_content.append(\n",
        "            {\n",
        "                'dates' : data['period'],\n",
        "                'ratios' : data['ratio']\n",
        "            }\n",
        "        )\n",
        "    print(shop_content)\n",
        "\n",
        "    for content in shop_content: \n",
        "      sql = \"INSERT INTO shop_20 VALUES (%(dates)s, %(ratios)s);\"\n",
        "\n",
        "\n",
        "    \n",
        "    cursor.executemany(sql, shop_content)\n",
        "    conn.commit() \n",
        "    print(cursor.rowcount, \"record inserted.\")\n",
        "\n",
        "    sys.exit(0)    \n",
        "main()"
      ],
      "execution_count": 144,
      "outputs": [
        {
          "output_type": "stream",
          "text": [
            "{\"startDate\":\"2020-01-01\",\"endDate\":\"2020-01-10\",\"timeUnit\":\"date\",\"results\":[{\"title\":\"패션의류\",\"category\":[\"50000000\"],\"data\":[{\"period\":\"2020-01-01\",\"ratio\":89.00652},{\"period\":\"2020-01-02\",\"ratio\":87.14725},{\"period\":\"2020-01-03\",\"ratio\":80.25985},{\"period\":\"2020-01-04\",\"ratio\":88.98288},{\"period\":\"2020-01-05\",\"ratio\":100},{\"period\":\"2020-01-06\",\"ratio\":90.04795},{\"period\":\"2020-01-07\",\"ratio\":89.18886},{\"period\":\"2020-01-08\",\"ratio\":85.80307},{\"period\":\"2020-01-09\",\"ratio\":82.07851},{\"period\":\"2020-01-10\",\"ratio\":73.47124}]}]}\n",
            "[{'dates': '2020-01-01', 'ratios': 89.00652}, {'dates': '2020-01-02', 'ratios': 87.14725}, {'dates': '2020-01-03', 'ratios': 80.25985}, {'dates': '2020-01-04', 'ratios': 88.98288}, {'dates': '2020-01-05', 'ratios': 100}, {'dates': '2020-01-06', 'ratios': 90.04795}, {'dates': '2020-01-07', 'ratios': 89.18886}, {'dates': '2020-01-08', 'ratios': 85.80307}, {'dates': '2020-01-09', 'ratios': 82.07851}, {'dates': '2020-01-10', 'ratios': 73.47124}]\n",
            "10 record inserted.\n"
          ],
          "name": "stdout"
        },
        {
          "output_type": "error",
          "ename": "SystemExit",
          "evalue": "ignored",
          "traceback": [
            "An exception has occurred, use %tb to see the full traceback.\n",
            "\u001b[0;31mSystemExit\u001b[0m\u001b[0;31m:\u001b[0m 0\n"
          ]
        },
        {
          "output_type": "stream",
          "text": [
            "/usr/local/lib/python3.7/dist-packages/IPython/core/interactiveshell.py:2890: UserWarning: To exit: use 'exit', 'quit', or Ctrl-D.\n",
            "  warn(\"To exit: use 'exit', 'quit', or Ctrl-D.\", stacklevel=1)\n"
          ],
          "name": "stderr"
        }
      ]
    },
    {
      "cell_type": "code",
      "metadata": {
        "colab": {
          "base_uri": "https://localhost:8080/"
        },
        "id": "5XQGPX8ZRdyN",
        "outputId": "7319c18d-9511-4750-ea61-367b75058351"
      },
      "source": [
        "pip install pymysql"
      ],
      "execution_count": 42,
      "outputs": [
        {
          "output_type": "stream",
          "text": [
            "Collecting pymysql\n",
            "\u001b[?25l  Downloading https://files.pythonhosted.org/packages/4f/52/a115fe175028b058df353c5a3d5290b71514a83f67078a6482cff24d6137/PyMySQL-1.0.2-py3-none-any.whl (43kB)\n",
            "\r\u001b[K     |███████▌                        | 10kB 15.2MB/s eta 0:00:01\r\u001b[K     |███████████████                 | 20kB 11.1MB/s eta 0:00:01\r\u001b[K     |██████████████████████▍         | 30kB 9.5MB/s eta 0:00:01\r\u001b[K     |██████████████████████████████  | 40kB 7.6MB/s eta 0:00:01\r\u001b[K     |████████████████████████████████| 51kB 2.9MB/s \n",
            "\u001b[?25hInstalling collected packages: pymysql\n",
            "Successfully installed pymysql-1.0.2\n"
          ],
          "name": "stdout"
        }
      ]
    },
    {
      "cell_type": "code",
      "metadata": {
        "colab": {
          "base_uri": "https://localhost:8080/",
          "height": 343
        },
        "id": "0p0FJtYwCBDw",
        "outputId": "7d209929-0c42-471b-9be2-0b43b40cfab7"
      },
      "source": [
        "import pandas as pd\n",
        "import numpy as np\n",
        "import pymysql\n",
        "import logging\n",
        "\n",
        "# AWS mysql 연결하기 \n",
        "\n",
        "host = \"database-4.castm60mjxbf.ap-northeast-2.rds.amazonaws.com\"\n",
        "username = \"code_cho2\"\n",
        "password = \"eogml5132\"\n",
        "database = \"codechodb\"\n",
        "\n",
        "def get_data(host,username,database,password):\n",
        "    try:\n",
        "      conn  = pymysql.connect(host = host, user=username, db=database, passwd=password, use_unicode=True, charset='utf8', cursorclass=pymysql.cursors.DictCursor)\n",
        "      cursor = conn.cursor()\n",
        "    except Exception as e:\n",
        "      print(e)\n",
        "      logging.error(\"could not connect to AWS RDS mysql. Please to let engineers know that!\")\n",
        "      sys.exit(1)\n",
        "    \n",
        "    # rds -  데이터를 가져온다\n",
        "    cursor.execute(\"select * from shop_20;\")\n",
        "    result = cursor.fetchall()\n",
        "    conn.close()\n",
        "\n",
        "    df = pd.DataFrame(result)\n",
        "    return df\n",
        "\n",
        "hah = get_data(host,username,database,password)\n",
        "hah\n"
      ],
      "execution_count": 145,
      "outputs": [
        {
          "output_type": "execute_result",
          "data": {
            "text/html": [
              "<div>\n",
              "<style scoped>\n",
              "    .dataframe tbody tr th:only-of-type {\n",
              "        vertical-align: middle;\n",
              "    }\n",
              "\n",
              "    .dataframe tbody tr th {\n",
              "        vertical-align: top;\n",
              "    }\n",
              "\n",
              "    .dataframe thead th {\n",
              "        text-align: right;\n",
              "    }\n",
              "</style>\n",
              "<table border=\"1\" class=\"dataframe\">\n",
              "  <thead>\n",
              "    <tr style=\"text-align: right;\">\n",
              "      <th></th>\n",
              "      <th>dates</th>\n",
              "      <th>ratios</th>\n",
              "    </tr>\n",
              "  </thead>\n",
              "  <tbody>\n",
              "    <tr>\n",
              "      <th>0</th>\n",
              "      <td>2020-01-01</td>\n",
              "      <td>89</td>\n",
              "    </tr>\n",
              "    <tr>\n",
              "      <th>1</th>\n",
              "      <td>2020-01-02</td>\n",
              "      <td>87</td>\n",
              "    </tr>\n",
              "    <tr>\n",
              "      <th>2</th>\n",
              "      <td>2020-01-03</td>\n",
              "      <td>80</td>\n",
              "    </tr>\n",
              "    <tr>\n",
              "      <th>3</th>\n",
              "      <td>2020-01-04</td>\n",
              "      <td>89</td>\n",
              "    </tr>\n",
              "    <tr>\n",
              "      <th>4</th>\n",
              "      <td>2020-01-05</td>\n",
              "      <td>100</td>\n",
              "    </tr>\n",
              "    <tr>\n",
              "      <th>5</th>\n",
              "      <td>2020-01-06</td>\n",
              "      <td>90</td>\n",
              "    </tr>\n",
              "    <tr>\n",
              "      <th>6</th>\n",
              "      <td>2020-01-07</td>\n",
              "      <td>89</td>\n",
              "    </tr>\n",
              "    <tr>\n",
              "      <th>7</th>\n",
              "      <td>2020-01-08</td>\n",
              "      <td>86</td>\n",
              "    </tr>\n",
              "    <tr>\n",
              "      <th>8</th>\n",
              "      <td>2020-01-09</td>\n",
              "      <td>82</td>\n",
              "    </tr>\n",
              "    <tr>\n",
              "      <th>9</th>\n",
              "      <td>2020-01-10</td>\n",
              "      <td>73</td>\n",
              "    </tr>\n",
              "  </tbody>\n",
              "</table>\n",
              "</div>"
            ],
            "text/plain": [
              "       dates  ratios\n",
              "0 2020-01-01      89\n",
              "1 2020-01-02      87\n",
              "2 2020-01-03      80\n",
              "3 2020-01-04      89\n",
              "4 2020-01-05     100\n",
              "5 2020-01-06      90\n",
              "6 2020-01-07      89\n",
              "7 2020-01-08      86\n",
              "8 2020-01-09      82\n",
              "9 2020-01-10      73"
            ]
          },
          "metadata": {
            "tags": []
          },
          "execution_count": 145
        }
      ]
    },
    {
      "cell_type": "code",
      "metadata": {
        "colab": {
          "base_uri": "https://localhost:8080/",
          "height": 162
        },
        "id": "qGZHRp4ERu9B",
        "outputId": "969d4f13-9891-41e3-b7b5-50afcb329c6e"
      },
      "source": [
        ""
      ],
      "execution_count": 53,
      "outputs": [
        {
          "output_type": "error",
          "ename": "NameError",
          "evalue": "ignored",
          "traceback": [
            "\u001b[0;31m---------------------------------------------------------------------------\u001b[0m",
            "\u001b[0;31mNameError\u001b[0m                                 Traceback (most recent call last)",
            "\u001b[0;32m<ipython-input-53-2a4e16c9fd21>\u001b[0m in \u001b[0;36m<module>\u001b[0;34m()\u001b[0m\n\u001b[0;32m----> 1\u001b[0;31m \u001b[0mhah\u001b[0m\u001b[0;34m\u001b[0m\u001b[0;34m\u001b[0m\u001b[0m\n\u001b[0m",
            "\u001b[0;31mNameError\u001b[0m: name 'hah' is not defined"
          ]
        }
      ]
    }
  ]
}