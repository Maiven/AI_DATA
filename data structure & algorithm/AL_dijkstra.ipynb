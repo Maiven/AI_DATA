{
  "nbformat": 4,
  "nbformat_minor": 0,
  "metadata": {
    "colab": {
      "name": "AL_dijkstra.ipynb",
      "provenance": [],
      "collapsed_sections": [],
      "toc_visible": true,
      "authorship_tag": "ABX9TyMBy6q3PlypiS01V5eEPxm9",
      "include_colab_link": true
    },
    "kernelspec": {
      "name": "python3",
      "display_name": "Python 3"
    }
  },
  "cells": [
    {
      "cell_type": "markdown",
      "metadata": {
        "id": "view-in-github",
        "colab_type": "text"
      },
      "source": [
        "<a href=\"https://colab.research.google.com/github/Maiven/medium_and_blog/blob/main/data%20structure%20%26%20algorithm/AL_dijkstra.ipynb\" target=\"_parent\"><img src=\"https://colab.research.google.com/assets/colab-badge.svg\" alt=\"Open In Colab\"/></a>"
      ]
    },
    {
      "cell_type": "markdown",
      "metadata": {
        "id": "3eT72IOnKG6h"
      },
      "source": [
        "https://codingcocoon.tistory.com/129"
      ]
    },
    {
      "cell_type": "markdown",
      "metadata": {
        "id": "j6JAentwMRCZ"
      },
      "source": [
        "# 최단 경로 알고리즘\n"
      ]
    },
    {
      "cell_type": "markdown",
      "metadata": {
        "id": "BgeWkzPbMcly"
      },
      "source": [
        "## 최단 경로 문제\n",
        "\n",
        "- 두 노드를 잇는 최단 경로 찾는 문제\n",
        "- 가중치 그래프에서 가중치 합이 최소가 되는 것을 찾는 문제"
      ]
    },
    {
      "cell_type": "markdown",
      "metadata": {
        "id": "67vEdF4UMeAd"
      },
      "source": [
        "## 문제 종류\n",
        "\n",
        "- 단일 출발 및 단일 도착 문제\n",
        "  - 특정 노드 2개를 선택 후 가장 짧은 경로를 찾는 문제\n",
        "- 단일 출발 문제\n",
        "  - 특정 노드 1개에서 다른 노드들 간 가장 짧은 경로를 찾는 문제\n",
        "- 전체 쌍 문제\n",
        "  - 그래프 내 노드 쌍에 대한 최단 경로를 찾는 문제\n"
      ]
    },
    {
      "cell_type": "markdown",
      "metadata": {
        "id": "GTJtOlGaMkN6"
      },
      "source": [
        "## 다익스트라 알고리즘\n"
      ]
    },
    {
      "cell_type": "markdown",
      "metadata": {
        "id": "Z5RyJfPBMnB6"
      },
      "source": [
        "- 단일 출발에 대한 답을 찾는 문제\n",
        "- 첫 노드를 기준으로 인접한 노드를 추가해 가면서 최단 거리를 구해나가는 방법\n",
        "  - 너비 우선 탐색과 유사\n",
        "- 우선순위 큐를 이용\n",
        "\n"
      ]
    },
    {
      "cell_type": "markdown",
      "metadata": {
        "id": "FSSy-zCqM6R3"
      },
      "source": [
        "1) 첫 노드를 기준으로 각 노드들 간의 거리를 저장하는 배열 생성\n",
        "\n",
        "- 첫 노드의 거리는 0, 나머지는 무한대로 설정 (inf)\n",
        "- 첫 정점 거리 (0)을 먼저 배열에 입력한다.\n",
        "\n",
        "2) 우선순위 큐에서 노드를 꺼냄\n",
        "\n",
        "- 첫 노드에 인접한 노드들에 대해 각 노드로 가는 거리와 현재 배열에 저장되어 있는 값과 비교하여 거리가 짧을 경우 업데이트\n",
        "- 업데이트가 된 경우 우선순위 큐에 입력\n",
        "\n",
        "3) 업데이트될 노드가 없을 때까지 반복"
      ]
    },
    {
      "cell_type": "markdown",
      "metadata": {
        "id": "npXRZxC4N6ja"
      },
      "source": [
        "<img src='https://github.com/Maiven/data-science/blob/main/dijkstra.png?raw=true' width = '300'>"
      ]
    },
    {
      "cell_type": "markdown",
      "metadata": {
        "id": "CLgxOjR_OL1F"
      },
      "source": [
        "## 단계\n",
        "- 초기화\n",
        "  - 첫 노드를 기준으로 거리 저장\n",
        "    - 첫 노드는 0, 나머지는 inf"
      ]
    },
    {
      "cell_type": "markdown",
      "metadata": {
        "id": "Vhc-O6ZqOUkn"
      },
      "source": [
        "- 인접한 노드와의 거리 계산\n",
        "\n",
        "  - 우선순위 큐에서 노드를 꺼냄\n",
        "  - 인접한 노드들과의 거리 비교 후 더 짧을 경우 업데이트\n"
      ]
    },
    {
      "cell_type": "markdown",
      "metadata": {
        "id": "0F6ljRp9Oevw"
      },
      "source": [
        "- 우선순위 큐의 가장 앞에 있는 노드 정보를 가지고 이 노드와 인접 노드 간의 거리 비교\n",
        "\n",
        "  - A-C-B의 거리가 A-B의 거리보다 짧기 때문에 업데이트\n",
        "  - A-D의 거리가 A-C-D보다 짧기 때문에 그대로 둔다"
      ]
    },
    {
      "cell_type": "markdown",
      "metadata": {
        "id": "RSBKa5-LOjJh"
      },
      "source": [
        "- 마지막 노드 D에서 인접한 노드까지의 거리 계산\n",
        "\n"
      ]
    },
    {
      "cell_type": "markdown",
      "metadata": {
        "id": "ch8mPDghOlbx"
      },
      "source": [
        "- 인접 노드가 없으면 우선순위 큐에서 pop을 하고 그다음에 들어있는 데이터를 이용하여 위 과정을 반복한다.\n",
        "\n"
      ]
    },
    {
      "cell_type": "code",
      "metadata": {
        "colab": {
          "base_uri": "https://localhost:8080/"
        },
        "id": "iZbxVCRcKAYg",
        "outputId": "918f7e6f-1182-45d6-fe1c-ce1b3cc29d07"
      },
      "source": [
        "import heapq\n",
        "\n",
        "queue = []\n",
        "heapq.heappush(queue, [3, 'A'])\n",
        "heapq.heappush(queue, [7, 'B'])\n",
        "heapq.heappush(queue, [1, 'C'])\n",
        "heapq.heappush(queue, [11, 'D'])\n",
        "print(queue)"
      ],
      "execution_count": 1,
      "outputs": [
        {
          "output_type": "stream",
          "text": [
            "[[1, 'C'], [7, 'B'], [3, 'A'], [11, 'D']]\n"
          ],
          "name": "stdout"
        }
      ]
    },
    {
      "cell_type": "code",
      "metadata": {
        "id": "rKT4hxCJKTAf"
      },
      "source": [
        "graph = {\n",
        "    'A': {'B':8, 'C':2, 'D':3},\n",
        "    'B':{},\n",
        "    'C':{'B':3, 'D':2},\n",
        "    'D':{'E':1, 'F':4},\n",
        "    'E':{},\n",
        "    'F':{}\n",
        "}"
      ],
      "execution_count": 2,
      "outputs": []
    },
    {
      "cell_type": "code",
      "metadata": {
        "id": "8W-6WXxRKXkO"
      },
      "source": [
        "import heapq\n",
        "\n",
        "def dijkstra(graph, first):\n",
        "    distance = {node:float('inf') for node in graph}\n",
        "    distance[first] = 0 # 첫 번째 노드거리 0    \n",
        "    queue = []\n",
        "    heapq.heappush(queue, [distance[first], first]) # 우선순위 큐에 첫번째 값 넣어줌\n",
        "\n",
        "    # queue에 데이터 없을 때 까지 반복\n",
        "    while queue:\n",
        "        current_distance, current_node = heapq.heappop(queue)\n",
        "\n",
        "        if distance[current_node] < current_distance: # 우선순위 큐의 값이 더 클경우 반복문 실행할 필요 없음\n",
        "            continue\n",
        "\n",
        "        for next_node, weight in graph[current_node].items():\n",
        "            total_distance = current_distance + weight\n",
        "\n",
        "            if total_distance < distance[next_node]:\n",
        "                distance[next_node] = total_distance\n",
        "                heapq.heappush(queue, [total_distance, next_node])\n",
        "\n",
        "    return distance\n"
      ],
      "execution_count": 3,
      "outputs": []
    },
    {
      "cell_type": "code",
      "metadata": {
        "colab": {
          "base_uri": "https://localhost:8080/"
        },
        "id": "Nw0ocTmKKa0v",
        "outputId": "db085e5e-064f-4d42-f792-55a9f6a112c9"
      },
      "source": [
        "dijkstra(graph, 'A')\n"
      ],
      "execution_count": 4,
      "outputs": [
        {
          "output_type": "execute_result",
          "data": {
            "text/plain": [
              "{'A': 0, 'B': 5, 'C': 2, 'D': 3, 'E': 4, 'F': 7}"
            ]
          },
          "metadata": {
            "tags": []
          },
          "execution_count": 4
        }
      ]
    },
    {
      "cell_type": "code",
      "metadata": {
        "id": "uEpRCu7MKcqE"
      },
      "source": [
        ""
      ],
      "execution_count": null,
      "outputs": []
    },
    {
      "cell_type": "markdown",
      "metadata": {
        "id": "48l4IfpbOwtv"
      },
      "source": [
        "## 시간 복잡도\n",
        "- 두 가지 과정을 거침\n",
        "  - 각 노드의 인접한 노드를 비교\n",
        "  - 우선순위 큐에 정보를 넣고 삭제하는 과정\n",
        "- 각 과정별 복잡도\n",
        "  - 모든 노드를 비교하는 과정 : O(E)\n",
        "  - 노드를 비교할 때마다 배열을 업데이트하고 우선순위 큐에 데이터를 넣었을 때 \n",
        "    - 간선마다 한 번씩 일어나므로 최대 O(E)\n",
        "    - 우선순위 큐에서 MiniHeap을 구성하는데 걸리는 시간 O(logE)\n",
        "    - 따라서 시간 복잡도는 O(ElogE)\n",
        "- 총 시간 복잡도: O(E) + O(ElogE) = O(ElogE)\n"
      ]
    },
    {
      "cell_type": "markdown",
      "metadata": {
        "id": "5iaXSI_-PIkx"
      },
      "source": [
        "## 최단 경로 찾기\n"
      ]
    },
    {
      "cell_type": "code",
      "metadata": {
        "id": "GxU0Sxy9PKvc"
      },
      "source": [
        "import heapq\n",
        "\n",
        "def dijkstra(graph, first, last):\n",
        "    distance = {node:[float('inf'), first] for node in graph}\n",
        "    distance[first] = [0, first]\n",
        "    queue = []\n",
        "\n",
        "    heapq.heappush(queue, [distance[first][0], first])\n",
        "\n",
        "    while queue:\n",
        "        current_distance, current_node = heapq.heappop(queue)\n",
        "\n",
        "        if distance[current_node][0] < current_distance:\n",
        "            continue\n",
        "\n",
        "        for next_node, weight in graph[current_node].items():\n",
        "            total_distance = current_distance + weight\n",
        "\n",
        "            if total_distance < distance[next_node][0]:\n",
        "                # 다음 노드까지 총 거리와 어떤 노드를 통해서 왔는지 입력\n",
        "                distance[next_node] = [total_distance, current_node]\n",
        "                heapq.heappush(queue, [total_distance, next_node])\n",
        "    # 마지막 노드부터 첫번째 노드까지 순서대로 출력\n",
        "    path = last\n",
        "    path_output = last + '->'\n",
        "    while distance[path][1] != first:\n",
        "        path_output += distance[path][1] + '->'\n",
        "        path = distance[path][1]\n",
        "    path_output += first\n",
        "    print(path_output)\n",
        "    return distance\n"
      ],
      "execution_count": 5,
      "outputs": []
    },
    {
      "cell_type": "code",
      "metadata": {
        "colab": {
          "base_uri": "https://localhost:8080/"
        },
        "id": "G7ZlVuwgPMXa",
        "outputId": "9fd870d0-5d69-4390-b9ee-ed7f214812fe"
      },
      "source": [
        "dijkstra(graph, 'A', 'F')\n"
      ],
      "execution_count": 6,
      "outputs": [
        {
          "output_type": "stream",
          "text": [
            "F->D->A\n"
          ],
          "name": "stdout"
        },
        {
          "output_type": "execute_result",
          "data": {
            "text/plain": [
              "{'A': [0, 'A'],\n",
              " 'B': [5, 'C'],\n",
              " 'C': [2, 'A'],\n",
              " 'D': [3, 'A'],\n",
              " 'E': [4, 'D'],\n",
              " 'F': [7, 'D']}"
            ]
          },
          "metadata": {
            "tags": []
          },
          "execution_count": 6
        }
      ]
    }
  ]
}