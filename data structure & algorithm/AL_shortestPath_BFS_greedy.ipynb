{
  "nbformat": 4,
  "nbformat_minor": 0,
  "metadata": {
    "colab": {
      "name": "AL_shortestPath_BFS_greedy.ipynb",
      "provenance": [],
      "collapsed_sections": [],
      "authorship_tag": "ABX9TyNLtRZa4E2d6bNUXSOLNR49",
      "include_colab_link": true
    },
    "kernelspec": {
      "name": "python3",
      "display_name": "Python 3"
    }
  },
  "cells": [
    {
      "cell_type": "markdown",
      "metadata": {
        "id": "view-in-github",
        "colab_type": "text"
      },
      "source": [
        "<a href=\"https://colab.research.google.com/github/Maiven/medium_and_blog/blob/main/data%20structure%20%26%20algorithm/AL_shortestPath_BFS_greedy.ipynb\" target=\"_parent\"><img src=\"https://colab.research.google.com/assets/colab-badge.svg\" alt=\"Open In Colab\"/></a>"
      ]
    },
    {
      "cell_type": "markdown",
      "metadata": {
        "id": "32Y_Y8zFQpb-"
      },
      "source": [
        "# Python 다익스트라, BFS, Greedy를 이용한 최단 경로\n",
        "\n",
        "출처: https://www.crocus.co.kr/1688 [Crocus]"
      ]
    },
    {
      "cell_type": "markdown",
      "metadata": {
        "id": "DY3Vg9wHHojK"
      },
      "source": [
        "init을 통해 간선 정보 및 노드 최단 경로, 경로 추적을 초기화 해주고\n",
        "\n",
        " \n",
        "\n",
        "##다익스트라(우선순위 큐가 아닌 2중 포문을 이용한 코드)\n",
        "\n",
        "##BFS(우선순위 큐가 아닌 큐를 이용한 코드)\n",
        "\n",
        "##Greedy(재귀를 이용한 코드)\n",
        "\n",
        "\n",
        "\n",
        "출처: https://www.crocus.co.kr/1688 [Crocus]"
      ]
    },
    {
      "cell_type": "markdown",
      "metadata": {
        "id": "v09IFOPpQe1m"
      },
      "source": [
        "<img src='https://github.com/Maiven/data-science/blob/main/shortestPath.png?raw=true' width = '500'>"
      ]
    },
    {
      "cell_type": "markdown",
      "metadata": {
        "id": "f-hXYdOPQlkE"
      },
      "source": [
        "이때 탐욕에서는 결과가 50이 나오는데 이는\n",
        "\n",
        "A에서 출발할때 가장 가까운 C로 가고 C에서는 가장 가까운 D로 가고 D에서는 가장 가까운 F로 가기 때문에\n",
        "\n",
        "실제 정답은 35이지만 탐욕을 이용하면 50이 나오게 되는 탐욕 알고리즘의 한계를 보여주는 결과물을 볼 수 있다.\n",
        "\n",
        "\n",
        "\n",
        "출처: https://www.crocus.co.kr/1688 [Crocus]"
      ]
    },
    {
      "cell_type": "code",
      "metadata": {
        "colab": {
          "base_uri": "https://localhost:8080/"
        },
        "id": "brWxQtp9HZVV",
        "outputId": "a7f2bbad-2371-4635-fba9-83cd05fb86fa"
      },
      "source": [
        "import queue\n",
        "\n",
        "graph = {}\n",
        "infinity = float(\"inf\")\n",
        "costs = {}\n",
        "parents = {}\n",
        "processed = []\n",
        "\n",
        "# 초기화\n",
        "def init():\n",
        "    global graph, infinity, costs, parents, processed\n",
        "    graph = {} # 간선 정보 입력\n",
        "    graph[\"A\"] = {}\n",
        "    graph[\"A\"][\"B\"] = 5\n",
        "    graph[\"A\"][\"C\"] = 0\n",
        "    graph[\"B\"] = {}\n",
        "    graph[\"B\"][\"D\"] = 15\n",
        "    graph[\"B\"][\"E\"] = 20\n",
        "    graph[\"C\"] = {}\n",
        "    graph[\"C\"][\"D\"] = 30\n",
        "    graph[\"C\"][\"E\"] = 35\n",
        "    graph[\"D\"] = {}\n",
        "    graph[\"D\"][\"F\"] = 20\n",
        "    graph[\"E\"] = {}\n",
        "    graph[\"E\"][\"F\"] = 10\n",
        "    graph[\"F\"] = {}\n",
        "    # ----------------------------------------\n",
        "    infinity = float(\"inf\")\n",
        "    # ------------------------------------------\n",
        "    costs = {} # 해당 노드 최단경로 입력\n",
        "    costs[\"A\"] = infinity\n",
        "    costs[\"B\"] = infinity\n",
        "    costs[\"C\"] = infinity\n",
        "    costs[\"D\"] = infinity\n",
        "    costs[\"E\"] = infinity\n",
        "    costs[\"F\"] = infinity\n",
        "    # -------------------------------------------\n",
        "    parents = {} # 추적 경로를 위해 부모 설정\n",
        "    parents[\"B\"] = None\n",
        "    parents[\"C\"] = None\n",
        "    parents[\"D\"] = None\n",
        "    parents[\"E\"] = None\n",
        "    parents[\"F\"] = None\n",
        "    # -------------------------------------------\n",
        "    processed = []\n",
        "\n",
        "# 최단 경로를 가진 노드를 구한다.\n",
        "def find_lowest_cost_node(costs):\n",
        "    lowest_cost = float(\"inf\")\n",
        "    lowest_cost_node = None\n",
        "    for node in costs:\n",
        "        cost = costs[node]\n",
        "        if cost < lowest_cost and node not in processed:\n",
        "            lowest_cost = cost\n",
        "            lowest_cost_node = node\n",
        "\n",
        "    return lowest_cost_node\n",
        "\n",
        "# 다익스트라 알고리즘\n",
        "def dijkstra(graph, start, final):\n",
        "    node = start\n",
        "    costs[start] = 0\n",
        "    while node is not None:\n",
        "        cost = costs[node]\n",
        "        neighbors = graph[node]\n",
        "        for n in neighbors.keys():\n",
        "            new_cost = cost + neighbors[n]\n",
        "            if costs[n] > new_cost: # 현재 가지고있는 cost보다 new_cost가 더 최단거리라면\n",
        "                costs[n] = new_cost # 갱신\n",
        "                parents[n] = node\n",
        "        processed.append(node)\n",
        "        node = find_lowest_cost_node(costs)\n",
        "\n",
        "    # 경로 추적 로직\n",
        "    trace = []\n",
        "    current = final\n",
        "    while current != start:\n",
        "        trace.append(current)\n",
        "        current = parents[current]\n",
        "    trace.append(start)\n",
        "    trace.reverse()\n",
        "    print(\"=== Dijkstra ===\")\n",
        "    print(start, \"에서 \", final, \"까지의 정보\")\n",
        "    print(\"최단 거리 : \", costs[final])\n",
        "    print(\"진행 과정 : \", processed)\n",
        "    print(\"경로 : \", trace)\n",
        "\n",
        "# BFS\n",
        "def bfs(graph, start, final):\n",
        "    q = queue.Queue()\n",
        "    costs[start] = 0\n",
        "    q.put({\"cur\": start, \"cost\": costs[start]})\n",
        "    while True:\n",
        "        if q.empty():\n",
        "            break\n",
        "\n",
        "        val = q.get()\n",
        "        cur = val[\"cur\"]\n",
        "        cost = val[\"cost\"]\n",
        "        costs[cur] = cost\n",
        "\n",
        "        for next in graph[cur]:\n",
        "            nextCost = graph[cur][next] + cost\n",
        "\n",
        "            # next의 cost가 nextCost보다 크다면 갱신해준다.(더 최단거리로)\n",
        "            if costs[next] >= nextCost:\n",
        "                costs[next] = nextCost\n",
        "                parents[next] = cur\n",
        "                q.put({\"cur\": next, \"cost\": nextCost})\n",
        "\n",
        "    # 추적 경로\n",
        "    trace = []\n",
        "    current = final\n",
        "    while current != start:\n",
        "        trace.append(current)\n",
        "        current = parents[current]\n",
        "    trace.append(start)\n",
        "    trace.reverse()\n",
        "\n",
        "    print(\"=== BFS ===\")\n",
        "    print(start, \"에서 \", final, \"까지의 정보\")\n",
        "    print(\"최단 거리 : \", costs[final])\n",
        "    print(\"경로 : \", trace)\n",
        "\n",
        "# 탐욕\n",
        "def greedy(graph, start, final):\n",
        "    if start == final: # 도착했다면\n",
        "        trace = []\n",
        "        current = final\n",
        "        while current != greedy_start:\n",
        "            trace.append(current)\n",
        "            current = parents[current]\n",
        "        trace.append(greedy_start)\n",
        "        trace.reverse()\n",
        "\n",
        "        #결과 출력\n",
        "        print(\"=== Greedy ===\")\n",
        "        print(greedy_start, \"에서 \", final, \"까지의 정보\")\n",
        "        print(\"최단 거리 : \", costs[final])\n",
        "        print(\"경로 : \", trace)\n",
        "        return\n",
        "    cur = start\n",
        "\n",
        "    # 현재 노드에서 가장 가까운 노드로 이동(minNode)\n",
        "    minNode = -1\n",
        "    minCost = infinity\n",
        "    for next in graph[cur]:\n",
        "        nextCost = graph[cur][next] + costs[cur]\n",
        "        if minCost > nextCost:\n",
        "            minNode = next\n",
        "            minCost = nextCost\n",
        "    if minNode == -1:\n",
        "        return\n",
        "    costs[minNode] = minCost\n",
        "    parents[minNode] = cur\n",
        "\n",
        "    # 그다음 노드로 진입\n",
        "    greedy(graph, minNode, final)\n",
        "\n",
        "\n",
        "init()\n",
        "dijkstra(graph, \"A\", \"F\")\n",
        "\n",
        "init()\n",
        "bfs(graph, \"A\", \"F\")\n",
        "\n",
        "init()\n",
        "greedy_start = \"A\"\n",
        "costs[greedy_start] = 0\n",
        "greedy(graph, \"A\", \"F\")"
      ],
      "execution_count": 1,
      "outputs": [
        {
          "output_type": "stream",
          "text": [
            "=== Dijkstra ===\n",
            "A 에서  F 까지의 정보\n",
            "최단 거리 :  35\n",
            "진행 과정 :  ['A', 'C', 'B', 'D', 'E', 'F']\n",
            "경로 :  ['A', 'B', 'E', 'F']\n",
            "=== BFS ===\n",
            "A 에서  F 까지의 정보\n",
            "최단 거리 :  35\n",
            "경로 :  ['A', 'B', 'E', 'F']\n",
            "=== Greedy ===\n",
            "A 에서  F 까지의 정보\n",
            "최단 거리 :  50\n",
            "경로 :  ['A', 'C', 'D', 'F']\n"
          ],
          "name": "stdout"
        }
      ]
    },
    {
      "cell_type": "code",
      "metadata": {
        "id": "ww62yQpxINvY"
      },
      "source": [
        ""
      ],
      "execution_count": null,
      "outputs": []
    }
  ]
}