{
  "nbformat": 4,
  "nbformat_minor": 0,
  "metadata": {
    "colab": {
      "name": "AL_sort.ipynb",
      "provenance": [],
      "collapsed_sections": [],
      "authorship_tag": "ABX9TyPemZmSCBFojuAmxu1872Mo",
      "include_colab_link": true
    },
    "kernelspec": {
      "name": "python3",
      "display_name": "Python 3"
    }
  },
  "cells": [
    {
      "cell_type": "markdown",
      "metadata": {
        "id": "view-in-github",
        "colab_type": "text"
      },
      "source": [
        "<a href=\"https://colab.research.google.com/github/Maiven/medium_and_blog/blob/main/data%20structure%20%26%20algorithm/AL_sort.ipynb\" target=\"_parent\"><img src=\"https://colab.research.google.com/assets/colab-badge.svg\" alt=\"Open In Colab\"/></a>"
      ]
    },
    {
      "cell_type": "code",
      "metadata": {
        "id": "TJELWaRepGvE"
      },
      "source": [
        "def bubblesort(list):\n",
        "    for i in range(len(list) - 1, 0, -1):\n",
        "        for x in range(i):\n",
        "            if list[x] > list[x + 1]:\n",
        "                temp = list[x]\n",
        "                list[x] = list[x + 1]\n",
        "                list[x + 1] = temp\n",
        "    return list\n",
        "\n",
        "sort_me = [9, 2, 1, 4, 7, 6, 5, 3, 8]\n",
        "\n",
        "print(bubblesort(sort_me))"
      ],
      "execution_count": null,
      "outputs": []
    },
    {
      "cell_type": "code",
      "metadata": {
        "colab": {
          "base_uri": "https://localhost:8080/"
        },
        "id": "C1loRmv8qpq7",
        "outputId": "7ac0143d-606c-4edc-dc8d-8f5f694c8d33"
      },
      "source": [
        "sort_insert = [9,2,1,4,7,6,5,3,8,]\n",
        "\n",
        "def insertionsort(list):\n",
        "  for index in range(1, len(list)):\n",
        "    current = list[index]\n",
        "    position = index\n",
        "\n",
        "    while position > 0 and list[position-1] > current:\n",
        "      list[position] = list[position-1]\n",
        "      position -= 1\n",
        "    list[position] = current\n",
        "  return list\n",
        "\n",
        "print(insertionsort(sort_insert))"
      ],
      "execution_count": 1,
      "outputs": [
        {
          "output_type": "stream",
          "text": [
            "[1, 2, 3, 4, 5, 6, 7, 8, 9]\n"
          ],
          "name": "stdout"
        }
      ]
    },
    {
      "cell_type": "code",
      "metadata": {
        "colab": {
          "base_uri": "https://localhost:8080/"
        },
        "id": "EFAd0CDsrNBU",
        "outputId": "0aead414-42b0-42f7-fc60-28ed0d975851"
      },
      "source": [
        "def quick_sort(list):\n",
        "  if len(list) <= 1:\n",
        "    return list\n",
        "  else:\n",
        "    pivot = list[len(list) // 2]\n",
        "    left = [x for x in list if x < pivot]\n",
        "    middle = [x for x in list if x == pivot]\n",
        "    right = [x for x in list if x > pivot]\n",
        "\n",
        "    return quick_sort(left) + middle + quick_sort(right)\n",
        "\n",
        "list = [8,5,3,9,7,4,1,2,6]\n",
        "print(quick_sort(list))"
      ],
      "execution_count": 2,
      "outputs": [
        {
          "output_type": "stream",
          "text": [
            "[1, 2, 3, 4, 5, 6, 7, 8, 9]\n"
          ],
          "name": "stdout"
        }
      ]
    }
  ]
}