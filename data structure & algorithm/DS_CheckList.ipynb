{
  "nbformat": 4,
  "nbformat_minor": 0,
  "metadata": {
    "colab": {
      "name": "DS_CheckList.ipynb",
      "provenance": [],
      "collapsed_sections": [],
      "authorship_tag": "ABX9TyMgSZRXkhXe2/D0F7Z8VR1K",
      "include_colab_link": true
    },
    "kernelspec": {
      "name": "python3",
      "display_name": "Python 3"
    }
  },
  "cells": [
    {
      "cell_type": "markdown",
      "metadata": {
        "id": "view-in-github",
        "colab_type": "text"
      },
      "source": [
        "<a href=\"https://colab.research.google.com/github/Maiven/medium_and_blog/blob/main/data%20structure%20%26%20algorithm/DS_CheckList.ipynb\" target=\"_parent\"><img src=\"https://colab.research.google.com/assets/colab-badge.svg\" alt=\"Open In Colab\"/></a>"
      ]
    },
    {
      "cell_type": "code",
      "metadata": {
        "id": "_g2uKn_F7MLm"
      },
      "source": [
        ""
      ],
      "execution_count": null,
      "outputs": []
    },
    {
      "cell_type": "markdown",
      "metadata": {
        "id": "5lvfNUG07PHN"
      },
      "source": [
        "\n",
        "\n",
        "Real-Life Examples of Data Structures\n",
        "In each of the following examples, please choose the best data structure(s).\n",
        "Options are: Array, Linked Lists, Stack, Queues, Trees, Graphs, Sets, Hash\n",
        "Tables. Note that there may not be one clear answer.\n",
        "1. You have to store social network “feeds”. You do not know the size, and\n",
        "things may need to be dynamically added.\n",
        "2. You need to store undo/redo operations in a word processor.\n",
        "3. You need to evaluate an expression (i.e., parse).\n",
        "4. You need to store the friendship information on a social networking site.\n",
        "I.e., who is friends with who.\n",
        "5. You need to store an image (1000 by 1000 pixels) as a bitmap.\n",
        "6. To implement printer spooler so that jobs can be printed in the order of\n",
        "their arrival.\n",
        "7. To implement back functionality in the internet browser.\n",
        "8. To store the possible moves in a chess game.\n",
        "9. To store a set of fixed key words which are referenced very frequently.\n",
        "10. To store the customer order information in a drive-in burger place. (Customers keep on coming and they have to get their correct food at the\n",
        "payment/food collection window.)\n",
        "11. To store the genealogy information of biological species.\n",
        "You won’t be able to answer all of these problems until you learn more\n",
        "about data structures trees, graphs, etc. That’s what this course is about!*   항목 추가\n",
        "\n"
      ]
    },
    {
      "cell_type": "code",
      "metadata": {
        "id": "zQgGUR5i7Tj-"
      },
      "source": [
        "Hash table (uniquely identifies each feed while allowing additional feeds to be added (assuming dynamic resizing))\n",
        "Linked List (doubly-linked: from one node, you can go backwards/forwards one by one)\n",
        "Tree (integral to compilers/automata theory; rules determine when to branch and how many branches to have. look up parse trees)\n",
        "Graph (each person is a point, and connections/friendships are an edge)\n",
        "Array (2-dimensional, 1000x1000, storing color values)\n",
        "Queue (like a queue/line of people waiting to get through a checkpoint)\n",
        "Stack (you can add to the stack with each site visited, and pop off as necessary to go back, as long as you don't care about going forward. If you care about forward, this is the same scenario as the word processor, so linked list)\n",
        "Tree (can follow any game move by move, down from the root to the leaf. Note that this tree is HUGE)\n",
        "Hash table (If you want to use the keywords as keys, and get all things related to them, I would suggest a hash table with linked lists as the keys' corresponding values. I might be misunderstanding this scenario, the description confuses me a little as to how they are intended to be used)\n",
        "Queue or Hash Table (if this is a drive thru, assuming people aren't cutting in front of one another, it's like the printer question. If customers are placing orders ahead of time, and can arrive in any order, a hash table would be much better, with an order number or customer name as the key and the order details as the value)\n",
        "Tree (look up phylogenic tree)"
      ],
      "execution_count": null,
      "outputs": []
    },
    {
      "cell_type": "code",
      "metadata": {
        "id": "GVRFvmcG7YTY"
      },
      "source": [
        "You have to store social network “feeds”. You do not know the size, and things may need to be dynamically added. -linked list or Hash table\n",
        "You need to store undo/redo operations in a word processor. – stack (use 2 stack for including redo operation)\n",
        "You need to evaluate an expression (i.e., parse). – stack or tree\n",
        "You need to store the friendship information on a social networking site. I.e., who is friends with who – graph\n",
        "You need to store an image (1000 by 1000 pixels) as a bitmap. – ArrayList(java) or 2D array\n",
        "To implement printer spooler so that jobs can be printed in the order of their arrival. – queue\n",
        "To implement back functionality in the internet browser. – stack\n",
        "To store the possible moves in a chess game. – tree\n",
        "To store a set of fixed keywords which are referenced very frequently. –dynamic programming or hash table\n",
        "To store the customer order information in a drive-in burger place. (Customers keep on coming and they have to get their correct food at the payment/food collection window.) – queue / min Priority Queue(if the order is simple and takes less time)\n",
        "To store the genealogy information of biological species. – Tree\n"
      ],
      "execution_count": null,
      "outputs": []
    },
    {
      "cell_type": "markdown",
      "metadata": {
        "id": "DSjp0vrS7XR1"
      },
      "source": [
        ""
      ]
    }
  ]
}