{
  "nbformat": 4,
  "nbformat_minor": 0,
  "metadata": {
    "colab": {
      "name": "DS_Graph_DFS_BFS.ipynb",
      "provenance": [],
      "collapsed_sections": [],
      "authorship_tag": "ABX9TyP1rRCf1T409g8OoHNq5dyO",
      "include_colab_link": true
    },
    "kernelspec": {
      "name": "python3",
      "display_name": "Python 3"
    }
  },
  "cells": [
    {
      "cell_type": "markdown",
      "metadata": {
        "id": "view-in-github",
        "colab_type": "text"
      },
      "source": [
        "<a href=\"https://colab.research.google.com/github/Maiven/AI_Python/blob/main/data%20structure%20%26%20algorithm/DS_Graph_DFS_BFS.ipynb\" target=\"_parent\"><img src=\"https://colab.research.google.com/assets/colab-badge.svg\" alt=\"Open In Colab\"/></a>"
      ]
    },
    {
      "cell_type": "markdown",
      "metadata": {
        "id": "cD2BtcdXm7o8"
      },
      "source": [
        "# 5 Ways to Find the Shortest Path in a Graph\n",
        "\n",
        "- Dijkstra’s algorithm is not your only choice. Find the simplest algorithm for each situation\n"
      ]
    },
    {
      "cell_type": "markdown",
      "metadata": {
        "id": "XfqDGJTynQAX"
      },
      "source": [
        "## 1. Depth-First Search (DFS)\n",
        "\n",
        "- This is probably the simplest algorithm to get the shortest path. However, there are drawbacks too. Your graph needs to be a tree or polytree. If this condition is met, you can use a slightly modified DFS to find your shortest path:\n"
      ]
    },
    {
      "cell_type": "code",
      "metadata": {
        "id": "5FDi_a0Mm0fh"
      },
      "source": [
        ""
      ],
      "execution_count": null,
      "outputs": []
    },
    {
      "cell_type": "markdown",
      "metadata": {
        "id": "j0F8vpPjnxBg"
      },
      "source": [
        "<img src='https://github.com/Maiven/data-science/blob/main/shortestpath_algorithm.png?raw=true' width = '800'>"
      ]
    },
    {
      "cell_type": "code",
      "metadata": {
        "id": "okFAKrvU6jai"
      },
      "source": [
        "# Using a Python dictionary to act as an adjacency list\n",
        "'''The illustrated graph is represented using \n",
        "an adjacency list - an easy way to do it in Python \n",
        "is to use a dictionary data structure.\n",
        "Each vertex has a list of its adjacent nodes stored.'''\n",
        "graph = {\n",
        "    'A' : ['B','C'],\n",
        "    'B' : ['D', 'E'],\n",
        "    'C' : [],\n",
        "    'D' : [],\n",
        "    'E' : []\n",
        "}\n",
        "\n",
        "# visited is a set that is used to keep track of visited nodes.\n",
        "visited = set() \n",
        "\n",
        "'''dfs follows the algorithm described:\n",
        "1. It first checks if the current node is unvisited - if yes, it is appended in the visited set.\n",
        "2. Then for each neighbor of the current node, the dfs function is invoked again.\n",
        "3. The base case is invoked when all the nodes are visited. The function then returns.'''\n",
        "\n",
        "def dfs(visited, graph, node):\n",
        "    if node not in visited:\n",
        "        print (node)\n",
        "        visited.add(node)\n",
        "        for neighbor in graph[node]:\n",
        "            dfs(visited, graph, neighbor)\n",
        "\n",
        "# Driver Code\n",
        "'''The dfs function is called and is passed the visited set,\n",
        "the graph in the form of a dictionary, and A, \n",
        "which is the starting node (root node).'''\n",
        "dfs(visited, graph, 'A')"
      ],
      "execution_count": null,
      "outputs": []
    },
    {
      "cell_type": "code",
      "metadata": {
        "id": "YxX2XTnk6lIN"
      },
      "source": [
        "'''The illustrated graph is represented using an adjacency list. \n",
        "An easy way to do this in Python is to use a dictionary data structure,\n",
        "where each vertex has a stored list of its adjacent nodes.'''\n",
        "graph = {\n",
        "  'A' : ['B','C'],\n",
        "  'B' : ['D', 'E'],\n",
        "  'C' : [],\n",
        "  'D' : [],\n",
        "  'E' : []\n",
        "}\n",
        "\n",
        "visited = [] # List to keep track of visited nodes.\n",
        "# queue is a list that is used to keep track of nodes currently in the queue.\n",
        "queue = []     #Initialize a queue\n",
        "\n",
        "'''bfs follows the algorithm:\n",
        "1. It checks and appends the starting node to the visited list and the queue.\n",
        "2. Then, while the queue contains elements, \n",
        "it keeps taking out nodes from the queue, \n",
        "appends the neighbors of that node to the queue if they are unvisited, \n",
        "and marks them as visited.\n",
        "3. This continues until the queue is empty.'''\n",
        "\n",
        "def bfs(visited, graph, node):\n",
        "    visited.append(node)\n",
        "    queue.append(node)\n",
        "    \n",
        "    while queue:\n",
        "        s = queue.pop(0) \n",
        "        print (s, end = \" \") \n",
        "        \n",
        "        for neighbor in graph[s]:\n",
        "            if neighbor not in visited:\n",
        "                visited.append(neighbor)\n",
        "                queue.append(neighbor)\n",
        "\n",
        "# Driver Code\n",
        "'''The arguments of the bfs function are the visited list, \n",
        "the graph in the form of a dictionary, \n",
        "and the starting node A.'''\n",
        "bfs(visited, graph, 'A')"
      ],
      "execution_count": null,
      "outputs": []
    }
  ]
}