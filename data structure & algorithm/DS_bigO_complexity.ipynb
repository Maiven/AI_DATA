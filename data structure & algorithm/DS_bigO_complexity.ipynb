{
  "nbformat": 4,
  "nbformat_minor": 0,
  "metadata": {
    "colab": {
      "name": "DS_bigO_complexity.ipynb",
      "provenance": [],
      "collapsed_sections": []
    },
    "kernelspec": {
      "name": "python3",
      "display_name": "Python 3"
    }
  },
  "cells": [
    {
      "cell_type": "markdown",
      "metadata": {
        "id": "kTCfXOitvKZl"
      },
      "source": [
        "https://stackabuse.com/big-o-notation-and-algorithm-analysis-with-python-examples/"
      ]
    },
    {
      "cell_type": "markdown",
      "metadata": {
        "id": "_J4aW3ogt9FL"
      },
      "source": [
        "- 파이썬으로 구현될 수 있는 BigO에 대해서 input에 따른 step 시각화"
      ]
    },
    {
      "cell_type": "code",
      "metadata": {
        "colab": {
          "base_uri": "https://localhost:8080/"
        },
        "id": "p1v7_mGmuNwI",
        "outputId": "b7f5067a-1af7-428d-cbf2-d5968d2cd818"
      },
      "source": [
        "def constant_algo(items):\n",
        "    result = items[0] * items[0]\n",
        "    print(result)\n",
        "\n",
        "constant_algo([4, 5, 6, 8])"
      ],
      "execution_count": null,
      "outputs": [
        {
          "output_type": "stream",
          "text": [
            "16\n"
          ],
          "name": "stdout"
        }
      ]
    },
    {
      "cell_type": "code",
      "metadata": {
        "id": "7oq6T8XOslGI",
        "colab": {
          "base_uri": "https://localhost:8080/",
          "height": 295
        },
        "outputId": "058883e9-614f-44b4-e623-ab17d8f8c07f"
      },
      "source": [
        "import matplotlib.pyplot as plt\n",
        "import numpy as np\n",
        "\n",
        "x = [2, 4, 6, 8, 10, 12]\n",
        "\n",
        "y = [2, 2, 2, 2, 2, 2]\n",
        "\n",
        "plt.plot(x, y, 'b')\n",
        "plt.xlabel('Inputs')\n",
        "plt.ylabel('Steps')\n",
        "plt.title('Constant Complexity')\n",
        "plt.show()"
      ],
      "execution_count": null,
      "outputs": [
        {
          "output_type": "display_data",
          "data": {
            "image/png": "[encoded data removed]",
            "text/plain": [
              "<Figure size 432x288 with 1 Axes>"
            ]
          },
          "metadata": {
            "tags": [],
            "needs_background": "light"
          }
        }
      ]
    },
    {
      "cell_type": "code",
      "metadata": {
        "colab": {
          "base_uri": "https://localhost:8080/"
        },
        "id": "urGGYrCFuR89",
        "outputId": "751fbf0f-630d-4e33-b08a-929b6bd74801"
      },
      "source": [
        "def linear_algo(items):\n",
        "    for item in items:\n",
        "        print(item)\n",
        "\n",
        "linear_algo([4, 5, 6, 8])"
      ],
      "execution_count": null,
      "outputs": [
        {
          "output_type": "stream",
          "text": [
            "4\n",
            "5\n",
            "6\n",
            "8\n"
          ],
          "name": "stdout"
        }
      ]
    },
    {
      "cell_type": "code",
      "metadata": {
        "colab": {
          "base_uri": "https://localhost:8080/",
          "height": 295
        },
        "id": "o_J8SKsZuUQ1",
        "outputId": "f3e159c7-64f7-4726-fafc-ca9531ebd28f"
      },
      "source": [
        "import matplotlib.pyplot as plt\n",
        "import numpy as np\n",
        "\n",
        "x = [2, 4, 6, 8, 10, 12]\n",
        "\n",
        "y = [2, 4, 6, 8, 10, 12]\n",
        "\n",
        "plt.plot(x, y, 'b')\n",
        "plt.xlabel('Inputs')\n",
        "plt.ylabel('Steps')\n",
        "plt.title('Linear Complexity')\n",
        "plt.show()"
      ],
      "execution_count": null,
      "outputs": [
        {
          "output_type": "display_data",
          "data": {
            "image/png": "[encoded data removed]",
            "text/plain": [
              "<Figure size 432x288 with 1 Axes>"
            ]
          },
          "metadata": {
            "tags": [],
            "needs_background": "light"
          }
        }
      ]
    },
    {
      "cell_type": "code",
      "metadata": {
        "colab": {
          "base_uri": "https://localhost:8080/"
        },
        "id": "9gL8KjOHuVqt",
        "outputId": "907ddc84-96c3-45d0-9af5-c4b895cb766f"
      },
      "source": [
        "def linear_algo(items):\n",
        "    for item in items:\n",
        "        print(item)\n",
        "\n",
        "    for item in items:\n",
        "        print(item)\n",
        "\n",
        "linear_algo([4, 5, 6, 8])"
      ],
      "execution_count": null,
      "outputs": [
        {
          "output_type": "stream",
          "text": [
            "4\n",
            "5\n",
            "6\n",
            "8\n",
            "4\n",
            "5\n",
            "6\n",
            "8\n"
          ],
          "name": "stdout"
        }
      ]
    },
    {
      "cell_type": "code",
      "metadata": {
        "colab": {
          "base_uri": "https://localhost:8080/",
          "height": 295
        },
        "id": "HkY0OTPPuZjt",
        "outputId": "c65e0693-bb59-4d24-b8fd-cb4bea381ea7"
      },
      "source": [
        "import matplotlib.pyplot as plt\n",
        "import numpy as np\n",
        "\n",
        "x = [2, 4, 6, 8, 10, 12]\n",
        "\n",
        "y = [4, 8, 12, 16, 20, 24]\n",
        "\n",
        "plt.plot(x, y, 'b')\n",
        "plt.xlabel('Inputs')\n",
        "plt.ylabel('Steps')\n",
        "plt.title('Linear Complexity')\n",
        "plt.show()"
      ],
      "execution_count": null,
      "outputs": [
        {
          "output_type": "display_data",
          "data": {
            "image/png": "[encoded data removed]",
            "text/plain": [
              "<Figure size 432x288 with 1 Axes>"
            ]
          },
          "metadata": {
            "tags": [],
            "needs_background": "light"
          }
        }
      ]
    },
    {
      "cell_type": "code",
      "metadata": {
        "id": "YbWNk6I9ubKl"
      },
      "source": [
        "def quadratic_algo(items):\n",
        "    for item in items:\n",
        "        for item2 in items:\n",
        "          print(item, ' ' ,item2)\n",
        "            \n",
        "quadratic_algo([4, 5, 6, 8])"
      ],
      "execution_count": null,
      "outputs": []
    },
    {
      "cell_type": "markdown",
      "metadata": {
        "id": "b3mVegC62Vxf"
      },
      "source": [
        "- implementation_1 has a quadratic complexity function f(n) = n².\n",
        "\n",
        "- implementation_2 has a quadratic complexity function f(n) = 2n².\n",
        "\n",
        "- implementation_3 has a logarithmic complexity function f(n) = n log(n).\n"
      ]
    },
    {
      "cell_type": "markdown",
      "metadata": {
        "id": "fuBaNcam2hWc"
      },
      "source": [
        "https://blog.finxter.com/complexity-of-python-operations/"
      ]
    },
    {
      "cell_type": "code",
      "metadata": {
        "colab": {
          "base_uri": "https://localhost:8080/",
          "height": 329
        },
        "id": "7MB5PRHducxH",
        "outputId": "3e16c7d8-1b26-4e38-f1bd-82b07d432fd0"
      },
      "source": [
        "import matplotlib.pyplot as plt\n",
        "import numpy as np\n",
        "\n",
        "\n",
        "x = []  \n",
        "y = []\n",
        "#x = [2, 4, 6, 8, 10, 12]\n",
        "#y = [4, 16, 36, 64, 100, 144]\n",
        "\n",
        "# for i in range(2,14,2):\n",
        "#   x.append(i)\n",
        "  \n",
        "# for j in range(4,16,2):\n",
        "#   y.append(j)\n",
        "for n in range(1, 100, 10):\n",
        "  x.append(n)\n",
        "for n in range(1, 100, 10):\n",
        "  y.append(n**2)\n",
        "# x = [n for n in range(1, 100, 10)]\n",
        "# y = [n**2 for n in range(1, 100, 10)]\n",
        "# y = [2*n**2 for n in range(1, 100, 10)]\n",
        "# z = [n*math.log(n) for n in range(1, 100, 10)]\n",
        "\n",
        "print(x)\n",
        "print(y)\n",
        "plt.plot(x, y, 'b')\n",
        "plt.xlabel('Inputs')\n",
        "plt.ylabel('Steps')\n",
        "plt.title('Quadratic Complexity')\n",
        "plt.show()"
      ],
      "execution_count": null,
      "outputs": [
        {
          "output_type": "stream",
          "text": [
            "[1, 11, 21, 31, 41, 51, 61, 71, 81, 91]\n",
            "[1, 121, 441, 961, 1681, 2601, 3721, 5041, 6561, 8281]\n"
          ],
          "name": "stdout"
        },
        {
          "output_type": "display_data",
          "data": {
            "image/png": "[encoded data removed]",
            "text/plain": [
              "<Figure size 432x288 with 1 Axes>"
            ]
          },
          "metadata": {
            "tags": [],
            "needs_background": "light"
          }
        }
      ]
    },
    {
      "cell_type": "code",
      "metadata": {
        "colab": {
          "base_uri": "https://localhost:8080/"
        },
        "id": "SINgZDiyy9Jp",
        "outputId": "a00eb560-6435-4733-e26e-b32d329a8397"
      },
      "source": [
        "i = []\n",
        "for x in range(2,16,2):\n",
        "  i.append(x)\n",
        "print(i)\n",
        "\n",
        "i = []\n",
        "for x in range(4,145,x):\n",
        "  i.append(x)\n",
        "print(i)"
      ],
      "execution_count": null,
      "outputs": [
        {
          "output_type": "stream",
          "text": [
            "[2, 4, 6, 8, 10, 12, 14]\n",
            "[4, 18, 32, 46, 60, 74, 88, 102, 116, 130, 144]\n"
          ],
          "name": "stdout"
        }
      ]
    }
  ]
}