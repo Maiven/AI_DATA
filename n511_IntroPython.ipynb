{
  "nbformat": 4,
  "nbformat_minor": 0,
  "metadata": {
    "colab": {
      "name": "n511_IntroPython.ipynb",
      "provenance": [],
      "collapsed_sections": [],
      "toc_visible": true,
      "include_colab_link": true
    },
    "kernelspec": {
      "display_name": "Python 3",
      "language": "python",
      "name": "python3"
    },
    "language_info": {
      "codemirror_mode": {
        "name": "ipython",
        "version": 3
      },
      "file_extension": ".py",
      "mimetype": "text/x-python",
      "name": "python",
      "nbconvert_exporter": "python",
      "pygments_lexer": "ipython3",
      "version": "3.8.5"
    }
  },
  "cells": [
    {
      "cell_type": "markdown",
      "metadata": {
        "id": "view-in-github",
        "colab_type": "text"
      },
      "source": [
        "<a href=\"https://colab.research.google.com/github/Maiven/AI_DATA/blob/main/n511_IntroPython.ipynb\" target=\"_parent\"><img src=\"https://colab.research.google.com/assets/colab-badge.svg\" alt=\"Open In Colab\"/></a>"
      ]
    },
    {
      "cell_type": "markdown",
      "metadata": {
        "id": "UQqT5ie4vdDS"
      },
      "source": [
        "<img src='https://user-images.githubusercontent.com/6457691/90080969-0f758d00-dd47-11ea-8191-fa12fd2054a7.png' width = '200' align = 'right'>\n",
        "\n",
        "## *DATA SCIENCE / SECTION 5 / SPRINT 1 / NOTE 1*\n",
        "\n",
        "---\n",
        "\n",
        "# 인트로 파이썬\n",
        "\n",
        "## 🏆 학습 목표 \n",
        "\n",
        "- n511~n514의 방향 : 파이썬과 익숙해지고, **반복과 조건개념** 중심으로 활용하기 \n",
        "- 파이썬 **기본 문법**에 대해 배운다.\n",
        "- 컬렉션 자료형(**리스트, 튜플, 셋, 딕셔너리**)에 대해 배운다.\n",
        "- 현실의 개념을 수학적 기초개념으로 프로그래밍하는데 익숙해지기.\n",
        "- **section5 전체의 최종목적은 실무에서 활용될 수 있는 자료구조와 알고리즘을 파이썬 코드로 작성하고 이해하는 것이다.**\n",
        "- **section5의 핵심 키워드 : 재귀, 검색, 정렬 with 파이썬**\n",
        "\n",
        "---"
      ]
    },
    {
      "cell_type": "markdown",
      "metadata": {
        "id": "lU1EdT_eynXq"
      },
      "source": [
        "# section5의 중심개념\n",
        "\n",
        "💡 생각하는 시간 : 아래 내용은 section5에 전체적으로 적용되는 개념이다.\n",
        "\n",
        "  - 현실에서 발생하는 복잡한 문제를 작은 문제로 **분할하면서 해결**한다.\n",
        "\n",
        "  - 문제에 대한 **패턴을 발견**한다.\n",
        "\n",
        "  - 문제를 **최소한의 비용으로 최대한 빠르게** 해결한다.\n",
        "\n",
        "<img src='https://dojang.io/pluginfile.php/13332/mod_page/content/10/001003.png' width = '500'>\n",
        "\n",
        "<img src='https://dojang.io/pluginfile.php/13349/mod_page/content/4/001007.png' width = '500'>\n",
        "\n",
        "  - 참고 : https://dojang.io/mod/page/view.php?id=2151"
      ]
    },
    {
      "cell_type": "markdown",
      "metadata": {
        "id": "b_gXHprXvqVx"
      },
      "source": [
        "# ✍️파이썬과 프로그래밍"
      ]
    },
    {
      "cell_type": "markdown",
      "metadata": {
        "id": "IUGWu02UqWsj"
      },
      "source": [
        "<img src='https://github.com/Maiven/data-science/blob/main/DS&AL%E1%84%80%E1%85%AA%E1%86%AB%E1%84%80%E1%85%A8.png?raw=true' width = '700'>"
      ]
    },
    {
      "cell_type": "markdown",
      "metadata": {
        "id": "2X_g4IMgAgMV"
      },
      "source": [
        "💡 생각하는 시간 : 파이썬, 알고리즘, 자료구조는 생산을 위한 도구이다.\n",
        "\n",
        "  - 파이썬 : 컴퓨터와의 소통언어(예를 들어, 수학)\n",
        "\n",
        "  - 알고리즘 : 효율적인 문제해결방법(예를 들어, 사칙연산 또는 미적분)\n",
        "\n",
        "  - 자료구조 : 프로그램의 구조와 크기(예를 들어, 수학문제들간의 관계와 난이도)"
      ]
    },
    {
      "cell_type": "markdown",
      "metadata": {
        "id": "OYIvQ_5xEuDL"
      },
      "source": [
        "- 기본학습흐름\n",
        "\n",
        "  - 파이썬의 기본코드를 익힌다.\n",
        "\n",
        "  - 소스코드를 통해 파이썬에서 사용되는 데이터 타입을 익힌다.\n",
        "  \n",
        "  - 컬렉션 자료형(리스트, 튜플, 셋, 딕셔너리) 활용한다."
      ]
    },
    {
      "cell_type": "code",
      "metadata": {
        "id": "z4f3KFn32Vfo",
        "colab": {
          "base_uri": "https://localhost:8080/"
        },
        "outputId": "030269aa-7175-4020-a684-870e3d70537e"
      },
      "source": [
        "# 인트로 문제\n",
        "# 1부터 20까지 숫자 출력하기\n",
        "\n",
        "def first():\n",
        "  for i in range(1,20):\n",
        "    print(i)\n",
        "\n",
        "first()"
      ],
      "execution_count": null,
      "outputs": [
        {
          "output_type": "stream",
          "text": [
            "1\n",
            "2\n",
            "3\n",
            "4\n",
            "5\n",
            "6\n",
            "7\n",
            "8\n",
            "9\n",
            "10\n",
            "11\n",
            "12\n",
            "13\n",
            "14\n",
            "15\n",
            "16\n",
            "17\n",
            "18\n",
            "19\n"
          ],
          "name": "stdout"
        }
      ]
    },
    {
      "cell_type": "code",
      "metadata": {
        "id": "OvuWoTwI26ik",
        "colab": {
          "base_uri": "https://localhost:8080/"
        },
        "outputId": "7fceac08-1d38-4dcc-f4cf-b2b7726709c2"
      },
      "source": [
        "# 1부터 50까지 숫자 중, 3과 5의 공배수 구하기\n",
        "\n",
        "def second():\n",
        "  for i in range(1,51):\n",
        "    if i%3==0 and i%5==0:\n",
        "      print(i)\n",
        "\n",
        "if __name__ == \"__main__\":\n",
        "  second()"
      ],
      "execution_count": null,
      "outputs": [
        {
          "output_type": "stream",
          "text": [
            "15\n",
            "30\n",
            "45\n"
          ],
          "name": "stdout"
        }
      ]
    },
    {
      "cell_type": "code",
      "metadata": {
        "id": "dAbfXaAc3wBq"
      },
      "source": [
        "# 숫자를 입력받고 함수 자신을 계속해서 호출하여 0부터 입력된 숫자까지 출력해보기\n",
        "test_num = int(input())\n",
        "\n",
        "# case 1 - 조건문을 사용하고, 함수 자신을 호출하자.\n",
        "# def third(test_num):\n",
        "#   if test_num > 0:\n",
        "#     third(test_num-1)\n",
        "#   print(test_num)\n",
        "# third(test_num)\n",
        "\n",
        "\n",
        "# case 2 - for 반복문만 사용하자.\n",
        "# i = 0\n",
        "# for num in range(i,test_num+1):\n",
        "#   print(num)\n",
        "\n",
        "\n",
        "# 생각해보기 case 3 - for 반복문을 사용하고 함수 자신을 호출하자.(이 방법은 비효율적이다. 왜 비효율적일까?)\n",
        "# t = test_num\n",
        "# def third(test_num):\n",
        "#   i = 0\n",
        "#   for i in range(i,test_num+1):\n",
        "#     print(t-test_num)\n",
        "#     test_num = test_num - 1\n",
        "#     third(test_num)\n",
        "# third(test_num)"
      ],
      "execution_count": null,
      "outputs": []
    },
    {
      "cell_type": "markdown",
      "metadata": {
        "id": "osuKfKm33PHQ"
      },
      "source": [
        "- 앞으로 프로그래밍은 **입력, 조건, 반복, 출력**을 기반으로 학습을 진행합니다."
      ]
    },
    {
      "cell_type": "markdown",
      "metadata": {
        "id": "cpZEM1MlpHfl"
      },
      "source": [
        "## 파이썬 연산자 및 코드\n",
        "- (+)\t덧셈\n",
        "-\t(-) 뺄셈\n",
        "- (*)\t곱셈\n",
        "- (/)\t몫 구하기\n",
        "- (//)\t정수형 몫 구하기\n",
        "- (**)\t거듭제곱\n",
        "- (%)\t나머지 구하기"
      ]
    },
    {
      "cell_type": "code",
      "metadata": {
        "id": "qw19VxshpZ-B",
        "colab": {
          "base_uri": "https://localhost:8080/"
        },
        "outputId": "8cf7cb5f-25d8-46df-b874-eaa79aec9d44"
      },
      "source": [
        "# 기본 연산 \n",
        "print(30 + 6)\n",
        "print(40 - 4)\n",
        "print(6 * 6)\n",
        "print(72 / 5)\n",
        "print(72 // 5)\n",
        "print(6**2)\n",
        "print(36 % 34)"
      ],
      "execution_count": null,
      "outputs": [
        {
          "output_type": "stream",
          "text": [
            "36\n",
            "36\n",
            "36\n",
            "14.4\n",
            "14\n",
            "36\n",
            "2\n"
          ],
          "name": "stdout"
        }
      ]
    },
    {
      "cell_type": "markdown",
      "metadata": {
        "id": "QIgxXomn7iHC"
      },
      "source": [
        "- Values and Types(값과 타입)"
      ]
    },
    {
      "cell_type": "code",
      "metadata": {
        "id": "6z_Ba-wlpp6G",
        "colab": {
          "base_uri": "https://localhost:8080/"
        },
        "outputId": "624e1038-2d0e-4036-d0a2-43c1d1650c65"
      },
      "source": [
        "# 파이썬의 모든 자료형은 클래스로 구현되었기 때문에, 클래스 이름이 자료형이다.\n",
        "print(type(6))\n",
        "\n",
        "print(type(36.0))\n",
        "\n",
        "print(type('Hello, World!'))\n",
        "\n",
        "print(type(list()))"
      ],
      "execution_count": null,
      "outputs": [
        {
          "output_type": "stream",
          "text": [
            "<class 'int'>\n",
            "<class 'float'>\n",
            "<class 'str'>\n",
            "<class 'list'>\n"
          ],
          "name": "stdout"
        }
      ]
    },
    {
      "cell_type": "markdown",
      "metadata": {
        "id": "2-NxpMCr9WOS"
      },
      "source": [
        "- Variables, Expressions, and Statements(변수, 표현, 구문)"
      ]
    },
    {
      "cell_type": "code",
      "metadata": {
        "id": "luR-nvD99tBa",
        "colab": {
          "base_uri": "https://localhost:8080/"
        },
        "outputId": "b2ca4a5d-58fd-41ad-a269-a4738d5e5210"
      },
      "source": [
        "greeting = 'Good afternoon, sir!'\n",
        "print(greeting)\n",
        "x = 23\n",
        "print(x)\n",
        "pi = 3.141592653589793\n",
        "print(pi)"
      ],
      "execution_count": null,
      "outputs": [
        {
          "output_type": "stream",
          "text": [
            "Good afternoon, sir!\n",
            "23\n",
            "3.141592653589793\n"
          ],
          "name": "stdout"
        }
      ]
    },
    {
      "cell_type": "markdown",
      "metadata": {
        "id": "KldY4n7Mp3JN"
      },
      "source": [
        "- 에러를 만들고 상황을 파악하자, 그리고 해결하자 :\n",
        "\n"
      ]
    },
    {
      "cell_type": "code",
      "metadata": {
        "id": "NCqe4ViUp1Pj",
        "colab": {
          "base_uri": "https://localhost:8080/",
          "height": 129
        },
        "outputId": "30efdbec-db50-4f32-e9bf-50dbb88ef38f"
      },
      "source": [
        "# 케이스 1 - IndentationError\n",
        "\n",
        "def print_list(list):\n",
        "for item in list: # 에러 확인 및 해결필요\n",
        "print(item)"
      ],
      "execution_count": null,
      "outputs": [
        {
          "output_type": "error",
          "ename": "IndentationError",
          "evalue": "ignored",
          "traceback": [
            "\u001b[0;36m  File \u001b[0;32m\"<ipython-input-17-9e5bcc334641>\"\u001b[0;36m, line \u001b[0;32m4\u001b[0m\n\u001b[0;31m    for item in list: # 에러 확인 및 해결필요\u001b[0m\n\u001b[0m      ^\u001b[0m\n\u001b[0;31mIndentationError\u001b[0m\u001b[0;31m:\u001b[0m expected an indented block\n"
          ]
        }
      ]
    },
    {
      "cell_type": "code",
      "metadata": {
        "id": "4EBgyslj6PIs",
        "colab": {
          "base_uri": "https://localhost:8080/",
          "height": 129
        },
        "outputId": "5b79553f-2f47-4889-8ff1-7472839e9986"
      },
      "source": [
        "# 케이스 2 - SyntaxError\n",
        "\n",
        "123ddf"
      ],
      "execution_count": null,
      "outputs": [
        {
          "output_type": "error",
          "ename": "SyntaxError",
          "evalue": "ignored",
          "traceback": [
            "\u001b[0;36m  File \u001b[0;32m\"<ipython-input-20-4e3b401ad3b5>\"\u001b[0;36m, line \u001b[0;32m3\u001b[0m\n\u001b[0;31m    123ddf\u001b[0m\n\u001b[0m         ^\u001b[0m\n\u001b[0;31mSyntaxError\u001b[0m\u001b[0;31m:\u001b[0m invalid syntax\n"
          ]
        }
      ]
    },
    {
      "cell_type": "code",
      "metadata": {
        "id": "OHSDbH-G7erW"
      },
      "source": [
        "# 케이스 3 - KeyboardInterrupt\n",
        "\n",
        "while True:\n",
        "  pass"
      ],
      "execution_count": null,
      "outputs": []
    },
    {
      "cell_type": "code",
      "metadata": {
        "id": "8QvKfo_t9iVM"
      },
      "source": [
        "# 케이스 4 - TypeError\n",
        "\n",
        "print(1) / 232\n",
        "\n",
        "a,b = 0\n",
        "print(a,b)"
      ],
      "execution_count": null,
      "outputs": []
    },
    {
      "cell_type": "code",
      "metadata": {
        "id": "88BLOfCb-DC8",
        "colab": {
          "base_uri": "https://localhost:8080/",
          "height": 196
        },
        "outputId": "103dd078-d6e1-4f84-f2be-43aabdc7d877"
      },
      "source": [
        "# 케이스 5 - ZeroDivisionError\n",
        "\n",
        "value = 2/0"
      ],
      "execution_count": null,
      "outputs": [
        {
          "output_type": "error",
          "ename": "ZeroDivisionError",
          "evalue": "ignored",
          "traceback": [
            "\u001b[0;31m---------------------------------------------------------------------------\u001b[0m",
            "\u001b[0;31mZeroDivisionError\u001b[0m                         Traceback (most recent call last)",
            "\u001b[0;32m<ipython-input-25-3213cee69b6c>\u001b[0m in \u001b[0;36m<module>\u001b[0;34m()\u001b[0m\n\u001b[1;32m      1\u001b[0m \u001b[0;31m# 케이스 5 - ZeroDivisionError\u001b[0m\u001b[0;34m\u001b[0m\u001b[0;34m\u001b[0m\u001b[0;34m\u001b[0m\u001b[0m\n\u001b[1;32m      2\u001b[0m \u001b[0;34m\u001b[0m\u001b[0m\n\u001b[0;32m----> 3\u001b[0;31m \u001b[0mvalue\u001b[0m \u001b[0;34m=\u001b[0m \u001b[0;36m2\u001b[0m\u001b[0;34m/\u001b[0m\u001b[0;36m0\u001b[0m\u001b[0;34m\u001b[0m\u001b[0;34m\u001b[0m\u001b[0m\n\u001b[0m",
            "\u001b[0;31mZeroDivisionError\u001b[0m: division by zero"
          ]
        }
      ]
    },
    {
      "cell_type": "code",
      "metadata": {
        "id": "4D906b8D-KSp",
        "colab": {
          "base_uri": "https://localhost:8080/"
        },
        "outputId": "0d0b9bfd-e370-45dc-809a-912beb246f2a"
      },
      "source": [
        "# 케이스 6 - 경고\n",
        "\n",
        "a = 0\n",
        "c =0\n",
        "print(a,c,) # 에러는 보이지 않는 메모리 상에 안 좋은 영향을 준다."
      ],
      "execution_count": null,
      "outputs": [
        {
          "output_type": "stream",
          "text": [
            "0 0\n"
          ],
          "name": "stdout"
        }
      ]
    },
    {
      "cell_type": "markdown",
      "metadata": {
        "id": "k8YGJ8Wm1AG3"
      },
      "source": [
        "## 기본문법\n",
        "\n",
        "- 아래에서 설명되는 기본문법은 대부분의 컴퓨터 프로그래밍에서 기본적으로 활용될 수 있는 내용이다."
      ]
    },
    {
      "cell_type": "markdown",
      "metadata": {
        "id": "oTPRZsLvENgJ"
      },
      "source": [
        "### 주석(Comments)\n",
        "\n",
        "💡 생각하는 시간 : 협업과 재사용을 위함이다.\n",
        "\n",
        "- 주요 클래스, 함수의 기능과 변수에 대한 명명규칙, 소스코드 작성날짜 및 수정날짜를 위주로 작성하는 것을 권장한다.\n",
        "\n",
        "  - 공식적인 주석(외부제출용)인 경우, 구어체가 아닌 형태로  핵심적인 부분만 주석을 작성한다.\n",
        "  \n",
        "  - 내부공유용이거나 설명을 위한 소스코드인 경우, 재사용과 내용공유를 목적으로 하여 용어에 대한 풀이 및 이해 내용을 상세히 적는다.\n",
        "\n",
        "  "
      ]
    },
    {
      "cell_type": "code",
      "metadata": {
        "id": "-CMWcWSiD8aW"
      },
      "source": [
        "### 주석 케이스1. 원통의 표면 계산\n",
        "surface_area = (2 * pi * radius) * (height + radius)\n",
        "\n",
        "surface_area = (2 * pi * radius) * (height + radius) # 주석 케이스2. compute the surface area of a cylinder"
      ],
      "execution_count": null,
      "outputs": []
    },
    {
      "cell_type": "code",
      "metadata": {
        "id": "7fl7d6pJEWQ1",
        "colab": {
          "base_uri": "https://localhost:8080/",
          "height": 295
        },
        "outputId": "b7816508-96bf-4dfd-c78f-4752282d789a"
      },
      "source": [
        "# 실제 예시(외부에서 사용된 소스코드)\n",
        "\n",
        "import matplotlib.pyplot as plt # pyplot : interactive plots and simple cases\n",
        "\n",
        "# Look at index 4 and 6, which demonstrate overlapping cases.\n",
        "x1 = [1, 3, 4, 5, 6, 7, 9]\n",
        "y1 = [4, 7, 2, 4, 7, 8, 3]\n",
        "\n",
        "x2 = [2, 4, 6, 8, 10]\n",
        "y2 = [5, 6, 2, 6, 2]\n",
        "\n",
        "# Colors: https://matplotlib.org/api/colors_api.html, 외부 url 참조시\n",
        "\n",
        "plt.bar(x1, y1, label=\"Blue Bar\", color='b')\n",
        "plt.bar(x2, y2, label=\"Green Bar\", color='g')\n",
        "plt.plot()  # 시각화 1단계\n",
        "\n",
        "plt.xlabel(\"bar number\")\n",
        "plt.ylabel(\"bar height\")\n",
        "plt.title(\"Bar Chart Example\")\n",
        "plt.legend() # 시각화 2단계 - 범례 추가\n",
        "plt.show()  # 시각화 3단계 - 그림형태로 표시"
      ],
      "execution_count": null,
      "outputs": [
        {
          "output_type": "display_data",
          "data": {
            "image/png": "[encoded data removed]",
            "text/plain": [
              "<Figure size 432x288 with 1 Axes>"
            ]
          },
          "metadata": {
            "tags": [],
            "needs_background": "light"
          }
        }
      ]
    },
    {
      "cell_type": "markdown",
      "metadata": {
        "id": "U38aOM6nEWOe"
      },
      "source": [
        "### 함수호출(Function Calls) 및 생성\n",
        "\n",
        "- 함수호출을 하는 이유는 여러가지 기능을 연결해서 독립적으로 활용하기 위함\n",
        "  - 예를 들어, 계산기를 만드는 경우 사칙연산 기능 각각을 함수로 하게 되면 독립적으로 호출 가능하다.\n",
        "\n"
      ]
    },
    {
      "cell_type": "code",
      "metadata": {
        "id": "0PjGBPPjwVzj",
        "colab": {
          "base_uri": "https://localhost:8080/"
        },
        "outputId": "0a180eca-00e1-45e0-a65e-154188e9b8cf"
      },
      "source": [
        "# 예시\n",
        "def tri_recursion(k):\n",
        "  if(k > 0):\n",
        "    result = k + tri_recursion(k - 1)\n",
        "    print(result)\n",
        "  else:\n",
        "    result = 0\n",
        "  return result\n",
        "\n",
        "print(\"\\n\\nRecursion Example Results\")\n",
        "tri_recursion(6)"
      ],
      "execution_count": null,
      "outputs": [
        {
          "output_type": "stream",
          "text": [
            "\n",
            "\n",
            "Recursion Example Results\n",
            "1\n",
            "3\n",
            "6\n",
            "10\n",
            "15\n",
            "21\n"
          ],
          "name": "stdout"
        },
        {
          "output_type": "execute_result",
          "data": {
            "text/plain": [
              "21"
            ]
          },
          "metadata": {
            "tags": []
          },
          "execution_count": 28
        }
      ]
    },
    {
      "cell_type": "markdown",
      "metadata": {
        "id": "R8KI_6WZ1LfX"
      },
      "source": [
        "- 함수에서는 반환문이 존재한다.(return 기능)\n",
        "\n",
        "  - 함수에 따라 return 값이 달라진다.\n",
        "\n",
        "  - 조건문과 함께 쓰이는 경우 유용하게 쓰인다.\n",
        "\n",
        "  - return 되는 순간 해당 기능은 종료된다.\n"
      ]
    },
    {
      "cell_type": "code",
      "metadata": {
        "id": "ITw5OnFX2-gG",
        "colab": {
          "base_uri": "https://localhost:8080/",
          "height": 146
        },
        "outputId": "ac9aa377-2c05-4f99-a7cc-07e4eb7f02c6"
      },
      "source": [
        "# return에 대한 예시1\n",
        "# 아래처럼 함수가 없는 경우 return이 가능할까? 안된다면 어떠한 기능으로 처리할까?\n",
        "\n",
        "n = int(input())\n",
        "while True:\n",
        "  if n%3 == 0:\n",
        "    print('return 3 before return')\n",
        "    return 3\n",
        "    print('return 3 after return')\n",
        "\n",
        "  elif n%5 == 0:\n",
        "    print('return 5')\n",
        "    return 5\n",
        "  else:\n",
        "    print('return')\n",
        "    return "
      ],
      "execution_count": null,
      "outputs": [
        {
          "output_type": "stream",
          "text": [
            "3\n"
          ],
          "name": "stdout"
        },
        {
          "output_type": "error",
          "ename": "SyntaxError",
          "evalue": "ignored",
          "traceback": [
            "\u001b[0;36m  File \u001b[0;32m\"<ipython-input-30-f9c1e67f8c46>\"\u001b[0;36m, line \u001b[0;32m8\u001b[0m\n\u001b[0;31m    return 3\u001b[0m\n\u001b[0m    ^\u001b[0m\n\u001b[0;31mSyntaxError\u001b[0m\u001b[0;31m:\u001b[0m 'return' outside function\n"
          ]
        }
      ]
    },
    {
      "cell_type": "code",
      "metadata": {
        "id": "wTzG7zW41Vo_"
      },
      "source": [
        "# return에 대한 예시2\n",
        "\n",
        "n = int(input())\n",
        "def func_test():\n",
        "  while 1: # 0은 false, 1 true\n",
        "    if n%3 == 0:\n",
        "      print('return 3 before return')\n",
        "      return 3\n",
        "      print('return 3 after return')\n",
        "\n",
        "    elif n%5 == 0:\n",
        "      print('return 5')\n",
        "      return 5\n",
        "    else:\n",
        "      print('return')\n",
        "      return \n",
        "\n",
        "# case 1\n",
        "#func_test()\n",
        "\n",
        "# case 2\n",
        "if __name__ == \"__main__\":\n",
        "  func_test()"
      ],
      "execution_count": null,
      "outputs": []
    },
    {
      "cell_type": "markdown",
      "metadata": {
        "id": "btAnaKJMWUux"
      },
      "source": [
        "🔍 자세히보기 : 함수에는 parameter와 argument를 활용할 수 있다.\n",
        "\n",
        "  - parameter : 선언되는 변수\n",
        "\n",
        "  - argument : 전달되는 값\n",
        "\n",
        "  - 코드로 그 차이점을 익혀보자."
      ]
    },
    {
      "cell_type": "code",
      "metadata": {
        "id": "lIm4x-inWbYT"
      },
      "source": [
        "def func_test(num):   # 함수를 정의할 때는 parameter\n",
        "  print(num)\n",
        "  return num\n",
        "\n",
        "func_test(5)          # 값을 활용해 함수를 호출할 때는 argument"
      ],
      "execution_count": null,
      "outputs": []
    },
    {
      "cell_type": "markdown",
      "metadata": {
        "id": "D_uEyDatYiVZ"
      },
      "source": [
        "🔍 자세히보기 : 함수에서 print와 return을 같이 사용했다.\n",
        "\n",
        "  - 차이점을 알아보자.\n",
        "\n",
        "  - print() : **'출력'** 자체에 비중을 두고 있고, 함수와 프로그램 자체에 중요한 기능은 아니다.\n",
        "\n",
        "  - return : 값을 **'반환'** 해주는 개념으로 어떤 값을 반환하냐에 따라 프로그램에 영향을 줄 수 있다."
      ]
    },
    {
      "cell_type": "code",
      "metadata": {
        "id": "dYywiv1cYrfq",
        "colab": {
          "base_uri": "https://localhost:8080/",
          "height": 35
        },
        "outputId": "d633765e-496c-4c6e-8e7f-4ea24690bcab"
      },
      "source": [
        "# 아래에서는 간단히 출력되는 값의 차이를 볼 수 있다.\n",
        "def printtest(printtest):\n",
        "  test = 'test'\n",
        "  #print('test')   # def print <built-in function print>\n",
        "  return test    # parameter와 argument에 따라 return되는 값이 다르다.\n",
        "\n",
        "printtest(printtest)"
      ],
      "execution_count": null,
      "outputs": [
        {
          "output_type": "execute_result",
          "data": {
            "application/vnd.google.colaboratory.intrinsic+json": {
              "type": "string"
            },
            "text/plain": [
              "'test'"
            ]
          },
          "metadata": {
            "tags": []
          },
          "execution_count": 43
        }
      ]
    },
    {
      "cell_type": "code",
      "metadata": {
        "id": "B7ASupnYZe65",
        "colab": {
          "base_uri": "https://localhost:8080/"
        },
        "outputId": "54def043-1669-4ff5-d30a-abb737f0dd87"
      },
      "source": [
        "# return이 없는경우를 보자.\n",
        "\n",
        "def no_return(number):\n",
        "  #print(number * 5)\n",
        "  return number * 5\n",
        "\n",
        "print(no_return(1))   # return이 없는 경우 'None'을 반환"
      ],
      "execution_count": null,
      "outputs": [
        {
          "output_type": "stream",
          "text": [
            "5\n"
          ],
          "name": "stdout"
        }
      ]
    },
    {
      "cell_type": "markdown",
      "metadata": {
        "id": "Y7PvcnrbZ1BI"
      },
      "source": [
        "- 위의 내용을 왜 알아야 할까?\n",
        "\n",
        "  - 함수의 기능에 따라 값을 전달해줘야 하는 경우가 있는데 꼭 필요하지 않은 경우는 print로 처리할 수 있다.\n",
        "\n",
        "  - 대부분 실무에서는 특정 값을 선언하고, 전달받은 값에 따라 처리하는 로직으로 프로그래밍하는 것을 권장한다.\n",
        "\n",
        "  - **전달하는 값(argument)이 있다면 반드시 return을 명시해주자.**"
      ]
    },
    {
      "cell_type": "markdown",
      "metadata": {
        "id": "yXyRiuIdFmGU"
      },
      "source": [
        "### 반복문(for, while)\n",
        "\n",
        "- 반복문 문법 : '**[for / 생성되는 신규변수 또는 입력변수 / in range() 또는 컬렉션변수 / :]**'\n",
        "\n",
        "- 범위 경계 테스트를 반드시 한다.\n",
        "  - 예를 들어 range(4)로 지정했으면 print해서 값이 어떻게 나오는지 확인한다.\n",
        "- 실무 측면에서 while문은 조건을 많이 둘 수 없기 때문에 for문을 선호한다.\n",
        "  - while문과 for문의 특징에 대해서 생각해본다.\n",
        "\n",
        "\n"
      ]
    },
    {
      "cell_type": "code",
      "metadata": {
        "id": "3vfFEMG6hJ4z",
        "colab": {
          "base_uri": "https://localhost:8080/"
        },
        "outputId": "c1c994d2-635a-402d-88e6-162dc7bfd9fe"
      },
      "source": [
        "### 입력변수\n",
        "\n",
        "y = int(input())\n",
        "for y in range(y,5):\n",
        "    print(y)"
      ],
      "execution_count": null,
      "outputs": [
        {
          "output_type": "stream",
          "text": [
            "3\n",
            "3\n",
            "4\n"
          ],
          "name": "stdout"
        }
      ]
    },
    {
      "cell_type": "code",
      "metadata": {
        "id": "-2e0MuwjAB3C",
        "colab": {
          "base_uri": "https://localhost:8080/"
        },
        "outputId": "e671d152-6d87-4760-8d52-6181b98c3cf7"
      },
      "source": [
        "### 리스트변수\n",
        "y = [1,3,5]\n",
        "for i in y:   # y in y인 경우 값이 어떻게 될까?\n",
        "    print(y)"
      ],
      "execution_count": null,
      "outputs": [
        {
          "output_type": "stream",
          "text": [
            "[1, 3, 5]\n",
            "[1, 3, 5]\n",
            "[1, 3, 5]\n"
          ],
          "name": "stdout"
        }
      ]
    },
    {
      "cell_type": "code",
      "metadata": {
        "id": "XFzcebBBARJf",
        "colab": {
          "base_uri": "https://localhost:8080/"
        },
        "outputId": "9d955b7b-a9f8-4868-b4e0-47ec2cf9c93c"
      },
      "source": [
        "### set변수\n",
        "y = {1,3,5}\n",
        "for i in y:   # y in y인 경우 값이 어떻게 될까?\n",
        "    print(y)"
      ],
      "execution_count": null,
      "outputs": [
        {
          "output_type": "stream",
          "text": [
            "{1, 3, 5}\n",
            "{1, 3, 5}\n",
            "{1, 3, 5}\n"
          ],
          "name": "stdout"
        }
      ]
    },
    {
      "cell_type": "code",
      "metadata": {
        "id": "mKbe8YePAcUX",
        "colab": {
          "base_uri": "https://localhost:8080/"
        },
        "outputId": "73a292b5-5e38-4d93-ad03-6e62f09cc441"
      },
      "source": [
        "### 튜플변수\n",
        "y = (1,3,3)\n",
        "for i in y:   # y in y인 경우 값이 어떻게 될까?\n",
        "    print(y)"
      ],
      "execution_count": null,
      "outputs": [
        {
          "output_type": "stream",
          "text": [
            "(1, 3, 3)\n",
            "(1, 3, 3)\n",
            "(1, 3, 3)\n"
          ],
          "name": "stdout"
        }
      ]
    },
    {
      "cell_type": "code",
      "metadata": {
        "id": "Yyo3lDl7AmTq",
        "colab": {
          "base_uri": "https://localhost:8080/"
        },
        "outputId": "5acf90bf-3f34-4012-9859-3312da7f7678"
      },
      "source": [
        "### 딕셔너리변수\n",
        "y = {'a':1,'b':3,'c':3}\n",
        "for i in y:   # y in y인 경우 값이 어떻게 될까?\n",
        "    print(y)"
      ],
      "execution_count": null,
      "outputs": [
        {
          "output_type": "stream",
          "text": [
            "{'a': 1, 'b': 3, 'c': 3}\n",
            "{'a': 1, 'b': 3, 'c': 3}\n",
            "{'a': 1, 'b': 3, 'c': 3}\n"
          ],
          "name": "stdout"
        }
      ]
    },
    {
      "cell_type": "code",
      "metadata": {
        "id": "QU4nkwnPGz4A",
        "colab": {
          "base_uri": "https://localhost:8080/"
        },
        "outputId": "21900e41-9069-4bc7-b872-0755d47b53b4"
      },
      "source": [
        "### 신규변수 x\n",
        "\n",
        "for x in range(5):\n",
        "    print(x)\n",
        "\n",
        "for x in range(2, 7):\n",
        "    print(x)\n",
        "\n",
        "for x in range(1, 8, 2):\n",
        "    print(x)"
      ],
      "execution_count": null,
      "outputs": [
        {
          "output_type": "stream",
          "text": [
            "0\n",
            "1\n",
            "2\n",
            "3\n",
            "4\n",
            "2\n",
            "3\n",
            "4\n",
            "5\n",
            "6\n",
            "1\n",
            "3\n",
            "5\n",
            "7\n"
          ],
          "name": "stdout"
        }
      ]
    },
    {
      "cell_type": "code",
      "metadata": {
        "id": "IBuoD6sPuli1",
        "colab": {
          "base_uri": "https://localhost:8080/"
        },
        "outputId": "d66959ab-db80-4854-92aa-a7bb90b52d4f"
      },
      "source": [
        "# while을 사용하는 경우 \n",
        "\n",
        "count = 0\n",
        "while count < 5:\n",
        "    print(count)\n",
        "    count += 1\n",
        "\n",
        "count = 2\n",
        "while count < 7:\n",
        "    print(count)\n",
        "    count += 1\n",
        "\n",
        "count = 1\n",
        "while count < 8:\n",
        "    print(count)\n",
        "    count += 2"
      ],
      "execution_count": null,
      "outputs": [
        {
          "output_type": "stream",
          "text": [
            "0\n",
            "1\n",
            "2\n",
            "3\n",
            "4\n",
            "2\n",
            "3\n",
            "4\n",
            "5\n",
            "6\n",
            "1\n",
            "3\n",
            "5\n",
            "7\n"
          ],
          "name": "stdout"
        }
      ]
    },
    {
      "cell_type": "markdown",
      "metadata": {
        "id": "ifFOohI13Eof"
      },
      "source": [
        "- break 기능"
      ]
    },
    {
      "cell_type": "code",
      "metadata": {
        "id": "1TIQFxGV3KkB",
        "colab": {
          "base_uri": "https://localhost:8080/"
        },
        "outputId": "39256b64-ecd7-4921-c1b9-c83d8ff8414b"
      },
      "source": [
        "### Prints 0, 1, 2, 3, 4\n",
        "count = 0\n",
        "while True:\n",
        "    print(count)\n",
        "    count += 1\n",
        "    if count >= 5:\n",
        "        break   # 조건에 맞는 경우 break을 통해 조건문과 반복문에서 탈출."
      ],
      "execution_count": null,
      "outputs": [
        {
          "output_type": "stream",
          "text": [
            "0\n",
            "1\n",
            "2\n",
            "3\n",
            "4\n"
          ],
          "name": "stdout"
        }
      ]
    },
    {
      "cell_type": "code",
      "metadata": {
        "id": "2fxFafP_vgEq",
        "colab": {
          "base_uri": "https://localhost:8080/"
        },
        "outputId": "f59365bf-3b82-4ca5-d98b-cbf5c9d4cf8a"
      },
      "source": [
        "# 클래스, 함수 break test\n",
        "class break_test:\n",
        "  print(\"class\")\n",
        "\n",
        "  def break_def_test():\n",
        "    print(\"func\")\n",
        "    \n",
        "    while True:\n",
        "      print('while')\n",
        "      break\n",
        "\n",
        "b = break_test\n",
        "b.break_def_test()\n",
        "print(\"1\")"
      ],
      "execution_count": null,
      "outputs": [
        {
          "output_type": "stream",
          "text": [
            "class\n",
            "func\n",
            "while\n",
            "1\n"
          ],
          "name": "stdout"
        }
      ]
    },
    {
      "cell_type": "code",
      "metadata": {
        "id": "_VAzLqtg52qe",
        "colab": {
          "base_uri": "https://localhost:8080/"
        },
        "outputId": "b98f853d-8d51-450a-88e1-070e28b679fb"
      },
      "source": [
        "# 함수 break test\n",
        "def break_func_test():\n",
        "    print(\"func\")\n",
        "    \n",
        "    while 1:\n",
        "      print('while')\n",
        "      break\n",
        "\n",
        "break_func_test()\n",
        "print('1')"
      ],
      "execution_count": null,
      "outputs": [
        {
          "output_type": "stream",
          "text": [
            "func\n",
            "while\n",
            "1\n"
          ],
          "name": "stdout"
        }
      ]
    },
    {
      "cell_type": "markdown",
      "metadata": {
        "id": "R7aKSS743RJi"
      },
      "source": [
        "- continue 기능"
      ]
    },
    {
      "cell_type": "code",
      "metadata": {
        "id": "4WV8gN2M3OpF",
        "colab": {
          "base_uri": "https://localhost:8080/"
        },
        "outputId": "1a6ff29f-847e-4122-e07a-0d9d3c7533d3"
      },
      "source": [
        "### Prints 1, 3, 5, 7\n",
        "for x in range(8):\n",
        "    # x를 2로 나눴을때 나머지가 0이면(조건문 == 참), x값은 그대로 (+)하면서 반복문부터 재시작.\n",
        "    if x % 2 == 0:\n",
        "        continue\n",
        "    print(x)"
      ],
      "execution_count": null,
      "outputs": [
        {
          "output_type": "stream",
          "text": [
            "1\n",
            "3\n",
            "5\n",
            "7\n"
          ],
          "name": "stdout"
        }
      ]
    },
    {
      "cell_type": "markdown",
      "metadata": {
        "id": "17PV3bEtz449"
      },
      "source": [
        "### 연산자 / 조건문 / 중첩조건\n",
        "\n",
        "\n"
      ]
    },
    {
      "cell_type": "markdown",
      "metadata": {
        "id": "75lbOTf3-csq"
      },
      "source": [
        "#### Boolean Expressions(부울식)\n"
      ]
    },
    {
      "cell_type": "code",
      "metadata": {
        "id": "_dL8nGeN-eiH"
      },
      "source": [
        "print(2 != 2) #\n",
        "\n",
        "print(4 == 8) #\n",
        "\n",
        "print(type(True)) #\n",
        "\n",
        "print(type(False)) #\n"
      ],
      "execution_count": null,
      "outputs": []
    },
    {
      "cell_type": "markdown",
      "metadata": {
        "id": "uvVBy4GXrt0E"
      },
      "source": [
        "#### Logical Operators(논리 연산자)\n",
        "\n"
      ]
    },
    {
      "cell_type": "code",
      "metadata": {
        "id": "1U8KD1v8r3NF",
        "colab": {
          "base_uri": "https://localhost:8080/"
        },
        "outputId": "f8de1bd0-1260-4947-917a-8228e0484efc"
      },
      "source": [
        "print(True and True)  #\n",
        "\n",
        "print(True and False) #\n",
        "\n",
        "print(False and False) #\n",
        "\n",
        "print(True or False) #\n",
        "\n",
        "print(True or True) #\n",
        "\n",
        "print(True or False) #\n",
        "\n",
        "print(False or False) #\n",
        "\n",
        "print(not True) #\n",
        "\n",
        "print(not False) #"
      ],
      "execution_count": null,
      "outputs": [
        {
          "output_type": "stream",
          "text": [
            "True\n",
            "False\n",
            "False\n",
            "True\n",
            "True\n",
            "True\n",
            "False\n",
            "False\n",
            "True\n"
          ],
          "name": "stdout"
        }
      ]
    },
    {
      "cell_type": "markdown",
      "metadata": {
        "id": "htfbxREFr6HO"
      },
      "source": [
        "#### Conditional Execution(조건 연산자)\n",
        "\n",
        "- 조건에 따라 예외값 체크와 같은 프로그래밍 습관이 중요하다.\n"
      ]
    },
    {
      "cell_type": "code",
      "metadata": {
        "id": "XSHirs3zr8m1"
      },
      "source": [
        "x = -4\n",
        "\n",
        "if x < 0:\n",
        "    print('x is negative') #"
      ],
      "execution_count": null,
      "outputs": []
    },
    {
      "cell_type": "markdown",
      "metadata": {
        "id": "jPLuGbfOsBIK"
      },
      "source": [
        "#### Chained Conditionals(다중 조건문)\n",
        "\n",
        "- 조건을 여러개 구분짓는 경우\n"
      ]
    },
    {
      "cell_type": "code",
      "metadata": {
        "id": "JEcJpd_AsDpC"
      },
      "source": [
        "x = 2\n",
        "y = -3\n",
        "\n",
        "if x < y:\n",
        "    print('x is less than y')\n",
        "elif x > y:\n",
        "    print('x is greater than y')\n",
        "else:\n",
        "    print('x and y are equal')"
      ],
      "execution_count": null,
      "outputs": []
    },
    {
      "cell_type": "markdown",
      "metadata": {
        "id": "pTj6kSiRsGV_"
      },
      "source": [
        "#### Nested Conditionals(중첩조건)\n",
        "\n",
        "- 하나의 조건 안에 또 다른 조건을 거는 경우(조건 안에 조건)\n"
      ]
    },
    {
      "cell_type": "code",
      "metadata": {
        "id": "_uRKHeYEsItV",
        "colab": {
          "base_uri": "https://localhost:8080/"
        },
        "outputId": "975c949d-8701-40d2-9138-cfc2c9bf29d4"
      },
      "source": [
        "x, y = 3, 5\n",
        "\n",
        "if x == y:\n",
        "    print('x and y are equal')\n",
        "else:\n",
        "    if x < y:\n",
        "        print('x is less than y')\n",
        "    else: \n",
        "        print('x is greater than y')"
      ],
      "execution_count": null,
      "outputs": [
        {
          "output_type": "stream",
          "text": [
            "x is less than y\n"
          ],
          "name": "stdout"
        }
      ]
    },
    {
      "cell_type": "markdown",
      "metadata": {
        "id": "dbvJaFJIT4ZT"
      },
      "source": [
        "- 연산자 우선순위에 대한 참고자료 : \n",
        "  \n",
        "  - https://docs.python.org/ko/3/reference/expressions.html#operator-precedence\n",
        "\n",
        "  - https://humahumahuma.tistory.com/5\n",
        "  \n",
        "  - https://blog.munilive.com/posts/python-operator-precedence-table.html"
      ]
    },
    {
      "cell_type": "markdown",
      "metadata": {
        "id": "YsL2Qr1nJeZT"
      },
      "source": [
        "## 다양한 메소드(내장함수)"
      ]
    },
    {
      "cell_type": "markdown",
      "metadata": {
        "id": "XvJKbpRsJhSj"
      },
      "source": [
        "- 파이썬의 경우 자체적으로 상황에 따라 다양한 내장함수를 제공한다.\n",
        "\n",
        "  - 프로그래밍 언어를 활용함에 있어서 중요한 것 중 하나는 간결함과 가독성이다.\n",
        "\n",
        "  - 간결함과 가독성을 위해 파이썬에서는 내장함수를 제공한다.\n",
        "\n",
        "  - 잘 만들어진 내장함수를 적재적소에 활용하는 것이 중요하다.\n",
        "\n",
        "  - 문자열 자료형에서 제공하는 메소드의 경우, 컬렉션 자료형(리스트, 튜플, 셋, 딕셔너리)과 함께 사용할 수 있는 경우도 있다.\n",
        "\n",
        "  - 참조\n",
        "  \n",
        "    - https://docs.python.org/ko/3/library/stdtypes.html?highlight=upper#string-methods\n",
        "\n",
        "    - https://wikidocs.net/13"
      ]
    },
    {
      "cell_type": "code",
      "metadata": {
        "id": "I9TDXJOKKWis",
        "colab": {
          "base_uri": "https://localhost:8080/"
        },
        "outputId": "4a5dda19-f7ae-4409-da12-3481c47bfccd"
      },
      "source": [
        "# 특정 문자의 위치 알려주기\n",
        "# str.find(검색할 문자, 검색시작인덱스, 검색종료인덱스)\n",
        "\n",
        "# 문자열 중 찾으려는 문자가 처음으로 나온 인덱스(위치)를 반환한다. \n",
        "# 만약 찾는 문자나 문자열이 존재하지 않는다면 -1(마지막 인덱스)을 반환한다.\n",
        "\n",
        "print('Py' in 'Python') # 찾으려는 문자가 해당 문자열에 있는지에 따라 True/False 반환\n",
        "\n",
        "str_find = \"Python with ABCD\" # 리스트의 형태로써 인덱스는 0부터 시작한다.\n",
        "\n",
        "print(str_find.find('b'))\n",
        "print(str_find.find('B'))\n",
        "print(str_find.find('k'))\n",
        "print(str_find.find('w'))\n",
        "print(str_find.find('w',0))\n",
        "print(str_find.find('w',7,-1)) \n",
        "print(str_find.find('w', 8,12))"
      ],
      "execution_count": null,
      "outputs": [
        {
          "output_type": "stream",
          "text": [
            "True\n",
            "-1\n",
            "13\n",
            "-1\n",
            "7\n",
            "7\n",
            "7\n",
            "-1\n"
          ],
          "name": "stdout"
        }
      ]
    },
    {
      "cell_type": "code",
      "metadata": {
        "id": "EkV3tzn2EJlT"
      },
      "source": [
        "str_find = \"Python with ABCD\"\n",
        "str_find[-1]"
      ],
      "execution_count": null,
      "outputs": []
    },
    {
      "cell_type": "code",
      "metadata": {
        "id": "PvmZh5BXNbEu",
        "colab": {
          "base_uri": "https://localhost:8080/"
        },
        "outputId": "25acfc57-57e6-44fe-fa2b-9a3ac16633a0"
      },
      "source": [
        "# index 메소드를 사용해보자.\n",
        "# find와 비슷하지만 찾는 문자가 없으면, 에러를 발생시킨다.\n",
        "\n",
        "str_index = \"Python with ABCD\" # 인덱스는 0부터 시작한다.\n",
        "\n",
        "print(str_find.index('P'))\n",
        "# print(str_find.index('b')) # error"
      ],
      "execution_count": null,
      "outputs": [
        {
          "output_type": "stream",
          "text": [
            "0\n"
          ],
          "name": "stdout"
        }
      ]
    },
    {
      "cell_type": "code",
      "metadata": {
        "id": "gXTautlAPYdK"
      },
      "source": [
        "# SQRT\n",
        "# 특정 숫자의 제곱근을 반환한다.\n",
        "\n",
        "import math\n",
        "\n",
        "x = 2 \n",
        "print(math.sqrt(x))\n",
        "print(math.sqrt(100))"
      ],
      "execution_count": null,
      "outputs": []
    },
    {
      "cell_type": "code",
      "metadata": {
        "id": "B4EiVYatQd9U",
        "colab": {
          "base_uri": "https://localhost:8080/"
        },
        "outputId": "a6f6520b-43db-4fed-bb2c-8304133722b5"
      },
      "source": [
        "# upper, lower\n",
        "\n",
        "print('hello world'.upper())\n",
        "print('hello world'.lower())"
      ],
      "execution_count": null,
      "outputs": [
        {
          "output_type": "stream",
          "text": [
            "HELLO WORLD\n",
            "hello world\n"
          ],
          "name": "stdout"
        }
      ]
    },
    {
      "cell_type": "markdown",
      "metadata": {
        "id": "xTz5WPngz5BA"
      },
      "source": [
        "## 컬렉션 자료형(리스트, 튜플, 셋, 딕셔너리)\n",
        "\n"
      ]
    },
    {
      "cell_type": "markdown",
      "metadata": {
        "id": "j-8YOGkN7Yy5"
      },
      "source": [
        "<img src='https://github.com/Maiven/data-science/blob/main/python_datatype.png?raw=true' width = '800'>"
      ]
    },
    {
      "cell_type": "markdown",
      "metadata": {
        "id": "rUL61OCE06Dd"
      },
      "source": [
        "### 컬렉션의 필요성\n",
        "\n",
        "- 컬렉션 자료형의 특징에 따라 리스트, 튜플, 셋, 딕셔너리로 구분된다.\n",
        "\n",
        "#### 기본 자료형과의 차이점\n",
        "\n",
        "- 기본 자료형(문자열, 숫자, bool) 등은 **특정 하나의 값**을 사용한다.\n",
        "- 컬렉션은 말 그대로 **여러 개의 값을 저장**할 수 있음\n",
        "\n"
      ]
    },
    {
      "cell_type": "markdown",
      "metadata": {
        "id": "9s42XuCqBN86"
      },
      "source": [
        "### 리스트\n",
        "\n",
        "- 컬렉션 자료형에서 가장 많이 쓰이는 자료형이다.\n",
        "\n",
        "  - 인덱스와 메소드를 활용하기때문에 동적으로 **값의 수정 및 정렬**이 쉽다.\n",
        "\n",
        "- 기본적으로 리스트 만드는 법은 대괄호를 활용하는 것이다.   ex) [ and ]\n",
        "\n",
        "- **리스트는 동적**이다.\n",
        "\n",
        "  - 동적이라 함은 메소드를 사용해 값을 추가하거나 제거가능\n",
        "\n",
        "    - 리스트를 활용하는 경우를 예를 들면, 비행기게임을 만드는데 **리스트에 비행기를 저장**하고, 적군에게 맞으면 **리스트에서 비행기를 삭제**하는 방법을 사용할 수 있다.\n",
        "\n",
        "- 튜플과의 차이점 : 리스트는 메소드를 활용하여 값 수정가능.\n",
        "\n",
        "- 딕셔너리와 차이점 : **인덱스를 기반**으로 값을 저장하고 수정할 수 있다.\n",
        "  \n",
        "\n"
      ]
    },
    {
      "cell_type": "markdown",
      "metadata": {
        "id": "_-eSeNSbKZF1"
      },
      "source": [
        "- 파이썬 리스트는 탐색, 삽입, 삭제와 같은 **연산에 대한 메소드**를 갖고 있으므로 단순 자료형이 아닌 **자료구조의 형태**를 취한다.\n",
        "\n",
        "- 리스트는 프로그래밍에서 기본적으로 사용되는 값을 여러개 저장할 수 있는 기능인 **배열의 기능** 또한 갖고 있다."
      ]
    },
    {
      "cell_type": "code",
      "metadata": {
        "id": "91Pw2zgkBHlg"
      },
      "source": [
        "[2, 4, 6, 8, 10]\n",
        "['red', 'orange', 'yellow', 'green', 'blue', 'indigo', 'violet']"
      ],
      "execution_count": null,
      "outputs": []
    },
    {
      "cell_type": "markdown",
      "metadata": {
        "id": "WFjxQTsA2HzC"
      },
      "source": [
        "- 아래와 같이 **하나의 리스트에 문자열, 숫자 타입 모두** 넣을 수 있다.\n",
        "  - 리스트안에 리스트를 넣을 수 있다.(다차원 리스트)\n",
        "  - 다차원 리스트는 게임개발, 대규모 머신러닝 알고리즘에서 사용된다."
      ]
    },
    {
      "cell_type": "code",
      "metadata": {
        "id": "D78mOhO72IgL"
      },
      "source": [
        "[2, 'four', 6.0, '8', [5, 5]]"
      ],
      "execution_count": null,
      "outputs": []
    },
    {
      "cell_type": "markdown",
      "metadata": {
        "id": "9UW-MLzP2R6x"
      },
      "source": [
        "- 아래와 같이 리스트를 생성하고 특정 변수에 저장할 수 있다 :\n",
        "\n"
      ]
    },
    {
      "cell_type": "code",
      "metadata": {
        "id": "5DoMoIzv2OkW",
        "colab": {
          "base_uri": "https://localhost:8080/"
        },
        "outputId": "7c17071f-6855-431d-c9f4-28065fc29a1d"
      },
      "source": [
        "cheeses = ['Cheddar', 'Edam', 'Gouda']\n",
        "numbers = [123, 456]\n",
        "\n",
        "empty = []\n",
        "print(cheeses, numbers, empty)\n",
        "print('numbers[1] :',numbers[1])\n",
        "print('numbers[0] :',numbers[0])\n",
        "print('numbers :',numbers)"
      ],
      "execution_count": null,
      "outputs": [
        {
          "output_type": "stream",
          "text": [
            "['Cheddar', 'Edam', 'Gouda'] [123, 456] []\n",
            "numbers[1] : 456\n",
            "numbers[0] : 123\n",
            "numbers : [123, 456]\n"
          ],
          "name": "stdout"
        }
      ]
    },
    {
      "cell_type": "code",
      "metadata": {
        "id": "uDgCjvb22ULp",
        "colab": {
          "base_uri": "https://localhost:8080/"
        },
        "outputId": "aba0cfe0-1926-4941-eec5-63e1317a536f"
      },
      "source": [
        "print(cheeses[0])\n",
        "\n",
        "numbers[1]\n",
        "\n",
        "numbers[1] = 789\n",
        "\n",
        "print(numbers)"
      ],
      "execution_count": null,
      "outputs": [
        {
          "output_type": "stream",
          "text": [
            "Cheddar\n",
            "[123, 789]\n"
          ],
          "name": "stdout"
        }
      ]
    },
    {
      "cell_type": "markdown",
      "metadata": {
        "id": "6t4YBtEA3HwB"
      },
      "source": [
        "#### 리스트 메소드\n",
        "\n",
        "- append()\n",
        "  - 리스트 마지막에 새로운 값 추가\n",
        "\n",
        "\n",
        "\n",
        "\n"
      ]
    },
    {
      "cell_type": "code",
      "metadata": {
        "id": "dfopk8wO3S-o",
        "colab": {
          "base_uri": "https://localhost:8080/"
        },
        "outputId": "e961862e-73f1-4683-9edc-98dffd7e62d4"
      },
      "source": [
        "arr = ['math', 'biology', 1989, 2019]\n",
        "arr.append(2021)\n",
        "arr"
      ],
      "execution_count": null,
      "outputs": [
        {
          "output_type": "execute_result",
          "data": {
            "text/plain": [
              "['math', 'biology', 1989, 2019, 2021]"
            ]
          },
          "metadata": {
            "tags": []
          },
          "execution_count": 78
        }
      ]
    },
    {
      "cell_type": "markdown",
      "metadata": {
        "id": "Lx6BiaLYeCny"
      },
      "source": [
        "- append()와 math 모듈을 활용한 문자열 처리해보기"
      ]
    },
    {
      "cell_type": "code",
      "metadata": {
        "id": "C7_q7Bu9akaq",
        "colab": {
          "base_uri": "https://localhost:8080/"
        },
        "outputId": "fb776ac0-8f58-4eb7-bd90-dc85b9a67447"
      },
      "source": [
        "import math\n",
        "\n",
        "center = 10\n",
        "height = 20\n",
        "\n",
        "value = []\n",
        "\n",
        "# 문자열값을 입력받음\n",
        "items=[string for string in input().split(',')]\n",
        "\n",
        "# element = 1부터 시작함\n",
        "for element in items:\n",
        "    value.append(\n",
        "        str(\n",
        "            int(\n",
        "                round(\n",
        "                    math.sqrt(\n",
        "                        2 * center * float(element) / height\n",
        "                        )\n",
        "                    )\n",
        "                )\n",
        "            )\n",
        "        )\n",
        "print(items,element)\n",
        "print(','.join(value))"
      ],
      "execution_count": null,
      "outputs": [
        {
          "output_type": "stream",
          "text": [
            "5,3,1\n",
            "['5', '3', '1'] 1\n",
            "2,2,1\n"
          ],
          "name": "stdout"
        }
      ]
    },
    {
      "cell_type": "markdown",
      "metadata": {
        "id": "MrYaS-uk4YB9"
      },
      "source": [
        "- append와 정규표현식을 활용한 비밀번호 구성하기"
      ]
    },
    {
      "cell_type": "code",
      "metadata": {
        "id": "HXAdmZJj4XGV",
        "colab": {
          "base_uri": "https://localhost:8080/"
        },
        "outputId": "1e1b6f67-dc34-4920-ab7d-7f898e13e635"
      },
      "source": [
        "# 정규표현식 -> module: re\n",
        "\n",
        "import re   # Support for regular expressions (RE).\n",
        "\n",
        "value = []\n",
        "items = [index for index in input().split(',')]\n",
        "\n",
        "# 비밀번호 구성로직\n",
        "for pw in items:\n",
        "    if len(pw) < 6 or len(pw) > 12:\n",
        "        continue\n",
        "    else:\n",
        "        pass\n",
        "    if not re.search(\"[a-z]\",pw):\n",
        "        continue\n",
        "    elif not re.search(\"[0-9]\",pw):\n",
        "        continue\n",
        "    elif not re.search(\"[A-Z]\",pw):\n",
        "        continue\n",
        "    elif not re.search(\"[$#@]\",pw):\n",
        "        continue\n",
        "    elif re.search(\"\\s\",pw):\n",
        "        continue\n",
        "    else:\n",
        "        pass\n",
        "    value.append(pw)\n",
        "print(\",\".join(value))"
      ],
      "execution_count": null,
      "outputs": [
        {
          "output_type": "stream",
          "text": [
            "1,2,3\n",
            "\n"
          ],
          "name": "stdout"
        }
      ]
    },
    {
      "cell_type": "markdown",
      "metadata": {
        "id": "EAOPWaJ_7qdD"
      },
      "source": [
        "- 파이썬 정규표현식 참조 : https://docs.python.org/ko/3.9/howto/regex.html"
      ]
    },
    {
      "cell_type": "markdown",
      "metadata": {
        "id": "aOBjzBGsQQ99"
      },
      "source": [
        "- insert()\n",
        "  - 리스트 중간에 인덱스와 값을 지정하여 값을 추가삽입"
      ]
    },
    {
      "cell_type": "code",
      "metadata": {
        "id": "eMUB96jkQZto"
      },
      "source": [
        "arr_in = ['math', 'biology', 1989, 2019]\n",
        "arr_in.insert(1,2021)\n",
        "arr_in"
      ],
      "execution_count": null,
      "outputs": []
    },
    {
      "cell_type": "markdown",
      "metadata": {
        "id": "Ck3hUUXZ5thl"
      },
      "source": [
        "- del\n",
        "  \n",
        "  - 제거할 항목의 인덱스에 따라 삭제\n",
        "  - 삭제된 값은 확인할 수 없음\n",
        "    - del 활용예시 : 웹사이트에서 **특정 사용자**가 탈퇴하는 경우, **인덱스를 활용하여 삭제가능**"
      ]
    },
    {
      "cell_type": "code",
      "metadata": {
        "id": "SF6k4qCu5zyV"
      },
      "source": [
        "arr_del = [1, 2, 3, 4, 5]\n",
        "del arr_del[0]\n",
        "arr_del"
      ],
      "execution_count": null,
      "outputs": []
    },
    {
      "cell_type": "markdown",
      "metadata": {
        "id": "Hyazrv7S51GP"
      },
      "source": [
        "- remove\n",
        "  - 삭제할 **항목의 값**을 알고 있어야 함(**인덱스가 아니라 값**을 알고 있어야 함)\n",
        "  - 중복되는 값이 있는 경우, 인덱스 순서에 따라 앞 순서에 있는 값만 삭제함"
      ]
    },
    {
      "cell_type": "code",
      "metadata": {
        "id": "77Q4Rxed53BS"
      },
      "source": [
        "arr = [1, 2, 3, 4, 5]\n",
        "arr.remove(2)\n",
        "print(arr)\n",
        "\n",
        "arr_1 = [1, 2, 3, 4, 5,1,1,1]\n",
        "arr_1.remove(1)\n",
        "print(arr_1)\n"
      ],
      "execution_count": null,
      "outputs": []
    },
    {
      "cell_type": "markdown",
      "metadata": {
        "id": "aEQsNmK6S0hS"
      },
      "source": [
        "- pop\n",
        "  - 리스트에서 특정 위치의 값을 빼내는 기능\n",
        "    - pop 활용예시 : 웹에서 로그아웃한 **특정 사용자**를 빼놨다가, 재접속 및 로그인을 위해서 **사용자 목록에 다시 넣을 수 있음**\n",
        "  \n"
      ]
    },
    {
      "cell_type": "code",
      "metadata": {
        "id": "HJSJieaxTdLR"
      },
      "source": [
        "arr_pop = [1, 2, 3, 4, 5,8,9,10]\n",
        "p_1 = arr_pop.pop()\n",
        "\n",
        "print(arr_pop)\n",
        "print(p_1)\n",
        "\n",
        "p_2 = arr_pop.pop()\n",
        "print(arr_pop)\n",
        "print(p_2)\n",
        "\n",
        "p_3 = arr_pop.pop(1)\n",
        "print(arr_pop)\n",
        "print(p_3)"
      ],
      "execution_count": null,
      "outputs": []
    },
    {
      "cell_type": "markdown",
      "metadata": {
        "id": "NxXT8aU73u59"
      },
      "source": [
        "- extend()\n",
        "  - 리스트끼리 이어붙이기"
      ]
    },
    {
      "cell_type": "code",
      "metadata": {
        "id": "H1cJO6mp3c8Z"
      },
      "source": [
        "arr_one = [1, 2, 3, 4, 5]\n",
        "arr_two = [1, 2, 3]\n",
        "arr_one.extend(arr_two)\n",
        "arr_one\n"
      ],
      "execution_count": null,
      "outputs": []
    },
    {
      "cell_type": "markdown",
      "metadata": {
        "id": "1d8RC8mg3wo5"
      },
      "source": [
        "- sum()"
      ]
    },
    {
      "cell_type": "code",
      "metadata": {
        "id": "33-YQ6ZB3eTC"
      },
      "source": [
        "arr = [1, 2, 3, 4, 5]\n",
        "sum(arr)"
      ],
      "execution_count": null,
      "outputs": []
    },
    {
      "cell_type": "markdown",
      "metadata": {
        "id": "m1BfMHxg3yiP"
      },
      "source": [
        "- count()\n",
        "  - 리스트안에 특정 값의 갯수 세기"
      ]
    },
    {
      "cell_type": "code",
      "metadata": {
        "id": "3KCQ9IBB3hxB"
      },
      "source": [
        "arr = [1, 1, 1, 2, 3]\n",
        "print(arr.count(1))\n",
        "\n",
        "print(arr.count(2))\n",
        "\n",
        "print(arr.count(3))"
      ],
      "execution_count": null,
      "outputs": []
    },
    {
      "cell_type": "markdown",
      "metadata": {
        "id": "-BMaqleU30sA"
      },
      "source": [
        "- len()\n",
        "  - 리스트 길이 확인"
      ]
    },
    {
      "cell_type": "code",
      "metadata": {
        "id": "tDFczvhs3lWG"
      },
      "source": [
        "arr = [1, 2, 3, 4, 5]\n",
        "len(arr)"
      ],
      "execution_count": null,
      "outputs": []
    },
    {
      "cell_type": "markdown",
      "metadata": {
        "id": "L_F6X3rL3m_U"
      },
      "source": [
        "- index()\n",
        "  - 리스트 범위에서 특정 값의 인덱스 반환\n"
      ]
    },
    {
      "cell_type": "code",
      "metadata": {
        "id": "mnVx6uwu32N5"
      },
      "source": [
        "arr_two = ['a', 'b', 'c', 'd', 'e', 'a', 'b']\n",
        "print(arr_two.index('a', 1))\n",
        "\n",
        "print(arr_two.index('a', 1, 5)) # 에러해결필요\n",
        "# print(arr_two.index('b', 1, 3))"
      ],
      "execution_count": null,
      "outputs": []
    },
    {
      "cell_type": "markdown",
      "metadata": {
        "id": "D8hUe2pD35NV"
      },
      "source": [
        "- min()\n",
        "  - 최소값 반환\n"
      ]
    },
    {
      "cell_type": "code",
      "metadata": {
        "id": "TYDhWwy437IP"
      },
      "source": [
        "arr = [4, 3, 2.5, 7, 0.7, 9]\n",
        "min(arr)"
      ],
      "execution_count": null,
      "outputs": []
    },
    {
      "cell_type": "markdown",
      "metadata": {
        "id": "5_0Yy2QVWldt"
      },
      "source": [
        "- sort()\n",
        "  - 리스트의 값 자체의 순서를 정렬\n",
        "\n",
        "- sorted()\n",
        "  - 리스트 자체의 순서는 유지하고, 정렬된 순서로 출력만 함"
      ]
    },
    {
      "cell_type": "code",
      "metadata": {
        "id": "T1Mz9mihWzgn"
      },
      "source": [
        "arr = [4, 3, 2.5, 7, 0.7, 9]\n",
        "arr.sort()\n",
        "print(arr)\n",
        "\n",
        "arr.sort(reverse=True)\n",
        "print(arr)   # arr의 순서자체가 바뀜"
      ],
      "execution_count": null,
      "outputs": []
    },
    {
      "cell_type": "code",
      "metadata": {
        "id": "daM5-GUEXfYS"
      },
      "source": [
        "arr = [4, 3, 2.5, 7, 0.7, 9]\n",
        "print(sorted(arr, reverse=True))\n",
        "arr # 주어진 arr은 그대로 유지되어 있음"
      ],
      "execution_count": null,
      "outputs": []
    },
    {
      "cell_type": "markdown",
      "metadata": {
        "id": "CK1sKB2Geql7"
      },
      "source": [
        "- sort와 sorted"
      ]
    },
    {
      "cell_type": "code",
      "metadata": {
        "id": "u--vUGJtesaD"
      },
      "source": [
        "# 주어진 리스트 자체의 순서를 정렬\n",
        "items = [num for num in input().split(',')]\n",
        "items.sort()\n",
        "print(','.join(items))"
      ],
      "execution_count": null,
      "outputs": []
    },
    {
      "cell_type": "code",
      "metadata": {
        "id": "vr65J-e5evfH"
      },
      "source": [
        "# 주어진 리스트값은 유지하고, 정렬된 새로운 값 출력\n",
        "string = input()\n",
        "words = [word for word in string.split(\" \")]\n",
        "print(\" \".join(sorted(words)))"
      ],
      "execution_count": null,
      "outputs": []
    },
    {
      "cell_type": "markdown",
      "metadata": {
        "id": "qc5nDd7KoZsz"
      },
      "source": [
        "- 리스트 정리 : 파이썬 리스트는 배열과 같이 배열의 특징인 **핵심 연산(생성, 인덱스를 통한 접근, 인덱스를 통한 할당, 반복)**을 지원하기 때문이다."
      ]
    },
    {
      "cell_type": "markdown",
      "metadata": {
        "id": "UuFviZYbBebc"
      },
      "source": [
        "### 튜플\n",
        "\n",
        "- immutable : 변경 불가능, mutable : 변경 가능\n",
        "\n",
        "- 튜플도 리스트와 기능은 비슷하게 값을 저장해준다.\n",
        "\n",
        "- 리스트와의 차이점 : **튜플은 특정 값과 인덱스에 대한 값 변경은 불가능**하다.\n",
        "      ex) 리스트 : list = ['a', 'b', 'c']\n",
        "          튜플 : tuple = ('a', 'b', 'c') \n",
        "          리스트는 'a'에 대해서 append()와 같은 메소드를 통해 값변경 가능 \n",
        "          튜플은 값변경 메소드 없으므로 불가능\n"
      ]
    },
    {
      "cell_type": "code",
      "metadata": {
        "id": "LdfbFRI5Bgnh",
        "colab": {
          "base_uri": "https://localhost:8080/"
        },
        "outputId": "18628d98-d7c9-412d-d9b3-878354466922"
      },
      "source": [
        "my_tuple = 'a', 'b', 'c', 'd', 'e'\n",
        "my_tuple"
      ],
      "execution_count": null,
      "outputs": [
        {
          "output_type": "execute_result",
          "data": {
            "text/plain": [
              "('a', 'b', 'c', 'd', 'e')"
            ]
          },
          "metadata": {
            "tags": []
          },
          "execution_count": 96
        }
      ]
    },
    {
      "cell_type": "code",
      "metadata": {
        "id": "qzDX5G2W2lUr",
        "colab": {
          "base_uri": "https://localhost:8080/"
        },
        "outputId": "51f6280b-2e5e-4038-9ea4-a8039b173e67"
      },
      "source": [
        "my_other_tuple = ('f', 'g', 'h', 'i', 'j')\n",
        "my_other_tuple"
      ],
      "execution_count": null,
      "outputs": [
        {
          "output_type": "execute_result",
          "data": {
            "text/plain": [
              "('f', 'g', 'h', 'i', 'j')"
            ]
          },
          "metadata": {
            "tags": []
          },
          "execution_count": 97
        }
      ]
    },
    {
      "cell_type": "code",
      "metadata": {
        "id": "sjKzaYLw2n7h",
        "colab": {
          "base_uri": "https://localhost:8080/"
        },
        "outputId": "efbe2af3-8878-4fb9-8e94-24e7f2375419"
      },
      "source": [
        "t = tuple('lambda')\n",
        "t"
      ],
      "execution_count": null,
      "outputs": [
        {
          "output_type": "execute_result",
          "data": {
            "text/plain": [
              "('l', 'a', 'm', 'b', 'd', 'a')"
            ]
          },
          "metadata": {
            "tags": []
          },
          "execution_count": 98
        }
      ]
    },
    {
      "cell_type": "markdown",
      "metadata": {
        "id": "sQYr5LwY2pxy"
      },
      "source": [
        "튜플이 변경 불가능(immnutable)한지 확인해보자."
      ]
    },
    {
      "cell_type": "code",
      "metadata": {
        "id": "jZkK3AYx2rWO",
        "colab": {
          "base_uri": "https://localhost:8080/",
          "height": 230
        },
        "outputId": "215b9193-5bdd-4215-9f89-162fff31390a"
      },
      "source": [
        "t[0] = 'L' # tuple - immutable\n",
        "print(t)\n",
        "\n",
        "#t = 'L'\n",
        "print(t)"
      ],
      "execution_count": null,
      "outputs": [
        {
          "output_type": "error",
          "ename": "TypeError",
          "evalue": "ignored",
          "traceback": [
            "\u001b[0;31m---------------------------------------------------------------------------\u001b[0m",
            "\u001b[0;31mTypeError\u001b[0m                                 Traceback (most recent call last)",
            "\u001b[0;32m<ipython-input-99-efd09d562008>\u001b[0m in \u001b[0;36m<module>\u001b[0;34m()\u001b[0m\n\u001b[0;32m----> 1\u001b[0;31m \u001b[0mt\u001b[0m\u001b[0;34m[\u001b[0m\u001b[0;36m0\u001b[0m\u001b[0;34m]\u001b[0m \u001b[0;34m=\u001b[0m \u001b[0;34m'L'\u001b[0m \u001b[0;31m# tuple - immutable\u001b[0m\u001b[0;34m\u001b[0m\u001b[0;34m\u001b[0m\u001b[0m\n\u001b[0m\u001b[1;32m      2\u001b[0m \u001b[0mprint\u001b[0m\u001b[0;34m(\u001b[0m\u001b[0mt\u001b[0m\u001b[0;34m)\u001b[0m\u001b[0;34m\u001b[0m\u001b[0;34m\u001b[0m\u001b[0m\n\u001b[1;32m      3\u001b[0m \u001b[0;34m\u001b[0m\u001b[0m\n\u001b[1;32m      4\u001b[0m \u001b[0;31m#t = 'L'\u001b[0m\u001b[0;34m\u001b[0m\u001b[0;34m\u001b[0m\u001b[0;34m\u001b[0m\u001b[0m\n\u001b[1;32m      5\u001b[0m \u001b[0mprint\u001b[0m\u001b[0;34m(\u001b[0m\u001b[0mt\u001b[0m\u001b[0;34m)\u001b[0m\u001b[0;34m\u001b[0m\u001b[0;34m\u001b[0m\u001b[0m\n",
            "\u001b[0;31mTypeError\u001b[0m: 'tuple' object does not support item assignment"
          ]
        }
      ]
    },
    {
      "cell_type": "code",
      "metadata": {
        "id": "UsVP1rPfYuj6"
      },
      "source": [
        "arr = [4, 3, 2.5, 7, 0.7, 9] # list - mutable\n",
        "arr[1] = 1\n",
        "print(arr)"
      ],
      "execution_count": null,
      "outputs": []
    },
    {
      "cell_type": "markdown",
      "metadata": {
        "id": "vf9SBDLc5KdQ"
      },
      "source": [
        "#### 튜플 메소드\n",
        "\n",
        "- count() : 튜플 내 해당 숫자가 몇 개인지 세는 기능\n"
      ]
    },
    {
      "cell_type": "code",
      "metadata": {
        "id": "_YlrxXdA5UpF"
      },
      "source": [
        "my_tuple = (1, 3, 4, 5, 2, 3, 4, 6, 7, 2)\n",
        "x = my_tuple.count(4)\n",
        "x"
      ],
      "execution_count": null,
      "outputs": []
    },
    {
      "cell_type": "markdown",
      "metadata": {
        "id": "nycRTB0E5XAO"
      },
      "source": [
        "- index() : 특정 값의 인덱스(순서)를 알려주는 기능\n",
        "  - 리스트의 index 메소드와는 다름\n"
      ]
    },
    {
      "cell_type": "code",
      "metadata": {
        "id": "R8o-wNhj5Yhi"
      },
      "source": [
        "my_tuple = (1, 3, 7, 2, 7, 5, 3, 2, 9, 3)\n",
        "x = my_tuple.index(7)\n",
        "x"
      ],
      "execution_count": null,
      "outputs": []
    },
    {
      "cell_type": "markdown",
      "metadata": {
        "id": "o7vqldTRgYUb"
      },
      "source": [
        "### set\n",
        "\n",
        "- 파이썬은 딕셔너리와 비슷한 set이라는 기능을 제공함\n",
        "\n",
        "  - 리스트,딕셔너리와 차이점 : **set은 중복값을 제외**한다.\n",
        "\n",
        "  - set은 각 값이 **고유한 데이터 형식이며, 순서가 없다.**\n",
        "\n",
        "  - 딕셔너리와 차이점 : set은 키와 매핑되는 값이 없다."
      ]
    },
    {
      "cell_type": "code",
      "metadata": {
        "id": "brLrYz9e2vgw"
      },
      "source": [
        "# set 표현법1\n",
        "my_first_set = {'tree', 'building', 'sky'}\n",
        "my_first_set"
      ],
      "execution_count": null,
      "outputs": []
    },
    {
      "cell_type": "code",
      "metadata": {
        "id": "QnKfR8ssMuYo",
        "colab": {
          "base_uri": "https://localhost:8080/"
        },
        "outputId": "404c111c-a00e-453f-856f-14174d526713"
      },
      "source": [
        "# set 표현법2 - 중복제외\n",
        "set1 = set([1,2,3,1])\n",
        "set1"
      ],
      "execution_count": null,
      "outputs": [
        {
          "output_type": "execute_result",
          "data": {
            "text/plain": [
              "{1, 2, 3}"
            ]
          },
          "metadata": {
            "tags": []
          },
          "execution_count": 84
        }
      ]
    },
    {
      "cell_type": "code",
      "metadata": {
        "id": "Hswys_k_NCIV"
      },
      "source": [
        "# set 표현법3 - 순서가 없다.(인덱스를 활용할 수 없다.)\n",
        "set2 = set('hello')\n",
        "set2  \n",
        "\n",
        "set2[0] # 인덱스를 지원하지 않음(셋과 딕셔너리 공통사항)"
      ],
      "execution_count": null,
      "outputs": []
    },
    {
      "cell_type": "code",
      "metadata": {
        "id": "qoMSDxevN3Uk",
        "colab": {
          "base_uri": "https://localhost:8080/"
        },
        "outputId": "18b2a2e4-1e82-47bf-e7aa-625feabe4ed8"
      },
      "source": [
        "# set의 교집합\n",
        "set3 = set([1,2,3,5])\n",
        "print(set1 & set3)\n",
        "\n",
        "print(set1.intersection(set3))"
      ],
      "execution_count": null,
      "outputs": [
        {
          "output_type": "stream",
          "text": [
            "{1, 2, 3}\n",
            "{1, 2, 3}\n"
          ],
          "name": "stdout"
        }
      ]
    },
    {
      "cell_type": "code",
      "metadata": {
        "id": "I9xKNErpOIiT"
      },
      "source": [
        "# set의 합집합\n",
        "print(set1 | set3)\n",
        "print(set1.union(set3))"
      ],
      "execution_count": null,
      "outputs": []
    },
    {
      "cell_type": "code",
      "metadata": {
        "id": "mlMVAzDqOYsS"
      },
      "source": [
        "# set의 차집합\n",
        "print(set1 - set3)    # 1,2,3 - 1,2,3,5\n",
        "print(set3 - set1)    # 1,2,3,5 - 1,2,3\n",
        "print(set1.difference(set3))\n",
        "print(set3.difference(set1))"
      ],
      "execution_count": null,
      "outputs": []
    },
    {
      "cell_type": "markdown",
      "metadata": {
        "id": "GcHkn47s5a3l"
      },
      "source": [
        "#### 셋 메소드\n",
        "\n",
        "- add()\n"
      ]
    },
    {
      "cell_type": "code",
      "metadata": {
        "id": "YnAwt_515dda"
      },
      "source": [
        "fruits = {\"apple\", \"banana\", \"cherry\"}\n",
        "fruits.add(\"orange\")\n",
        "print(fruits)\n",
        "\n",
        "fruits.add(\"banana\")\n",
        "print(fruits)"
      ],
      "execution_count": null,
      "outputs": []
    },
    {
      "cell_type": "markdown",
      "metadata": {
        "id": "1N6Gmo6H5fLX"
      },
      "source": [
        "- clear()\n"
      ]
    },
    {
      "cell_type": "code",
      "metadata": {
        "id": "KHC4hgU35g72"
      },
      "source": [
        "fruits = {\"apple\", \"banana\", \"cherry\"}\n",
        "fruits.clear()\n",
        "fruits"
      ],
      "execution_count": null,
      "outputs": []
    },
    {
      "cell_type": "markdown",
      "metadata": {
        "id": "UbobKDVR5iHG"
      },
      "source": [
        "- copy()\n"
      ]
    },
    {
      "cell_type": "code",
      "metadata": {
        "id": "o2Pz9JWF5jt9"
      },
      "source": [
        "fruits = {\"apple\", \"banana\", \"cherry\"}\n",
        "x = fruits.copy()\n",
        "x"
      ],
      "execution_count": null,
      "outputs": []
    },
    {
      "cell_type": "markdown",
      "metadata": {
        "id": "bIxdbGAU5lHE"
      },
      "source": [
        "- difference()\n"
      ]
    },
    {
      "cell_type": "code",
      "metadata": {
        "id": "BDyGiUM85mpf"
      },
      "source": [
        "x = {\"apple\", \"banana\", \"cherry\"}\n",
        "y = {\"google\", \"microsoft\", \"apple\"}\n",
        "z = x.difference(y)   # x를 기준으로 y와의 다른점\n",
        "print(z)\n",
        "\n",
        "a = y.difference(x)   # y를 기준으로 x와의 다른점\n",
        "print(a)"
      ],
      "execution_count": null,
      "outputs": []
    },
    {
      "cell_type": "markdown",
      "metadata": {
        "id": "4lGSHFOb5rYF"
      },
      "source": [
        "- discard()\n"
      ]
    },
    {
      "cell_type": "code",
      "metadata": {
        "id": "PZHnR2Lm5tCE"
      },
      "source": [
        "fruits = {\"apple\", \"banana\", \"cherry\"}\n",
        "fruits.discard(\"banana\")\n",
        "print(fruits)\n",
        "\n",
        "fruits.discard(\"orange\")\n",
        "print(fruits)"
      ],
      "execution_count": null,
      "outputs": []
    },
    {
      "cell_type": "markdown",
      "metadata": {
        "id": "D6XFyW5d5ulj"
      },
      "source": [
        "- intersection()\n"
      ]
    },
    {
      "cell_type": "code",
      "metadata": {
        "id": "FRL3estX5wXQ"
      },
      "source": [
        "x = {\"apple\", \"banana\", \"cherry\"}\n",
        "y = {\"google\", \"microsoft\", \"apple\"}\n",
        "z = x.intersection(y)\n",
        "print(z)\n",
        "\n",
        "x = {\"a\", \"b\", \"c\"}\n",
        "y = {\"c\", \"d\", \"e\"}\n",
        "z = {\"f\", \"g\", \"c\"}\n",
        "result = x.intersection(y, z)\n",
        "print(result)"
      ],
      "execution_count": null,
      "outputs": []
    },
    {
      "cell_type": "markdown",
      "metadata": {
        "id": "R3OuSQsygc-_"
      },
      "source": [
        "### 딕셔너리\n",
        "\n",
        "- **키를 기반으로 값을 저장**한다. \n",
        "\n",
        "  - 내부적으로 해시테이블로 구현되어 있음(해시테이블에 대해서는 알고리즘에서 다룰 예정)\n"
      ]
    },
    {
      "cell_type": "markdown",
      "metadata": {
        "id": "PnUZ0LlmJ9Vo"
      },
      "source": [
        "- 주의사항 : 파이썬 3.6 이하에서는 딕셔너리가 해시테이블로 구현된 자료형이기 때문에, 입력 순서를 고려하지 않는다.\n",
        "\n",
        "  - 그래서 파이썬 3.6 이하에서는 OrderedDict라는 별도의 object를 제공한다.\n",
        "  - 개발환경을 고려하면서 딕셔너리를 활용해야 한다."
      ]
    },
    {
      "cell_type": "code",
      "metadata": {
        "id": "CMYMvICINAGe",
        "colab": {
          "base_uri": "https://localhost:8080/"
        },
        "outputId": "c1914de8-520d-4e03-8a1a-4ad0a3edd705"
      },
      "source": [
        "import sys\n",
        "print(sys.version)"
      ],
      "execution_count": null,
      "outputs": [
        {
          "output_type": "stream",
          "text": [
            "3.6.9 (default, Oct  8 2020, 12:12:24) \n",
            "[GCC 8.4.0]\n"
          ],
          "name": "stdout"
        }
      ]
    },
    {
      "cell_type": "code",
      "metadata": {
        "id": "LR5p1m_xKK1P",
        "colab": {
          "base_uri": "https://localhost:8080/"
        },
        "outputId": "36c462e8-71a4-4683-e02b-249d63668c8e"
      },
      "source": [
        "# 다음과 같이 입력값을 부여할 경우, OrderedDict는 입력 그대로 순서가 유지됨\n",
        "from collections import OrderedDict\n",
        "dict_test = {'test':1, 'test2':5, 'gui':4, 'black':2}\n",
        "\n",
        "#dict_test # OrderedDict 활용하지 않는 경우, 키를 기준으로 정렬됨\n",
        "\n",
        "OrderedDict(dict_test)  # OrderedDict 활용하는 경우, 입력된 딕셔너리 키와 값 순서 그대로 유지됨"
      ],
      "execution_count": null,
      "outputs": [
        {
          "output_type": "execute_result",
          "data": {
            "text/plain": [
              "OrderedDict([('test', 1), ('test2', 5), ('gui', 4), ('black', 2)])"
            ]
          },
          "metadata": {
            "tags": []
          },
          "execution_count": 94
        }
      ]
    },
    {
      "cell_type": "code",
      "metadata": {
        "id": "enASm8rc2bit"
      },
      "source": [
        "# 딕셔너리 선언 형식\n",
        "eng_sp = dict()\n",
        "print(eng_sp)\n",
        "\n",
        "eng_sp['one'] = 'uno'\n",
        "print(eng_sp)\n",
        "\n",
        "eng_sp = {'one': 'uno', 'two': 'dos', 'three': 'tres'}\n",
        "print(eng_sp)"
      ],
      "execution_count": null,
      "outputs": []
    },
    {
      "cell_type": "markdown",
      "metadata": {
        "id": "9vXEMNEa4Dd5"
      },
      "source": [
        "#### 딕셔너리 메소드\n",
        "\n",
        "- clear()"
      ]
    },
    {
      "cell_type": "code",
      "metadata": {
        "id": "T8IgxrS44Q4m"
      },
      "source": [
        "car = {\n",
        "     \"brand\": \"Honda\",\n",
        "     \"model\": \"CR-V\",\n",
        "     \"year\": 2002\n",
        " }\n",
        "print(car)\n",
        "\n",
        "car.clear()\n",
        "print(car)"
      ],
      "execution_count": null,
      "outputs": []
    },
    {
      "cell_type": "markdown",
      "metadata": {
        "id": "xxCAW2fR4S-l"
      },
      "source": [
        "- copy()\n"
      ]
    },
    {
      "cell_type": "code",
      "metadata": {
        "id": "WuODucfo4Ur-"
      },
      "source": [
        "car = {\n",
        "     \"brand\": \"Honda\",\n",
        "     \"model\": \"CR-V\",\n",
        "     \"year\": 2002\n",
        " }\n",
        "carbon_copy = car.copy()\n",
        "print(carbon_copy)\n",
        "\n",
        "print(car)"
      ],
      "execution_count": null,
      "outputs": []
    },
    {
      "cell_type": "markdown",
      "metadata": {
        "id": "5VyMLIei4czV"
      },
      "source": [
        "- fromkeys()\n"
      ]
    },
    {
      "cell_type": "code",
      "metadata": {
        "id": "XyNKVbgg4eZd"
      },
      "source": [
        "x = ('key1', 'key2', 'key3')\n",
        "y = 1\n",
        "new_dict = dict.fromkeys(x, y)\n",
        "print(new_dict)\n",
        "\n",
        "dict_without_values = dict.fromkeys(x)\n",
        "print(dict_without_values)"
      ],
      "execution_count": null,
      "outputs": []
    },
    {
      "cell_type": "markdown",
      "metadata": {
        "id": "vq_1emRl4fyx"
      },
      "source": [
        "- get()\n"
      ]
    },
    {
      "cell_type": "code",
      "metadata": {
        "id": "Mqxpa0E34hdT"
      },
      "source": [
        "car = {\n",
        "     \"brand\": \"Honda\",\n",
        "     \"model\": \"CR-V\",\n",
        "     \"year\": 2002\n",
        " }\n",
        "x = car.get(\"model\")\n",
        "print(x)"
      ],
      "execution_count": null,
      "outputs": []
    },
    {
      "cell_type": "markdown",
      "metadata": {
        "id": "paP6898V4jGP"
      },
      "source": [
        "- items()\n"
      ]
    },
    {
      "cell_type": "code",
      "metadata": {
        "id": "KG58JGgU4lgD"
      },
      "source": [
        "car = {\n",
        "     \"brand\": \"Honda\",\n",
        "     \"model\": \"CR-V\",\n",
        "     \"year\": 2002\n",
        " }\n",
        "x = car.items()\n",
        "x"
      ],
      "execution_count": null,
      "outputs": []
    },
    {
      "cell_type": "markdown",
      "metadata": {
        "id": "jkUis9UF4tyC"
      },
      "source": [
        "- keys()\n"
      ]
    },
    {
      "cell_type": "code",
      "metadata": {
        "id": "MWwzZDa-4vc6"
      },
      "source": [
        "car = {\n",
        "     \"brand\": \"Honda\",\n",
        "     \"model\": \"CR-V\",\n",
        "     \"year\": 2002\n",
        " }\n",
        "x = car.keys()\n",
        "x"
      ],
      "execution_count": null,
      "outputs": []
    },
    {
      "cell_type": "markdown",
      "metadata": {
        "id": "KbpXlpsH4zqO"
      },
      "source": [
        "- pop()\n"
      ]
    },
    {
      "cell_type": "code",
      "metadata": {
        "id": "cH_-jlpM418T"
      },
      "source": [
        "car = {\n",
        "     \"brand\": \"Honda\",\n",
        "     \"model\": \"CR-V\",\n",
        "     \"year\": 2002\n",
        " }\n",
        "x = car.pop(\"model\")\n",
        "x"
      ],
      "execution_count": null,
      "outputs": []
    },
    {
      "cell_type": "markdown",
      "metadata": {
        "id": "1pFGum7W45GR"
      },
      "source": [
        "- popitem()\n"
      ]
    },
    {
      "cell_type": "code",
      "metadata": {
        "id": "pV0g_cY0466T"
      },
      "source": [
        "car = {\n",
        "     \"brand\": \"Honda\",\n",
        "     \"model\": \"CR-V\",\n",
        "     \"year\": 2002\n",
        " }\n",
        "print(car.popitem())\n",
        "\n",
        "print(car)\n",
        "\n",
        "car[\"price\"] = 4000\n",
        "print(car)\n",
        "\n",
        "print(car.popitem())\n",
        "\n",
        "print(car)"
      ],
      "execution_count": null,
      "outputs": []
    },
    {
      "cell_type": "markdown",
      "metadata": {
        "id": "na1WSrmM49jN"
      },
      "source": [
        "- setdefault()\n"
      ]
    },
    {
      "cell_type": "code",
      "metadata": {
        "id": "-DvbpODp4_MX"
      },
      "source": [
        "car = {\n",
        "     \"brand\": \"Honda\",\n",
        "     \"model\": \"CR-V\",\n",
        "     \"year\": 2002\n",
        " }\n",
        "x = car.setdefault(\"model\", \"Odyssey\")\n",
        "print(x)\n",
        "\n",
        "y = car.setdefault(\"color\", \"black\")\n",
        "print(y)\n",
        "\n",
        "print(car)"
      ],
      "execution_count": null,
      "outputs": []
    },
    {
      "cell_type": "markdown",
      "metadata": {
        "id": "Ovl4NJB35Bub"
      },
      "source": [
        "- update()\n"
      ]
    },
    {
      "cell_type": "code",
      "metadata": {
        "id": "79AsdiDe5Dw3"
      },
      "source": [
        "car = {\n",
        "     \"brand\": \"Honda\",\n",
        "     \"model\": \"CR-V\",\n",
        "     \"year\": 2002\n",
        " }\n",
        "car.update({\"color\": \"black\"})\n",
        "print(car)"
      ],
      "execution_count": null,
      "outputs": []
    },
    {
      "cell_type": "markdown",
      "metadata": {
        "id": "GCBsE-bI5Fsc"
      },
      "source": [
        "- values()\n"
      ]
    },
    {
      "cell_type": "code",
      "metadata": {
        "id": "rC5RcHmC5Hk2"
      },
      "source": [
        "car = {\n",
        "     \"brand\": \"Honda\",\n",
        "     \"model\": \"CR-V\",\n",
        "     \"year\": 2002\n",
        " }\n",
        "x = car.values()\n",
        "print(x)\n",
        "\n",
        "car[\"color\"] = \"black\"\n",
        "print(x)"
      ],
      "execution_count": null,
      "outputs": []
    },
    {
      "cell_type": "markdown",
      "metadata": {
        "id": "rT2vnJdV2zoE"
      },
      "source": [
        "### 컬렉션 상황정리\n",
        "\n",
        "- 데이터 순서를 **동적으로** 조절하려면, 리스트 사용을 권장.\n",
        "\n",
        "- 데이터가 **변경되지 않도록 저장**하려면, 튜플 사용을 권장.\n",
        "\n",
        "- **키와 값에 따른 데이터**를 효율적으로 보려면, 딕셔너리 사용을 권장.\n",
        "\n",
        "- 단순히 **순서에 상관없이 특정 데이터**를 알기 원한다면, 셋 사용을 권장.\n"
      ]
    },
    {
      "cell_type": "markdown",
      "metadata": {
        "id": "pfvovxFpa0Cg"
      },
      "source": [
        "💡 생각하는 시간 : 하루는 24시간이지만 쓸 수 있는 시간은 한정되있다.(눈으로 해결하지 말고 무조건 작성하자)\n",
        "\n",
        "- 다양한 것들을 알게 되었을 때 기존에 완성된 것을 분석하고 이해하는 것이 좋은 학습방법이다.\n",
        "\n",
        "  - 단, 중요한 점은 목표와 주제에 맞게 알고 이해해야된다.\n",
        "\n",
        "  - 주어진 문제와 주제가 무엇인지 모르고 코드만 보면 목적없이 흘러간다.\n",
        "\n",
        "- 배운 것이 어렵다면 자신이 표현하기 쉬운 말로 직접 손으로 써가면서 표현해본다.\n",
        "\n",
        "  - 모르는 것이 있다면 무조건 쪼개서 분석한다.\n",
        "\n",
        "  - 한 문단, 한 문장, 한 단어 단위로 모르는 것이 있으면 작은 단위로 나눠서 쉽게 해석해본다."
      ]
    },
    {
      "cell_type": "code",
      "metadata": {
        "colab": {
          "base_uri": "https://localhost:8080/"
        },
        "id": "YiUfhtTGb0BU",
        "outputId": "aed3a24d-de18-4854-c725-b1f1ef7455d0"
      },
      "source": [
        "5*2/2"
      ],
      "execution_count": null,
      "outputs": [
        {
          "output_type": "execute_result",
          "data": {
            "text/plain": [
              "5.0"
            ]
          },
          "metadata": {
            "tags": []
          },
          "execution_count": 95
        }
      ]
    },
    {
      "cell_type": "markdown",
      "metadata": {
        "id": "9H9XAmbTz5D6"
      },
      "source": [
        "# 💁하루정리"
      ]
    },
    {
      "cell_type": "markdown",
      "metadata": {
        "id": "RDs7HSDtvwp7"
      },
      "source": [
        "## 우리가 오늘 배운 것\n",
        "\n",
        "    1) 파이썬의 기본 표현법\n",
        "    2) 파이썬의 기본 자료형\n",
        "    3) 파이썬의 컬렉션 자료형 \n",
        "\n",
        "## 우리가 오늘 해야할 것\n",
        "\n",
        "    1) 파이썬의 표현법에 익숙해지기\n",
        "    2) 컬렉션 자료형의 다양한 형태를 소스코드로 익히기"
      ]
    },
    {
      "cell_type": "markdown",
      "metadata": {
        "id": "ENwIeHXARjHx"
      },
      "source": [
        "추가참조\n",
        "\n",
        "- 파이썬 자주하는 질문답변 : https://docs.python.org/ko/3/faq/programming.html?highlight=%EC%8B%9C%ED%80%80%EC%8A%A4#how-do-i-convert-between-tuples-and-lists\n",
        "\n",
        "- 파이썬 리스트, 튜플, 셋, 딕셔너리 메소드 참고내용 : https://docs.python.org/ko/3/tutorial/datastructures.html#more-on-lists\n",
        "\n",
        "- 파이썬 내장함수 목록 : https://docs.python.org/ko/3/library/functions.html"
      ]
    }
  ]
}